{
 "cells": [
  {
   "cell_type": "code",
   "execution_count": 65,
   "id": "00feaf1a",
   "metadata": {},
   "outputs": [],
   "source": [
    "import tflite_runtime.interpreter as tflite\n",
    "import numpy as np\n",
    "from PIL import Image \n",
    "import glob"
   ]
  },
  {
   "cell_type": "code",
   "execution_count": 66,
   "id": "a1bfecd3",
   "metadata": {},
   "outputs": [],
   "source": [
    "interpreter = tflite.Interpreter(model_path=\"digit_model_quant.tflite_int8.tflite\")\n",
    "interpreter.allocate_tensors()"
   ]
  },
  {
   "cell_type": "code",
   "execution_count": 67,
   "id": "6a33b544",
   "metadata": {},
   "outputs": [
    {
     "name": "stdout",
     "output_type": "stream",
     "text": [
      "Found 50 .bmp files\n"
     ]
    }
   ],
   "source": [
    "path = \"../data/raw_images/sample/\"\n",
    "file_format = \".bmp\"\n",
    "files = [files for files in glob.glob(path + \"*\" + file_format, recursive=False)]\n",
    "print(\"Found {0} {1} files\".format(len(files), file_format))"
   ]
  },
  {
   "cell_type": "code",
   "execution_count": 68,
   "id": "a52dde06",
   "metadata": {},
   "outputs": [
    {
     "name": "stdout",
     "output_type": "stream",
     "text": [
      "[{'name': 'input_6', 'index': 0, 'shape': array([ 1, 25, 15,  3], dtype=int32), 'shape_signature': array([-1, 25, 15,  3], dtype=int32), 'dtype': <class 'numpy.int8'>, 'quantization': (0.0013533256715163589, -128), 'quantization_parameters': {'scales': array([0.00135333], dtype=float32), 'zero_points': array([-128], dtype=int32), 'quantized_dimension': 0}, 'sparsity_parameters': {}}]\n",
      "[{'name': 'Identity', 'index': 21, 'shape': array([ 1, 10], dtype=int32), 'shape_signature': array([-1, 10], dtype=int32), 'dtype': <class 'numpy.int8'>, 'quantization': (0.00390625, -128), 'quantization_parameters': {'scales': array([0.00390625], dtype=float32), 'zero_points': array([-128], dtype=int32), 'quantized_dimension': 0}, 'sparsity_parameters': {}}]\n"
     ]
    }
   ],
   "source": [
    "input_details = interpreter.get_input_details()\n",
    "output_details = interpreter.get_output_details()\n",
    "# input details\n",
    "print(input_details)\n",
    "# output details\n",
    "print(output_details)"
   ]
  },
  {
   "cell_type": "code",
   "execution_count": 69,
   "id": "ccd3bf56",
   "metadata": {},
   "outputs": [],
   "source": [
    "class_names = [\"0\",\"1\",\"2\",\"3\",\"4\",\"5\",\"6\",\"7\",\"8\",\"9\"]"
   ]
  },
  {
   "cell_type": "code",
   "execution_count": 70,
   "id": "25583caf",
   "metadata": {},
   "outputs": [
    {
     "name": "stdout",
     "output_type": "stream",
     "text": [
      "../data/raw_images/sample/5 0\n",
      "../data/raw_images/sample/8 1\n",
      "../data/raw_images/sample/7 0\n",
      "../data/raw_images/sample/7 0\n",
      "../data/raw_images/sample/0 0\n",
      "../data/raw_images/sample/9 0\n",
      "../data/raw_images/sample/2 0\n",
      "../data/raw_images/sample/7 0\n",
      "../data/raw_images/sample/5 0\n",
      "../data/raw_images/sample/9 0\n",
      "../data/raw_images/sample/9 1\n",
      "../data/raw_images/sample/5 0\n",
      "../data/raw_images/sample/6 6\n",
      "../data/raw_images/sample/8 0\n",
      "../data/raw_images/sample/4 6\n",
      "../data/raw_images/sample/6 0\n",
      "../data/raw_images/sample/3 3\n",
      "../data/raw_images/sample/0 0\n",
      "../data/raw_images/sample/3 0\n",
      "../data/raw_images/sample/6 0\n",
      "../data/raw_images/sample/1 6\n",
      "../data/raw_images/sample/5 0\n",
      "../data/raw_images/sample/4 6\n",
      "../data/raw_images/sample/3 6\n",
      "../data/raw_images/sample/0 0\n",
      "../data/raw_images/sample/1 6\n",
      "../data/raw_images/sample/3 0\n",
      "../data/raw_images/sample/8 0\n",
      "../data/raw_images/sample/4 0\n",
      "../data/raw_images/sample/2 0\n",
      "../data/raw_images/sample/0 0\n",
      "../data/raw_images/sample/5 0\n",
      "../data/raw_images/sample/2 0\n",
      "../data/raw_images/sample/9 0\n",
      "../data/raw_images/sample/8 0\n",
      "../data/raw_images/sample/4 0\n",
      "../data/raw_images/sample/7 0\n",
      "../data/raw_images/sample/6 1\n",
      "../data/raw_images/sample/2 6\n",
      "../data/raw_images/sample/1 6\n",
      "../data/raw_images/sample/8 0\n",
      "../data/raw_images/sample/9 0\n",
      "../data/raw_images/sample/7 6\n",
      "../data/raw_images/sample/1 6\n",
      "../data/raw_images/sample/3 6\n",
      "../data/raw_images/sample/0 1\n",
      "../data/raw_images/sample/4 0\n",
      "../data/raw_images/sample/6 0\n",
      "../data/raw_images/sample/1 6\n",
      "../data/raw_images/sample/2 0\n"
     ]
    }
   ],
   "source": [
    "for f in files:\n",
    "    # Read image\n",
    "    test_image = Image.open(f)\n",
    "    test_image = test_image.resize((15, 25), Image.NEAREST)\n",
    "    test_image = np.array(test_image, dtype=\"int8\")\n",
    "    img = np.reshape(test_image,[1,25,15,3])\n",
    "    input_details = interpreter.get_input_details()\n",
    "    output_details = interpreter.get_output_details()\n",
    "    interpreter.set_tensor(input_details[0]['index'], img)\n",
    "    interpreter.invoke()\n",
    "    output_data = interpreter.get_tensor(output_details[0]['index'])\n",
    "    predicted = class_names[np.argmax(output_data)]\n",
    "    \n",
    "    print(f[:27], predicted)"
   ]
  }
 ],
 "metadata": {
  "kernelspec": {
   "display_name": "Python 3 (ipykernel)",
   "language": "python",
   "name": "python3"
  },
  "language_info": {
   "codemirror_mode": {
    "name": "ipython",
    "version": 3
   },
   "file_extension": ".py",
   "mimetype": "text/x-python",
   "name": "python",
   "nbconvert_exporter": "python",
   "pygments_lexer": "ipython3",
   "version": "3.8.10"
  }
 },
 "nbformat": 4,
 "nbformat_minor": 5
}
