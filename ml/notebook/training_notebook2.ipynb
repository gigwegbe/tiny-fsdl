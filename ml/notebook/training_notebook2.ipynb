{
 "cells": [
  {
   "cell_type": "markdown",
   "metadata": {},
   "source": [
    "# CNN Training\n",
    "\n",
    "Target of this code is to train a CNN network to classify images of a digital readout to the digits 0 to 9. \n",
    "\n",
    "### Preparing the training\n",
    "* First all libraries are loaded\n",
    "    * It is assumed, that they are installed during the Python setup\n",
    "* matplotlib is set to print the output inline in the jupyter notebook"
   ]
  },
  {
   "cell_type": "code",
   "execution_count": 1,
   "metadata": {
    "scrolled": true
   },
   "outputs": [
    {
     "name": "stderr",
     "output_type": "stream",
     "text": [
      "2022-10-13 23:02:46.544839: I tensorflow/stream_executor/platform/default/dso_loader.cc:53] Successfully opened dynamic library libcudart.so.11.0\n"
     ]
    }
   ],
   "source": [
    "########### Basic Parameters for Running: ################################\n",
    "    \n",
    "TFliteNamingAndVersion = \"testing\"   # Used for tflite Filename\n",
    "Training_Percentage = 0.2              # 0.0 = Use all Images for Training\n",
    "Epochs = 200\n",
    "\n",
    "##########################################################################\n",
    "\n",
    "\n",
    "import tensorflow as tf\n",
    "import matplotlib.pyplot as plt\n",
    "import glob\n",
    "import os\n",
    "import numpy as np\n",
    "from sklearn.utils import shuffle\n",
    "from tensorflow.python import keras\n",
    "from tensorflow.python.keras import Sequential\n",
    "from tensorflow.keras.layers import Dense, InputLayer, Conv2D, MaxPool2D, Flatten, BatchNormalization\n",
    "from tensorflow.keras.preprocessing.image import ImageDataGenerator\n",
    "from sklearn.model_selection import train_test_split\n",
    "from tensorflow.keras.callbacks import History \n",
    "from tensorflow.keras.utils import to_categorical\n",
    "from PIL import Image \n",
    "from pathlib import Path\n",
    "\n",
    "loss_ges = np.array([])\n",
    "val_loss_ges = np.array([])\n",
    "\n",
    "%matplotlib inline\n",
    "np.set_printoptions(precision=4)\n",
    "np.set_printoptions(suppress=True)"
   ]
  },
  {
   "cell_type": "markdown",
   "metadata": {},
   "source": [
    "### Load training data\n",
    "* The data is expected in the \"Input_dir\"\n",
    "* Inside subdirectories are expected from 0, 1, ... 9 in which the pictures are sorted according to their values (=category)\n",
    "* Picture size must be 15x25 with 3 color channels (RGB)\n",
    "* The filename can be arbitrary\n",
    "\n",
    "* The images are stored in the x_data[]\n",
    "* The expected category for each image in the corresponding y_data[]\n",
    "\n",
    "* The last step is a shuffle (from sklearn.utils) and split the data into training and validation data"
   ]
  },
  {
   "cell_type": "code",
   "execution_count": 4,
   "metadata": {
    "scrolled": false
   },
   "outputs": [
    {
     "name": "stdout",
     "output_type": "stream",
     "text": [
      "(8279, 25, 15, 3)\n",
      "(8279, 10)\n"
     ]
    }
   ],
   "source": [
    "Input_dir='../data/raw_images/labelled_bmp_data_equal_combined_final'\n",
    "\n",
    "files = glob.glob(Input_dir + '/*.bmp')\n",
    "x_data = []\n",
    "y_data = []\n",
    "\n",
    "for file in files:\n",
    "    base = os.path.basename(file)\n",
    "    target = base[0:1]\n",
    "    category = int(target)\n",
    "    test_image = Image.open(file)\n",
    "    test_image = np.array(test_image, dtype=\"int8\")\n",
    "    x_data.append(test_image)\n",
    "    y_data.append(np.array([category]))\n",
    "\n",
    "x_data = np.array(x_data)\n",
    "y_data = np.array(y_data)\n",
    "y_data = to_categorical(y_data, 10)\n",
    "print(x_data.shape)\n",
    "print(y_data.shape)\n",
    "\n",
    "x_data, y_data = shuffle(x_data, y_data)\n",
    "\n",
    "if (Training_Percentage > 0):\n",
    "    X_train, X_test, y_train, y_test = train_test_split(x_data, y_data, test_size=Training_Percentage)\n",
    "else:\n",
    "    X_train = x_data\n",
    "    y_train = y_data"
   ]
  },
  {
   "cell_type": "code",
   "execution_count": 5,
   "metadata": {},
   "outputs": [
    {
     "data": {
      "text/plain": [
       "8279"
      ]
     },
     "execution_count": 5,
     "metadata": {},
     "output_type": "execute_result"
    }
   ],
   "source": [
    "len(x_data)"
   ]
  },
  {
   "cell_type": "code",
   "execution_count": 6,
   "metadata": {},
   "outputs": [
    {
     "data": {
      "text/plain": [
       "6623"
      ]
     },
     "execution_count": 6,
     "metadata": {},
     "output_type": "execute_result"
    }
   ],
   "source": [
    "len(X_train)"
   ]
  },
  {
   "cell_type": "markdown",
   "metadata": {},
   "source": [
    "### Define the model\n",
    "\n",
    "The layout of the network ist a typcial CNN network with alternating **Conv2D** and **MaxPool2D** layers. Finished after **flattening** with additional **Dense** layer.\n",
    "\n",
    "#### Important\n",
    "* Shape of the input layer: (32, 20, 3)\n",
    "* Number of output layers: 10\n",
    "* As loss function \"categorical_crossentropy\" is choosen, as it is a categories task"
   ]
  },
  {
   "cell_type": "code",
   "execution_count": 17,
   "metadata": {},
   "outputs": [],
   "source": [
    "model = tf.keras.Sequential([\n",
    "        tf.keras.layers.InputLayer(input_shape=(25,15,3)),\n",
    "        tf.keras.layers.Conv2D(32, kernel_size=3, padding='same', activation='relu'),\n",
    "        tf.keras.layers.MaxPooling2D(pool_size=2, strides=2, padding='same'),\n",
    "        tf.keras.layers.Conv2D(16, kernel_size=3, padding='same', activation='relu'),\n",
    "        tf.keras.layers.MaxPooling2D(pool_size=2, strides=2, padding='same'),\n",
    "        tf.keras.layers.Conv2D(16, kernel_size=3, padding='same', activation='relu'),\n",
    "        tf.keras.layers.MaxPooling2D(pool_size=2, strides=2, padding='same'),\n",
    "        tf.keras.layers.Flatten(),\n",
    "#         tf.keras.layers.Dropout(0.25),\n",
    "        tf.keras.layers.Dense(10, activation=tf.nn.softmax)\n",
    "    ])\n"
   ]
  },
  {
   "cell_type": "code",
   "execution_count": 18,
   "metadata": {},
   "outputs": [
    {
     "name": "stdout",
     "output_type": "stream",
     "text": [
      "Model: \"sequential_3\"\n",
      "_________________________________________________________________\n",
      "Layer (type)                 Output Shape              Param #   \n",
      "=================================================================\n",
      "conv2d_9 (Conv2D)            (None, 25, 15, 32)        896       \n",
      "_________________________________________________________________\n",
      "max_pooling2d_9 (MaxPooling2 (None, 13, 8, 32)         0         \n",
      "_________________________________________________________________\n",
      "conv2d_10 (Conv2D)           (None, 13, 8, 16)         4624      \n",
      "_________________________________________________________________\n",
      "max_pooling2d_10 (MaxPooling (None, 7, 4, 16)          0         \n",
      "_________________________________________________________________\n",
      "conv2d_11 (Conv2D)           (None, 7, 4, 16)          2320      \n",
      "_________________________________________________________________\n",
      "max_pooling2d_11 (MaxPooling (None, 4, 2, 16)          0         \n",
      "_________________________________________________________________\n",
      "flatten_3 (Flatten)          (None, 128)               0         \n",
      "_________________________________________________________________\n",
      "dense_3 (Dense)              (None, 10)                1290      \n",
      "=================================================================\n",
      "Total params: 9,130\n",
      "Trainable params: 9,130\n",
      "Non-trainable params: 0\n",
      "_________________________________________________________________\n"
     ]
    }
   ],
   "source": [
    "model.summary()"
   ]
  },
  {
   "cell_type": "code",
   "execution_count": 19,
   "metadata": {},
   "outputs": [],
   "source": [
    "model.compile(loss=keras.losses.categorical_crossentropy, optimizer=tf.keras.optimizers.Adam(lr=1e-4), metrics = [\"accuracy\"])"
   ]
  },
  {
   "cell_type": "markdown",
   "metadata": {},
   "source": [
    "# Training\n",
    "The input pictures are randomly scattered for brightness, pixel shift variations and rotation angle. This is implemented with a ImageDataGenerator.\n"
   ]
  },
  {
   "cell_type": "code",
   "execution_count": 24,
   "metadata": {
    "scrolled": true
   },
   "outputs": [
    {
     "name": "stdout",
     "output_type": "stream",
     "text": [
      "Epoch 1/200\n",
      "130/130 [==============================] - 4s 34ms/step - loss: 0.4212 - accuracy: 0.8680 - val_loss: 0.4103 - val_accuracy: 0.8792\n",
      "Epoch 2/200\n",
      "130/130 [==============================] - 4s 34ms/step - loss: 0.4113 - accuracy: 0.8738 - val_loss: 0.3980 - val_accuracy: 0.8835\n",
      "Epoch 3/200\n",
      "130/130 [==============================] - 4s 34ms/step - loss: 0.4014 - accuracy: 0.8746 - val_loss: 0.3856 - val_accuracy: 0.8786\n",
      "Epoch 4/200\n",
      "130/130 [==============================] - 4s 35ms/step - loss: 0.3762 - accuracy: 0.8850 - val_loss: 0.3887 - val_accuracy: 0.8865\n",
      "Epoch 5/200\n",
      "130/130 [==============================] - 5s 35ms/step - loss: 0.3789 - accuracy: 0.8826 - val_loss: 0.3519 - val_accuracy: 0.8998\n",
      "Epoch 6/200\n",
      "130/130 [==============================] - 4s 35ms/step - loss: 0.3717 - accuracy: 0.8902 - val_loss: 0.3643 - val_accuracy: 0.8955\n",
      "Epoch 7/200\n",
      "130/130 [==============================] - 5s 35ms/step - loss: 0.3577 - accuracy: 0.8888 - val_loss: 0.3740 - val_accuracy: 0.8925\n",
      "Epoch 8/200\n",
      "130/130 [==============================] - 5s 35ms/step - loss: 0.3522 - accuracy: 0.8968 - val_loss: 0.3265 - val_accuracy: 0.9070\n",
      "Epoch 9/200\n",
      "130/130 [==============================] - 4s 34ms/step - loss: 0.3312 - accuracy: 0.9011 - val_loss: 0.3347 - val_accuracy: 0.9046\n",
      "Epoch 10/200\n",
      "130/130 [==============================] - 4s 34ms/step - loss: 0.3325 - accuracy: 0.8996 - val_loss: 0.3237 - val_accuracy: 0.9106\n",
      "Epoch 11/200\n",
      "130/130 [==============================] - 4s 34ms/step - loss: 0.3201 - accuracy: 0.9035 - val_loss: 0.2920 - val_accuracy: 0.9118\n",
      "Epoch 12/200\n",
      "130/130 [==============================] - 4s 34ms/step - loss: 0.3129 - accuracy: 0.9069 - val_loss: 0.2844 - val_accuracy: 0.9203\n",
      "Epoch 13/200\n",
      "130/130 [==============================] - 4s 34ms/step - loss: 0.3125 - accuracy: 0.9124 - val_loss: 0.2793 - val_accuracy: 0.9203\n",
      "Epoch 14/200\n",
      "130/130 [==============================] - 5s 38ms/step - loss: 0.2995 - accuracy: 0.9113 - val_loss: 0.2900 - val_accuracy: 0.9167\n",
      "Epoch 15/200\n",
      "130/130 [==============================] - 4s 34ms/step - loss: 0.3019 - accuracy: 0.9153 - val_loss: 0.2860 - val_accuracy: 0.9221\n",
      "Epoch 16/200\n",
      "130/130 [==============================] - 4s 34ms/step - loss: 0.2843 - accuracy: 0.9196 - val_loss: 0.2925 - val_accuracy: 0.9197\n",
      "Epoch 17/200\n",
      "130/130 [==============================] - 4s 34ms/step - loss: 0.2659 - accuracy: 0.9235 - val_loss: 0.2580 - val_accuracy: 0.9269\n",
      "Epoch 18/200\n",
      "130/130 [==============================] - 5s 35ms/step - loss: 0.2734 - accuracy: 0.9229 - val_loss: 0.2605 - val_accuracy: 0.9197\n",
      "Epoch 19/200\n",
      "130/130 [==============================] - 4s 34ms/step - loss: 0.2697 - accuracy: 0.9238 - val_loss: 0.2755 - val_accuracy: 0.9167\n",
      "Epoch 20/200\n",
      "130/130 [==============================] - 4s 34ms/step - loss: 0.2592 - accuracy: 0.9272 - val_loss: 0.2475 - val_accuracy: 0.9324\n",
      "Epoch 21/200\n",
      "130/130 [==============================] - 4s 34ms/step - loss: 0.2551 - accuracy: 0.9276 - val_loss: 0.2570 - val_accuracy: 0.9300\n",
      "Epoch 22/200\n",
      "130/130 [==============================] - 4s 34ms/step - loss: 0.2502 - accuracy: 0.9289 - val_loss: 0.2346 - val_accuracy: 0.9336\n",
      "Epoch 23/200\n",
      "130/130 [==============================] - 4s 34ms/step - loss: 0.2423 - accuracy: 0.9302 - val_loss: 0.2496 - val_accuracy: 0.9281\n",
      "Epoch 24/200\n",
      "130/130 [==============================] - 4s 34ms/step - loss: 0.2398 - accuracy: 0.9333 - val_loss: 0.2457 - val_accuracy: 0.9239\n",
      "Epoch 25/200\n",
      "130/130 [==============================] - 4s 34ms/step - loss: 0.2283 - accuracy: 0.9367 - val_loss: 0.2058 - val_accuracy: 0.9378\n",
      "Epoch 26/200\n",
      "130/130 [==============================] - 4s 34ms/step - loss: 0.2304 - accuracy: 0.9401 - val_loss: 0.2168 - val_accuracy: 0.9396\n",
      "Epoch 27/200\n",
      "130/130 [==============================] - 4s 34ms/step - loss: 0.2159 - accuracy: 0.9405 - val_loss: 0.2150 - val_accuracy: 0.9384\n",
      "Epoch 28/200\n",
      "130/130 [==============================] - 4s 34ms/step - loss: 0.2138 - accuracy: 0.9412 - val_loss: 0.2178 - val_accuracy: 0.9457\n",
      "Epoch 29/200\n",
      "130/130 [==============================] - 4s 34ms/step - loss: 0.2110 - accuracy: 0.9397 - val_loss: 0.1903 - val_accuracy: 0.9481\n",
      "Epoch 30/200\n",
      "130/130 [==============================] - 4s 34ms/step - loss: 0.2072 - accuracy: 0.9453 - val_loss: 0.2084 - val_accuracy: 0.9438\n",
      "Epoch 31/200\n",
      "130/130 [==============================] - 5s 35ms/step - loss: 0.2054 - accuracy: 0.9427 - val_loss: 0.1965 - val_accuracy: 0.9450\n",
      "Epoch 32/200\n",
      "130/130 [==============================] - 4s 34ms/step - loss: 0.1967 - accuracy: 0.9446 - val_loss: 0.2045 - val_accuracy: 0.9475\n",
      "Epoch 33/200\n",
      "130/130 [==============================] - 4s 34ms/step - loss: 0.1920 - accuracy: 0.9469 - val_loss: 0.1743 - val_accuracy: 0.9589\n",
      "Epoch 34/200\n",
      "130/130 [==============================] - 4s 34ms/step - loss: 0.1830 - accuracy: 0.9495 - val_loss: 0.1703 - val_accuracy: 0.9589\n",
      "Epoch 35/200\n",
      "130/130 [==============================] - 4s 34ms/step - loss: 0.1869 - accuracy: 0.9501 - val_loss: 0.1972 - val_accuracy: 0.9396\n",
      "Epoch 36/200\n",
      "130/130 [==============================] - 4s 34ms/step - loss: 0.1706 - accuracy: 0.9527 - val_loss: 0.1703 - val_accuracy: 0.9523\n",
      "Epoch 37/200\n",
      "130/130 [==============================] - 4s 34ms/step - loss: 0.1699 - accuracy: 0.9554 - val_loss: 0.1811 - val_accuracy: 0.9523\n",
      "Epoch 38/200\n",
      "130/130 [==============================] - 4s 35ms/step - loss: 0.1785 - accuracy: 0.9519 - val_loss: 0.1737 - val_accuracy: 0.9565\n",
      "Epoch 39/200\n",
      "130/130 [==============================] - 4s 34ms/step - loss: 0.1639 - accuracy: 0.9580 - val_loss: 0.1695 - val_accuracy: 0.9535\n",
      "Epoch 40/200\n",
      "130/130 [==============================] - 4s 34ms/step - loss: 0.1637 - accuracy: 0.9541 - val_loss: 0.1583 - val_accuracy: 0.9595\n",
      "Epoch 41/200\n",
      "130/130 [==============================] - 5s 37ms/step - loss: 0.1618 - accuracy: 0.9566 - val_loss: 0.1578 - val_accuracy: 0.9626\n",
      "Epoch 42/200\n",
      "130/130 [==============================] - 4s 34ms/step - loss: 0.1616 - accuracy: 0.9582 - val_loss: 0.1583 - val_accuracy: 0.9547\n",
      "Epoch 43/200\n",
      "130/130 [==============================] - 4s 34ms/step - loss: 0.1562 - accuracy: 0.9604 - val_loss: 0.1631 - val_accuracy: 0.9571\n",
      "Epoch 44/200\n",
      "130/130 [==============================] - 4s 34ms/step - loss: 0.1496 - accuracy: 0.9629 - val_loss: 0.1332 - val_accuracy: 0.9644\n",
      "Epoch 45/200\n",
      "130/130 [==============================] - 5s 35ms/step - loss: 0.1478 - accuracy: 0.9611 - val_loss: 0.1388 - val_accuracy: 0.9614\n",
      "Epoch 46/200\n",
      "130/130 [==============================] - 5s 35ms/step - loss: 0.1496 - accuracy: 0.9593 - val_loss: 0.1592 - val_accuracy: 0.9499\n",
      "Epoch 47/200\n",
      "130/130 [==============================] - 4s 35ms/step - loss: 0.1409 - accuracy: 0.9642 - val_loss: 0.1433 - val_accuracy: 0.9674\n",
      "Epoch 48/200\n",
      "130/130 [==============================] - 5s 35ms/step - loss: 0.1278 - accuracy: 0.9655 - val_loss: 0.1395 - val_accuracy: 0.9644\n",
      "Epoch 49/200\n",
      "130/130 [==============================] - 5s 35ms/step - loss: 0.1303 - accuracy: 0.9670 - val_loss: 0.1322 - val_accuracy: 0.9632\n",
      "Epoch 50/200\n",
      "130/130 [==============================] - 5s 36ms/step - loss: 0.1290 - accuracy: 0.9669 - val_loss: 0.1246 - val_accuracy: 0.9704\n",
      "Epoch 51/200\n",
      "130/130 [==============================] - 5s 36ms/step - loss: 0.1230 - accuracy: 0.9677 - val_loss: 0.1294 - val_accuracy: 0.9698\n",
      "Epoch 52/200\n",
      "130/130 [==============================] - 5s 35ms/step - loss: 0.1248 - accuracy: 0.9704 - val_loss: 0.1280 - val_accuracy: 0.9668\n",
      "Epoch 53/200\n",
      "130/130 [==============================] - 5s 36ms/step - loss: 0.1206 - accuracy: 0.9687 - val_loss: 0.1270 - val_accuracy: 0.9638\n",
      "Epoch 54/200\n",
      "130/130 [==============================] - 5s 37ms/step - loss: 0.1230 - accuracy: 0.9677 - val_loss: 0.1048 - val_accuracy: 0.9746\n",
      "Epoch 55/200\n",
      "130/130 [==============================] - 5s 38ms/step - loss: 0.1206 - accuracy: 0.9676 - val_loss: 0.1080 - val_accuracy: 0.9740\n",
      "Epoch 56/200\n",
      "130/130 [==============================] - 5s 38ms/step - loss: 0.1212 - accuracy: 0.9714 - val_loss: 0.1127 - val_accuracy: 0.9734\n",
      "Epoch 57/200\n"
     ]
    },
    {
     "name": "stdout",
     "output_type": "stream",
     "text": [
      "130/130 [==============================] - 5s 37ms/step - loss: 0.1088 - accuracy: 0.9714 - val_loss: 0.1251 - val_accuracy: 0.9722\n",
      "Epoch 58/200\n",
      "130/130 [==============================] - 5s 38ms/step - loss: 0.1081 - accuracy: 0.9739 - val_loss: 0.0985 - val_accuracy: 0.9819\n",
      "Epoch 59/200\n",
      "130/130 [==============================] - 5s 37ms/step - loss: 0.1037 - accuracy: 0.9735 - val_loss: 0.1095 - val_accuracy: 0.9764\n",
      "Epoch 60/200\n",
      "130/130 [==============================] - 5s 38ms/step - loss: 0.0989 - accuracy: 0.9762 - val_loss: 0.1138 - val_accuracy: 0.9716\n",
      "Epoch 61/200\n",
      "130/130 [==============================] - 5s 37ms/step - loss: 0.0968 - accuracy: 0.9778 - val_loss: 0.1146 - val_accuracy: 0.9704\n",
      "Epoch 62/200\n",
      "130/130 [==============================] - 5s 37ms/step - loss: 0.0996 - accuracy: 0.9735 - val_loss: 0.1052 - val_accuracy: 0.9734\n",
      "Epoch 63/200\n",
      "130/130 [==============================] - 4s 34ms/step - loss: 0.1013 - accuracy: 0.9760 - val_loss: 0.0868 - val_accuracy: 0.9819\n",
      "Epoch 64/200\n",
      "130/130 [==============================] - 4s 34ms/step - loss: 0.0992 - accuracy: 0.9761 - val_loss: 0.1012 - val_accuracy: 0.9777\n",
      "Epoch 65/200\n",
      "130/130 [==============================] - 4s 34ms/step - loss: 0.1035 - accuracy: 0.9743 - val_loss: 0.0967 - val_accuracy: 0.9758\n",
      "Epoch 66/200\n",
      "130/130 [==============================] - 5s 35ms/step - loss: 0.0935 - accuracy: 0.9781 - val_loss: 0.1130 - val_accuracy: 0.9716\n",
      "Epoch 67/200\n",
      "130/130 [==============================] - 5s 37ms/step - loss: 0.0860 - accuracy: 0.9792 - val_loss: 0.0768 - val_accuracy: 0.9843\n",
      "Epoch 68/200\n",
      "130/130 [==============================] - 5s 36ms/step - loss: 0.0938 - accuracy: 0.9796 - val_loss: 0.0974 - val_accuracy: 0.9758\n",
      "Epoch 69/200\n",
      "130/130 [==============================] - 5s 36ms/step - loss: 0.0869 - accuracy: 0.9790 - val_loss: 0.0796 - val_accuracy: 0.9819\n",
      "Epoch 70/200\n",
      "130/130 [==============================] - 5s 35ms/step - loss: 0.0827 - accuracy: 0.9792 - val_loss: 0.0826 - val_accuracy: 0.9855\n",
      "Epoch 71/200\n",
      "130/130 [==============================] - 5s 35ms/step - loss: 0.0824 - accuracy: 0.9797 - val_loss: 0.0867 - val_accuracy: 0.9819\n",
      "Epoch 72/200\n",
      "130/130 [==============================] - 5s 37ms/step - loss: 0.0847 - accuracy: 0.9791 - val_loss: 0.0923 - val_accuracy: 0.9789\n",
      "Epoch 73/200\n",
      "130/130 [==============================] - 5s 36ms/step - loss: 0.0888 - accuracy: 0.9772 - val_loss: 0.0863 - val_accuracy: 0.9819\n",
      "Epoch 74/200\n",
      "130/130 [==============================] - 5s 35ms/step - loss: 0.0774 - accuracy: 0.9836 - val_loss: 0.0803 - val_accuracy: 0.9801\n",
      "Epoch 75/200\n",
      "130/130 [==============================] - 5s 38ms/step - loss: 0.0768 - accuracy: 0.9831 - val_loss: 0.0771 - val_accuracy: 0.9825\n",
      "Epoch 76/200\n",
      "130/130 [==============================] - 5s 36ms/step - loss: 0.0747 - accuracy: 0.9827 - val_loss: 0.0761 - val_accuracy: 0.9843\n",
      "Epoch 77/200\n",
      "130/130 [==============================] - 5s 38ms/step - loss: 0.0737 - accuracy: 0.9854 - val_loss: 0.0817 - val_accuracy: 0.9831\n",
      "Epoch 78/200\n",
      "130/130 [==============================] - 5s 36ms/step - loss: 0.0731 - accuracy: 0.9842 - val_loss: 0.0819 - val_accuracy: 0.9819\n",
      "Epoch 79/200\n",
      "130/130 [==============================] - 5s 37ms/step - loss: 0.0712 - accuracy: 0.9839 - val_loss: 0.0675 - val_accuracy: 0.9891\n",
      "Epoch 80/200\n",
      "130/130 [==============================] - 5s 37ms/step - loss: 0.0667 - accuracy: 0.9848 - val_loss: 0.0735 - val_accuracy: 0.9867\n",
      "Epoch 81/200\n",
      "130/130 [==============================] - 4s 34ms/step - loss: 0.0680 - accuracy: 0.9844 - val_loss: 0.0628 - val_accuracy: 0.9867\n",
      "Epoch 82/200\n",
      "130/130 [==============================] - 5s 36ms/step - loss: 0.0691 - accuracy: 0.9855 - val_loss: 0.0619 - val_accuracy: 0.9855\n",
      "Epoch 83/200\n",
      "130/130 [==============================] - 5s 35ms/step - loss: 0.0670 - accuracy: 0.9857 - val_loss: 0.0807 - val_accuracy: 0.9777\n",
      "Epoch 84/200\n",
      "130/130 [==============================] - 5s 35ms/step - loss: 0.0689 - accuracy: 0.9839 - val_loss: 0.0655 - val_accuracy: 0.9867\n",
      "Epoch 85/200\n",
      "130/130 [==============================] - 4s 33ms/step - loss: 0.0648 - accuracy: 0.9873 - val_loss: 0.0675 - val_accuracy: 0.9819\n",
      "Epoch 86/200\n",
      "130/130 [==============================] - 4s 33ms/step - loss: 0.0629 - accuracy: 0.9856 - val_loss: 0.0641 - val_accuracy: 0.9885\n",
      "Epoch 87/200\n",
      "130/130 [==============================] - 4s 34ms/step - loss: 0.0595 - accuracy: 0.9878 - val_loss: 0.0581 - val_accuracy: 0.9867\n",
      "Epoch 88/200\n",
      "130/130 [==============================] - 4s 33ms/step - loss: 0.0676 - accuracy: 0.9862 - val_loss: 0.0744 - val_accuracy: 0.9807\n",
      "Epoch 89/200\n",
      "130/130 [==============================] - 4s 33ms/step - loss: 0.0617 - accuracy: 0.9864 - val_loss: 0.0541 - val_accuracy: 0.9849\n",
      "Epoch 90/200\n",
      "130/130 [==============================] - 4s 33ms/step - loss: 0.0624 - accuracy: 0.9859 - val_loss: 0.0796 - val_accuracy: 0.9758\n",
      "Epoch 91/200\n",
      "130/130 [==============================] - 4s 33ms/step - loss: 0.0571 - accuracy: 0.9878 - val_loss: 0.0629 - val_accuracy: 0.9897\n",
      "Epoch 92/200\n",
      "130/130 [==============================] - 4s 35ms/step - loss: 0.0591 - accuracy: 0.9866 - val_loss: 0.0605 - val_accuracy: 0.9879\n",
      "Epoch 93/200\n",
      "130/130 [==============================] - 6s 43ms/step - loss: 0.0544 - accuracy: 0.9865 - val_loss: 0.0473 - val_accuracy: 0.9897\n",
      "Epoch 94/200\n",
      "130/130 [==============================] - 5s 39ms/step - loss: 0.0521 - accuracy: 0.9885 - val_loss: 0.0521 - val_accuracy: 0.9885\n",
      "Epoch 95/200\n",
      "130/130 [==============================] - 5s 38ms/step - loss: 0.0550 - accuracy: 0.9872 - val_loss: 0.0581 - val_accuracy: 0.9849\n",
      "Epoch 96/200\n",
      "130/130 [==============================] - 5s 35ms/step - loss: 0.0516 - accuracy: 0.9894 - val_loss: 0.0562 - val_accuracy: 0.9867\n",
      "Epoch 97/200\n",
      "130/130 [==============================] - 5s 40ms/step - loss: 0.0550 - accuracy: 0.9871 - val_loss: 0.0596 - val_accuracy: 0.9861\n",
      "Epoch 98/200\n",
      "130/130 [==============================] - 5s 42ms/step - loss: 0.0502 - accuracy: 0.9892 - val_loss: 0.0506 - val_accuracy: 0.9891\n",
      "Epoch 99/200\n",
      "130/130 [==============================] - 6s 43ms/step - loss: 0.0549 - accuracy: 0.9880 - val_loss: 0.0589 - val_accuracy: 0.9861\n",
      "Epoch 100/200\n",
      "130/130 [==============================] - 5s 38ms/step - loss: 0.0486 - accuracy: 0.9895 - val_loss: 0.0451 - val_accuracy: 0.9934\n",
      "Epoch 101/200\n",
      "130/130 [==============================] - 5s 35ms/step - loss: 0.0480 - accuracy: 0.9912 - val_loss: 0.0458 - val_accuracy: 0.9897\n",
      "Epoch 102/200\n",
      "130/130 [==============================] - 5s 39ms/step - loss: 0.0511 - accuracy: 0.9883 - val_loss: 0.0508 - val_accuracy: 0.9891\n",
      "Epoch 103/200\n",
      "130/130 [==============================] - 5s 39ms/step - loss: 0.0544 - accuracy: 0.9866 - val_loss: 0.0537 - val_accuracy: 0.9867\n",
      "Epoch 104/200\n",
      "130/130 [==============================] - 5s 36ms/step - loss: 0.0502 - accuracy: 0.9896 - val_loss: 0.0477 - val_accuracy: 0.9891\n",
      "Epoch 105/200\n",
      "130/130 [==============================] - 5s 37ms/step - loss: 0.0442 - accuracy: 0.9900 - val_loss: 0.0517 - val_accuracy: 0.9867\n",
      "Epoch 106/200\n",
      "130/130 [==============================] - 5s 37ms/step - loss: 0.0460 - accuracy: 0.9912 - val_loss: 0.0413 - val_accuracy: 0.9879\n",
      "Epoch 107/200\n",
      "130/130 [==============================] - 5s 37ms/step - loss: 0.0471 - accuracy: 0.9907 - val_loss: 0.0426 - val_accuracy: 0.9891\n",
      "Epoch 108/200\n",
      "130/130 [==============================] - 5s 37ms/step - loss: 0.0400 - accuracy: 0.9908 - val_loss: 0.0470 - val_accuracy: 0.9891\n",
      "Epoch 109/200\n",
      "130/130 [==============================] - 5s 37ms/step - loss: 0.0420 - accuracy: 0.9917 - val_loss: 0.0514 - val_accuracy: 0.9873\n",
      "Epoch 110/200\n",
      "130/130 [==============================] - 5s 40ms/step - loss: 0.0396 - accuracy: 0.9928 - val_loss: 0.0441 - val_accuracy: 0.9915\n",
      "Epoch 111/200\n",
      "130/130 [==============================] - 5s 36ms/step - loss: 0.0417 - accuracy: 0.9914 - val_loss: 0.0478 - val_accuracy: 0.9891\n",
      "Epoch 112/200\n",
      "130/130 [==============================] - 5s 35ms/step - loss: 0.0380 - accuracy: 0.9914 - val_loss: 0.0338 - val_accuracy: 0.9940\n",
      "Epoch 113/200\n"
     ]
    },
    {
     "name": "stdout",
     "output_type": "stream",
     "text": [
      "130/130 [==============================] - 5s 35ms/step - loss: 0.0416 - accuracy: 0.9896 - val_loss: 0.0321 - val_accuracy: 0.9915\n",
      "Epoch 114/200\n",
      "130/130 [==============================] - 5s 35ms/step - loss: 0.0412 - accuracy: 0.9911 - val_loss: 0.0362 - val_accuracy: 0.9915\n",
      "Epoch 115/200\n",
      "130/130 [==============================] - 5s 35ms/step - loss: 0.0415 - accuracy: 0.9913 - val_loss: 0.0351 - val_accuracy: 0.9934\n",
      "Epoch 116/200\n",
      "130/130 [==============================] - 5s 36ms/step - loss: 0.0357 - accuracy: 0.9931 - val_loss: 0.0345 - val_accuracy: 0.9940\n",
      "Epoch 117/200\n",
      "130/130 [==============================] - 5s 37ms/step - loss: 0.0380 - accuracy: 0.9924 - val_loss: 0.0347 - val_accuracy: 0.9940\n",
      "Epoch 118/200\n",
      "130/130 [==============================] - 5s 36ms/step - loss: 0.0377 - accuracy: 0.9911 - val_loss: 0.0397 - val_accuracy: 0.9928\n",
      "Epoch 119/200\n",
      "130/130 [==============================] - 5s 35ms/step - loss: 0.0348 - accuracy: 0.9926 - val_loss: 0.0426 - val_accuracy: 0.9897\n",
      "Epoch 120/200\n",
      "130/130 [==============================] - 5s 37ms/step - loss: 0.0348 - accuracy: 0.9930 - val_loss: 0.0491 - val_accuracy: 0.9897\n",
      "Epoch 121/200\n",
      "130/130 [==============================] - 5s 39ms/step - loss: 0.0360 - accuracy: 0.9923 - val_loss: 0.0437 - val_accuracy: 0.9867\n",
      "Epoch 122/200\n",
      "130/130 [==============================] - 5s 39ms/step - loss: 0.0366 - accuracy: 0.9924 - val_loss: 0.0396 - val_accuracy: 0.9903\n",
      "Epoch 123/200\n",
      "130/130 [==============================] - 5s 37ms/step - loss: 0.0336 - accuracy: 0.9932 - val_loss: 0.0361 - val_accuracy: 0.9934\n",
      "Epoch 124/200\n",
      "130/130 [==============================] - 5s 36ms/step - loss: 0.0347 - accuracy: 0.9919 - val_loss: 0.0324 - val_accuracy: 0.9940\n",
      "Epoch 125/200\n",
      "130/130 [==============================] - 5s 36ms/step - loss: 0.0325 - accuracy: 0.9929 - val_loss: 0.0288 - val_accuracy: 0.9921\n",
      "Epoch 126/200\n",
      "130/130 [==============================] - 5s 36ms/step - loss: 0.0315 - accuracy: 0.9929 - val_loss: 0.0437 - val_accuracy: 0.9921\n",
      "Epoch 127/200\n",
      "130/130 [==============================] - 5s 36ms/step - loss: 0.0341 - accuracy: 0.9932 - val_loss: 0.0309 - val_accuracy: 0.9940\n",
      "Epoch 128/200\n",
      "130/130 [==============================] - 5s 37ms/step - loss: 0.0328 - accuracy: 0.9934 - val_loss: 0.0363 - val_accuracy: 0.9921\n",
      "Epoch 129/200\n",
      "130/130 [==============================] - 5s 36ms/step - loss: 0.0300 - accuracy: 0.9948 - val_loss: 0.0289 - val_accuracy: 0.9940\n",
      "Epoch 130/200\n",
      "130/130 [==============================] - 5s 36ms/step - loss: 0.0288 - accuracy: 0.9940 - val_loss: 0.0327 - val_accuracy: 0.9921\n",
      "Epoch 131/200\n",
      "130/130 [==============================] - 5s 36ms/step - loss: 0.0349 - accuracy: 0.9909 - val_loss: 0.0382 - val_accuracy: 0.9915\n",
      "Epoch 132/200\n",
      "130/130 [==============================] - 5s 35ms/step - loss: 0.0257 - accuracy: 0.9952 - val_loss: 0.0335 - val_accuracy: 0.9915\n",
      "Epoch 133/200\n",
      "130/130 [==============================] - 5s 35ms/step - loss: 0.0290 - accuracy: 0.9938 - val_loss: 0.0393 - val_accuracy: 0.9909\n",
      "Epoch 134/200\n",
      "130/130 [==============================] - 5s 35ms/step - loss: 0.0271 - accuracy: 0.9931 - val_loss: 0.0302 - val_accuracy: 0.9940\n",
      "Epoch 135/200\n",
      "130/130 [==============================] - 5s 35ms/step - loss: 0.0248 - accuracy: 0.9948 - val_loss: 0.0267 - val_accuracy: 0.9946\n",
      "Epoch 136/200\n",
      "130/130 [==============================] - 4s 34ms/step - loss: 0.0297 - accuracy: 0.9940 - val_loss: 0.0270 - val_accuracy: 0.9940\n",
      "Epoch 137/200\n",
      "130/130 [==============================] - 4s 34ms/step - loss: 0.0295 - accuracy: 0.9932 - val_loss: 0.0371 - val_accuracy: 0.9897\n",
      "Epoch 138/200\n",
      "130/130 [==============================] - 5s 35ms/step - loss: 0.0274 - accuracy: 0.9944 - val_loss: 0.0288 - val_accuracy: 0.9934\n",
      "Epoch 139/200\n",
      "130/130 [==============================] - 4s 35ms/step - loss: 0.0276 - accuracy: 0.9932 - val_loss: 0.0350 - val_accuracy: 0.9903\n",
      "Epoch 140/200\n",
      "130/130 [==============================] - 4s 34ms/step - loss: 0.0307 - accuracy: 0.9936 - val_loss: 0.0359 - val_accuracy: 0.9909\n",
      "Epoch 141/200\n",
      "130/130 [==============================] - 5s 35ms/step - loss: 0.0232 - accuracy: 0.9954 - val_loss: 0.0246 - val_accuracy: 0.9934\n",
      "Epoch 142/200\n",
      "130/130 [==============================] - 5s 36ms/step - loss: 0.0264 - accuracy: 0.9948 - val_loss: 0.0265 - val_accuracy: 0.9952\n",
      "Epoch 143/200\n",
      "130/130 [==============================] - 5s 39ms/step - loss: 0.0262 - accuracy: 0.9934 - val_loss: 0.0230 - val_accuracy: 0.9958\n",
      "Epoch 144/200\n",
      "130/130 [==============================] - 5s 37ms/step - loss: 0.0242 - accuracy: 0.9943 - val_loss: 0.0324 - val_accuracy: 0.9946\n",
      "Epoch 145/200\n",
      "130/130 [==============================] - 5s 38ms/step - loss: 0.0283 - accuracy: 0.9936 - val_loss: 0.0281 - val_accuracy: 0.9952\n",
      "Epoch 146/200\n",
      "130/130 [==============================] - 5s 36ms/step - loss: 0.0245 - accuracy: 0.9935 - val_loss: 0.0359 - val_accuracy: 0.9903\n",
      "Epoch 147/200\n",
      "130/130 [==============================] - 5s 40ms/step - loss: 0.0241 - accuracy: 0.9949 - val_loss: 0.0312 - val_accuracy: 0.9928\n",
      "Epoch 148/200\n",
      "130/130 [==============================] - 5s 36ms/step - loss: 0.0203 - accuracy: 0.9963 - val_loss: 0.0196 - val_accuracy: 0.9958\n",
      "Epoch 149/200\n",
      "130/130 [==============================] - 5s 37ms/step - loss: 0.0255 - accuracy: 0.9946 - val_loss: 0.0187 - val_accuracy: 0.9958\n",
      "Epoch 150/200\n",
      "130/130 [==============================] - 5s 37ms/step - loss: 0.0243 - accuracy: 0.9946 - val_loss: 0.0278 - val_accuracy: 0.9952\n",
      "Epoch 151/200\n",
      "130/130 [==============================] - 5s 36ms/step - loss: 0.0241 - accuracy: 0.9952 - val_loss: 0.0234 - val_accuracy: 0.9921\n",
      "Epoch 152/200\n",
      "130/130 [==============================] - 5s 35ms/step - loss: 0.0242 - accuracy: 0.9953 - val_loss: 0.0182 - val_accuracy: 0.9952\n",
      "Epoch 153/200\n",
      "130/130 [==============================] - 5s 35ms/step - loss: 0.0231 - accuracy: 0.9953 - val_loss: 0.0336 - val_accuracy: 0.9915\n",
      "Epoch 154/200\n",
      "130/130 [==============================] - 5s 35ms/step - loss: 0.0205 - accuracy: 0.9957 - val_loss: 0.0317 - val_accuracy: 0.9940\n",
      "Epoch 155/200\n",
      "130/130 [==============================] - 5s 35ms/step - loss: 0.0174 - accuracy: 0.9969 - val_loss: 0.0230 - val_accuracy: 0.9958\n",
      "Epoch 156/200\n",
      "130/130 [==============================] - 5s 35ms/step - loss: 0.0222 - accuracy: 0.9943 - val_loss: 0.0168 - val_accuracy: 0.9970\n",
      "Epoch 157/200\n",
      "130/130 [==============================] - 5s 35ms/step - loss: 0.0249 - accuracy: 0.9944 - val_loss: 0.0289 - val_accuracy: 0.9934\n",
      "Epoch 158/200\n",
      "130/130 [==============================] - 5s 35ms/step - loss: 0.0217 - accuracy: 0.9957 - val_loss: 0.0282 - val_accuracy: 0.9934\n",
      "Epoch 159/200\n",
      "130/130 [==============================] - 5s 35ms/step - loss: 0.0195 - accuracy: 0.9958 - val_loss: 0.0239 - val_accuracy: 0.9958\n",
      "Epoch 160/200\n",
      "130/130 [==============================] - 5s 35ms/step - loss: 0.0209 - accuracy: 0.9952 - val_loss: 0.0260 - val_accuracy: 0.9958\n",
      "Epoch 161/200\n",
      "130/130 [==============================] - 5s 36ms/step - loss: 0.0194 - accuracy: 0.9957 - val_loss: 0.0199 - val_accuracy: 0.9964\n",
      "Epoch 162/200\n",
      "130/130 [==============================] - 5s 36ms/step - loss: 0.0268 - accuracy: 0.9938 - val_loss: 0.0182 - val_accuracy: 0.9964\n",
      "Epoch 163/200\n",
      "130/130 [==============================] - 5s 36ms/step - loss: 0.0195 - accuracy: 0.9958 - val_loss: 0.0282 - val_accuracy: 0.9934\n",
      "Epoch 164/200\n",
      "130/130 [==============================] - 5s 35ms/step - loss: 0.0167 - accuracy: 0.9963 - val_loss: 0.0310 - val_accuracy: 0.9921\n",
      "Epoch 165/200\n",
      "130/130 [==============================] - 4s 34ms/step - loss: 0.0188 - accuracy: 0.9957 - val_loss: 0.0293 - val_accuracy: 0.9946\n",
      "Epoch 166/200\n",
      "130/130 [==============================] - 4s 34ms/step - loss: 0.0207 - accuracy: 0.9955 - val_loss: 0.0225 - val_accuracy: 0.9946\n",
      "Epoch 167/200\n",
      "130/130 [==============================] - 4s 34ms/step - loss: 0.0163 - accuracy: 0.9967 - val_loss: 0.0292 - val_accuracy: 0.9952\n",
      "Epoch 168/200\n",
      "130/130 [==============================] - 5s 35ms/step - loss: 0.0223 - accuracy: 0.9952 - val_loss: 0.0262 - val_accuracy: 0.9940\n",
      "Epoch 169/200\n"
     ]
    },
    {
     "name": "stdout",
     "output_type": "stream",
     "text": [
      "130/130 [==============================] - 5s 38ms/step - loss: 0.0176 - accuracy: 0.9965 - val_loss: 0.0289 - val_accuracy: 0.9946\n",
      "Epoch 170/200\n",
      "130/130 [==============================] - 5s 35ms/step - loss: 0.0177 - accuracy: 0.9967 - val_loss: 0.0244 - val_accuracy: 0.9946\n",
      "Epoch 171/200\n",
      "130/130 [==============================] - 5s 35ms/step - loss: 0.0200 - accuracy: 0.9947 - val_loss: 0.0291 - val_accuracy: 0.9909\n",
      "Epoch 172/200\n",
      "130/130 [==============================] - 5s 37ms/step - loss: 0.0155 - accuracy: 0.9976 - val_loss: 0.0177 - val_accuracy: 0.9964\n",
      "Epoch 173/200\n",
      "130/130 [==============================] - 5s 37ms/step - loss: 0.0168 - accuracy: 0.9971 - val_loss: 0.0177 - val_accuracy: 0.9970\n",
      "Epoch 174/200\n",
      "130/130 [==============================] - 5s 37ms/step - loss: 0.0145 - accuracy: 0.9972 - val_loss: 0.0136 - val_accuracy: 0.9958\n",
      "Epoch 175/200\n",
      "130/130 [==============================] - 5s 35ms/step - loss: 0.0153 - accuracy: 0.9961 - val_loss: 0.0255 - val_accuracy: 0.9946\n",
      "Epoch 176/200\n",
      "130/130 [==============================] - 5s 36ms/step - loss: 0.0200 - accuracy: 0.9960 - val_loss: 0.0275 - val_accuracy: 0.9921\n",
      "Epoch 177/200\n",
      "130/130 [==============================] - 5s 35ms/step - loss: 0.0170 - accuracy: 0.9965 - val_loss: 0.0154 - val_accuracy: 0.9964\n",
      "Epoch 178/200\n",
      "130/130 [==============================] - 5s 35ms/step - loss: 0.0144 - accuracy: 0.9972 - val_loss: 0.0136 - val_accuracy: 0.9964\n",
      "Epoch 179/200\n",
      "130/130 [==============================] - 5s 36ms/step - loss: 0.0155 - accuracy: 0.9969 - val_loss: 0.0314 - val_accuracy: 0.9921\n",
      "Epoch 180/200\n",
      "130/130 [==============================] - 5s 35ms/step - loss: 0.0212 - accuracy: 0.9944 - val_loss: 0.0118 - val_accuracy: 0.9970\n",
      "Epoch 181/200\n",
      "130/130 [==============================] - 5s 35ms/step - loss: 0.0194 - accuracy: 0.9963 - val_loss: 0.0159 - val_accuracy: 0.9970\n",
      "Epoch 182/200\n",
      "130/130 [==============================] - 5s 35ms/step - loss: 0.0146 - accuracy: 0.9965 - val_loss: 0.0194 - val_accuracy: 0.9958\n",
      "Epoch 183/200\n",
      "130/130 [==============================] - 5s 36ms/step - loss: 0.0215 - accuracy: 0.9947 - val_loss: 0.0145 - val_accuracy: 0.9982\n",
      "Epoch 184/200\n",
      "130/130 [==============================] - 5s 35ms/step - loss: 0.0153 - accuracy: 0.9958 - val_loss: 0.0189 - val_accuracy: 0.9970\n",
      "Epoch 185/200\n",
      "130/130 [==============================] - 5s 35ms/step - loss: 0.0145 - accuracy: 0.9981 - val_loss: 0.0183 - val_accuracy: 0.9964\n",
      "Epoch 186/200\n",
      "130/130 [==============================] - 5s 35ms/step - loss: 0.0153 - accuracy: 0.9966 - val_loss: 0.0122 - val_accuracy: 0.9964\n",
      "Epoch 187/200\n",
      "130/130 [==============================] - 5s 36ms/step - loss: 0.0146 - accuracy: 0.9964 - val_loss: 0.0155 - val_accuracy: 0.9970\n",
      "Epoch 188/200\n",
      "130/130 [==============================] - 5s 35ms/step - loss: 0.0176 - accuracy: 0.9953 - val_loss: 0.0202 - val_accuracy: 0.9934\n",
      "Epoch 189/200\n",
      "130/130 [==============================] - 5s 35ms/step - loss: 0.0208 - accuracy: 0.9950 - val_loss: 0.0165 - val_accuracy: 0.9964\n",
      "Epoch 190/200\n",
      "130/130 [==============================] - 5s 35ms/step - loss: 0.0116 - accuracy: 0.9977 - val_loss: 0.0127 - val_accuracy: 0.9970\n",
      "Epoch 191/200\n",
      "130/130 [==============================] - 5s 36ms/step - loss: 0.0122 - accuracy: 0.9973 - val_loss: 0.0127 - val_accuracy: 0.9988\n",
      "Epoch 192/200\n",
      "130/130 [==============================] - 5s 35ms/step - loss: 0.0180 - accuracy: 0.9966 - val_loss: 0.0109 - val_accuracy: 0.9982\n",
      "Epoch 193/200\n",
      "130/130 [==============================] - 5s 35ms/step - loss: 0.0158 - accuracy: 0.9961 - val_loss: 0.0144 - val_accuracy: 0.9952\n",
      "Epoch 194/200\n",
      "130/130 [==============================] - 5s 37ms/step - loss: 0.0167 - accuracy: 0.9967 - val_loss: 0.0150 - val_accuracy: 0.9964\n",
      "Epoch 195/200\n",
      "130/130 [==============================] - 5s 36ms/step - loss: 0.0143 - accuracy: 0.9973 - val_loss: 0.0087 - val_accuracy: 0.9988\n",
      "Epoch 196/200\n",
      "130/130 [==============================] - 5s 36ms/step - loss: 0.0096 - accuracy: 0.9987 - val_loss: 0.0121 - val_accuracy: 0.9976\n",
      "Epoch 197/200\n",
      "130/130 [==============================] - 5s 35ms/step - loss: 0.0122 - accuracy: 0.9977 - val_loss: 0.0212 - val_accuracy: 0.9946\n",
      "Epoch 198/200\n",
      "130/130 [==============================] - 5s 36ms/step - loss: 0.0147 - accuracy: 0.9970 - val_loss: 0.0208 - val_accuracy: 0.9940\n",
      "Epoch 199/200\n",
      "130/130 [==============================] - 5s 36ms/step - loss: 0.0186 - accuracy: 0.9959 - val_loss: 0.0151 - val_accuracy: 0.9976\n",
      "Epoch 200/200\n",
      "130/130 [==============================] - 5s 35ms/step - loss: 0.0144 - accuracy: 0.9967 - val_loss: 0.0133 - val_accuracy: 0.9976\n"
     ]
    }
   ],
   "source": [
    "Batch_Size = 64\n",
    "Shift_Range = 1\n",
    "Brightness_Range = 0.1\n",
    "Rotation_Angle = 0\n",
    "ZoomRange = 0.0\n",
    "# Epochs = 10\n",
    "\n",
    "datagen = ImageDataGenerator(width_shift_range=[-Shift_Range,Shift_Range], \n",
    "                             height_shift_range=[-Shift_Range,Shift_Range],\n",
    "                             brightness_range=[1-Brightness_Range,1+Brightness_Range],\n",
    "                             zoom_range=[1-ZoomRange, 1+ZoomRange],\n",
    "                             rotation_range=Rotation_Angle,vertical_flip=True)\n",
    "\n",
    "# datagen = ImageDataGenerator(featurewise_center=False,\n",
    "#                                  featurewise_std_normalization=False,\n",
    "#                                  rotation_range=20,\n",
    "#                                  width_shift_range=0.2,\n",
    "#                                  height_shift_range=0.2,\n",
    "#                                  vertical_flip=True)\n",
    "\n",
    "if (Training_Percentage > 0):\n",
    "    train_iterator = datagen.flow(x_data, y_data, batch_size=Batch_Size)\n",
    "    validation_iterator = datagen.flow(X_test, y_test, batch_size=Batch_Size)\n",
    "    history = model.fit(train_iterator, validation_data = validation_iterator, epochs = Epochs)\n",
    "else:\n",
    "    train_iterator = datagen.flow(x_data, y_data, batch_size=Batch_Size)\n",
    "    history = model.fit(train_iterator, epochs = Epochs)\n",
    "\n"
   ]
  },
  {
   "cell_type": "code",
   "execution_count": 30,
   "metadata": {},
   "outputs": [],
   "source": [
    "# final_loss, final_acc = model.evaluate(X_train, y_train)"
   ]
  },
  {
   "cell_type": "markdown",
   "metadata": {},
   "source": [
    "### Learing result\n",
    " \n",
    "* Visualization of the training and validation results"
   ]
  },
  {
   "cell_type": "code",
   "execution_count": 27,
   "metadata": {},
   "outputs": [
    {
     "data": {
      "image/png": "[encoded data removed]",
      "text/plain": [
       "<Figure size 432x288 with 1 Axes>"
      ]
     },
     "metadata": {
      "needs_background": "light"
     },
     "output_type": "display_data"
    }
   ],
   "source": [
    "loss_ges = np.append(loss_ges, history.history['loss'])\n",
    "plt.semilogy(history.history['loss'])\n",
    "\n",
    "if (Training_Percentage > 0):\n",
    "    val_loss_ges = np.append(val_loss_ges, history.history['val_loss'])\n",
    "    plt.semilogy(history.history['val_loss'])\n",
    "\n",
    "plt.title('model loss')\n",
    "plt.ylabel('loss')\n",
    "plt.xlabel('epoch')\n",
    "plt.legend(['train','eval'], loc='upper left')\n",
    "plt.show()"
   ]
  },
  {
   "cell_type": "code",
   "execution_count": 28,
   "metadata": {},
   "outputs": [],
   "source": [
    "Input_dir='../data/raw_images/sample'\n",
    "files = glob.glob(Input_dir + '/*.bmp')"
   ]
  },
  {
   "cell_type": "code",
   "execution_count": 29,
   "metadata": {},
   "outputs": [
    {
     "name": "stdout",
     "output_type": "stream",
     "text": [
      "../data/raw_images/sample/5 6\n",
      "../data/raw_images/sample/8 8\n",
      "../data/raw_images/sample/7 7\n",
      "../data/raw_images/sample/7 7\n",
      "../data/raw_images/sample/0 6\n",
      "../data/raw_images/sample/9 6\n",
      "../data/raw_images/sample/2 6\n",
      "../data/raw_images/sample/7 7\n",
      "../data/raw_images/sample/5 6\n",
      "../data/raw_images/sample/9 9\n",
      "../data/raw_images/sample/9 9\n",
      "../data/raw_images/sample/5 6\n",
      "../data/raw_images/sample/6 6\n",
      "../data/raw_images/sample/8 6\n",
      "../data/raw_images/sample/4 6\n",
      "../data/raw_images/sample/6 6\n",
      "../data/raw_images/sample/3 6\n",
      "../data/raw_images/sample/0 6\n",
      "../data/raw_images/sample/3 6\n",
      "../data/raw_images/sample/6 6\n",
      "../data/raw_images/sample/1 7\n",
      "../data/raw_images/sample/5 6\n",
      "../data/raw_images/sample/4 6\n",
      "../data/raw_images/sample/3 6\n",
      "../data/raw_images/sample/0 8\n",
      "../data/raw_images/sample/1 7\n",
      "../data/raw_images/sample/3 3\n",
      "../data/raw_images/sample/8 6\n",
      "../data/raw_images/sample/4 6\n",
      "../data/raw_images/sample/2 6\n",
      "../data/raw_images/sample/0 6\n",
      "../data/raw_images/sample/5 6\n",
      "../data/raw_images/sample/2 6\n",
      "../data/raw_images/sample/9 6\n",
      "../data/raw_images/sample/8 8\n",
      "../data/raw_images/sample/4 6\n",
      "../data/raw_images/sample/7 7\n",
      "../data/raw_images/sample/6 6\n",
      "../data/raw_images/sample/2 6\n",
      "../data/raw_images/sample/1 7\n",
      "../data/raw_images/sample/8 6\n",
      "../data/raw_images/sample/9 6\n",
      "../data/raw_images/sample/7 7\n",
      "../data/raw_images/sample/1 7\n",
      "../data/raw_images/sample/3 7\n",
      "../data/raw_images/sample/0 8\n",
      "../data/raw_images/sample/4 9\n",
      "../data/raw_images/sample/6 6\n",
      "../data/raw_images/sample/1 7\n",
      "../data/raw_images/sample/2 6\n"
     ]
    }
   ],
   "source": [
    "for file in files[:100]: \n",
    "    base = os.path.basename(file)\n",
    "    target = base[0:1]\n",
    "    image_bmp = Image.open(file)\n",
    "    test_image = np.array(image_bmp, dtype=\"float32\")\n",
    "    img = np.reshape(test_image,[1,25,15,3])\n",
    "    classes = np.argmax(model.predict(img), axis=-1)\n",
    "    classes = classes[0]\n",
    "    print(file[:27], classes)\n",
    "    "
   ]
  },
  {
   "cell_type": "markdown",
   "metadata": {},
   "source": [
    "### Save the model\n",
    "\n",
    "* Save the model to the file with the \"h5\" file format"
   ]
  },
  {
   "cell_type": "markdown",
   "metadata": {},
   "source": [
    "## Post training weight quantization"
   ]
  },
  {
   "cell_type": "markdown",
   "metadata": {},
   "source": [
    "* Depending on your requirements (performance, memory and runtime), post training quantization can be done in two ways."
   ]
  },
  {
   "cell_type": "markdown",
   "metadata": {},
   "source": [
    "Approach #1:  Post training weight quantization (quantizes weights only) In this case only weights are quantized to int8 but activations remain as they were. Inference input and output are floating-point."
   ]
  },
  {
   "cell_type": "code",
   "execution_count": 31,
   "metadata": {
    "scrolled": true
   },
   "outputs": [
    {
     "name": "stderr",
     "output_type": "stream",
     "text": [
      "2022-10-13 23:53:48.077321: W tensorflow/python/util/util.cc:348] Sets are not currently considered sequences, but this may change in the future, so consider avoiding using them.\n"
     ]
    },
    {
     "name": "stdout",
     "output_type": "stream",
     "text": [
      "INFO:tensorflow:Assets written to: /tmp/tmpgg7_66_7/assets\n"
     ]
    },
    {
     "name": "stderr",
     "output_type": "stream",
     "text": [
      "2022-10-13 23:53:48.495790: I tensorflow/core/grappler/devices.cc:69] Number of eligible GPUs (core count >= 8, compute capability >= 0.0): 0\n",
      "2022-10-13 23:53:48.495922: I tensorflow/core/grappler/clusters/single_machine.cc:357] Starting new session\n",
      "2022-10-13 23:53:48.497375: I tensorflow/core/grappler/optimizers/meta_optimizer.cc:1144] Optimization results for grappler item: graph_to_optimize\n",
      "  function_optimizer: function_optimizer did nothing. time = 0.005ms.\n",
      "  function_optimizer: function_optimizer did nothing. time = 0ms.\n",
      "\n",
      "2022-10-13 23:53:48.527752: W tensorflow/compiler/mlir/lite/python/tf_tfl_flatbuffer_helpers.cc:345] Ignored output_format.\n",
      "2022-10-13 23:53:48.527778: W tensorflow/compiler/mlir/lite/python/tf_tfl_flatbuffer_helpers.cc:348] Ignored drop_control_dependency.\n",
      "2022-10-13 23:53:48.529934: I tensorflow/compiler/mlir/tensorflow/utils/dump_mlir_util.cc:210] disabling MLIR crash reproducer, set env var `MLIR_CRASH_REPRODUCER_DIRECTORY` to enable.\n",
      "2022-10-13 23:53:48.541855: I tensorflow/lite/tools/optimize/quantize_weights.cc:225] Skipping quantization of tensor sequential_3/conv2d_9/Conv2D because it has fewer than 1024 elements (864).\n"
     ]
    },
    {
     "data": {
      "text/plain": [
       "16608"
      ]
     },
     "execution_count": 31,
     "metadata": {},
     "output_type": "execute_result"
    }
   ],
   "source": [
    "converter = tf.lite.TFLiteConverter.from_keras_model(model)\n",
    "converter.experimental_new_converter = True\n",
    "# Post training quantization\n",
    "converter.optimizations = [tf.lite.Optimize.OPTIMIZE_FOR_SIZE]\n",
    "tflite_quant_model = converter.convert()\n",
    "open(\"digit_model_quant.tflite\", \"wb\").write(tflite_quant_model)"
   ]
  },
  {
   "cell_type": "code",
   "execution_count": 32,
   "metadata": {},
   "outputs": [],
   "source": [
    "def representative_dataset():\n",
    "    for n in range(1000):\n",
    "        data = np.expand_dims(x_data[5], axis=0)\n",
    "        yield [data.astype(np.float32)]"
   ]
  },
  {
   "cell_type": "markdown",
   "metadata": {},
   "source": [
    "Approach #2: Full integer quantization (Quantizes weights and activations) In this case weights and activations are quantized to int8. First we need to follow the approach #1 to quantize weight and then implement following code to do full integer quantization. This uses quantized input and output, making it compatible with more accelerators, such as the Openmv Camera and Coral Edge TPU. Inference input and output are integers."
   ]
  },
  {
   "cell_type": "code",
   "execution_count": 33,
   "metadata": {},
   "outputs": [
    {
     "name": "stdout",
     "output_type": "stream",
     "text": [
      "INFO:tensorflow:Assets written to: /tmp/tmp574fg52j/assets\n"
     ]
    },
    {
     "name": "stderr",
     "output_type": "stream",
     "text": [
      "INFO:tensorflow:Assets written to: /tmp/tmp574fg52j/assets\n",
      "2022-10-13 23:53:57.786799: I tensorflow/core/grappler/devices.cc:69] Number of eligible GPUs (core count >= 8, compute capability >= 0.0): 0\n",
      "2022-10-13 23:53:57.786924: I tensorflow/core/grappler/clusters/single_machine.cc:357] Starting new session\n",
      "2022-10-13 23:53:57.788418: I tensorflow/core/grappler/optimizers/meta_optimizer.cc:1144] Optimization results for grappler item: graph_to_optimize\n",
      "  function_optimizer: function_optimizer did nothing. time = 0.005ms.\n",
      "  function_optimizer: function_optimizer did nothing. time = 0.001ms.\n",
      "\n",
      "2022-10-13 23:53:57.819546: W tensorflow/compiler/mlir/lite/python/tf_tfl_flatbuffer_helpers.cc:345] Ignored output_format.\n",
      "2022-10-13 23:53:57.819573: W tensorflow/compiler/mlir/lite/python/tf_tfl_flatbuffer_helpers.cc:348] Ignored drop_control_dependency.\n",
      "fully_quantize: 0, inference_type: 6, input_inference_type: 9, output_inference_type: 9\n"
     ]
    },
    {
     "data": {
      "text/plain": [
       "15120"
      ]
     },
     "execution_count": 33,
     "metadata": {},
     "output_type": "execute_result"
    }
   ],
   "source": [
    "converter.optimizations = [tf.lite.Optimize.DEFAULT]\n",
    "converter.representative_dataset = representative_dataset\n",
    "converter.target_spec.supported_ops = [tf.lite.OpsSet.TFLITE_BUILTINS_INT8]\n",
    "converter.target_spec.supported_types = [tf.dtypes.int8]\n",
    "converter.inference_input_type = tf.int8\n",
    "converter.inference_output_type = tf.int8\n",
    "tflite_model_quant = converter.convert()\n",
    "open(\"digit_model_quant.tflite_int8.tflite\", \"wb\").write(tflite_model_quant)"
   ]
  },
  {
   "cell_type": "code",
   "execution_count": null,
   "metadata": {},
   "outputs": [],
   "source": []
  }
 ],
 "metadata": {
  "kernelspec": {
   "display_name": "Python 3 (ipykernel)",
   "language": "python",
   "name": "python3"
  },
  "language_info": {
   "codemirror_mode": {
    "name": "ipython",
    "version": 3
   },
   "file_extension": ".py",
   "mimetype": "text/x-python",
   "name": "python",
   "nbconvert_exporter": "python",
   "pygments_lexer": "ipython3",
   "version": "3.8.10"
  }
 },
 "nbformat": 4,
 "nbformat_minor": 2
}
