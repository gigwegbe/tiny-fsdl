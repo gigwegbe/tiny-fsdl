{
 "cells": [
  {
   "cell_type": "markdown",
   "metadata": {},
   "source": [
    "# CNN Training\n",
    "\n",
    "Target of this code is to train a CNN network to classify images of a digital readout to the digits 0 to 9. \n",
    "\n",
    "### Preparing the training\n",
    "* First all libraries are loaded\n",
    "    * It is assumed, that they are installed during the Python setup\n",
    "* matplotlib is set to print the output inline in the jupyter notebook"
   ]
  },
  {
   "cell_type": "code",
   "execution_count": 29,
   "metadata": {
    "scrolled": true
   },
   "outputs": [],
   "source": [
    "########### Basic Parameters for Running: ################################\n",
    "    \n",
    "TFliteNamingAndVersion = \"testing\"   # Used for tflite Filename\n",
    "Training_Percentage = 0.3              # 0.0 = Use all Images for Training\n",
    "Epochs = 200\n",
    "\n",
    "##########################################################################\n",
    "\n",
    "\n",
    "import tensorflow as tf\n",
    "import matplotlib.pyplot as plt\n",
    "import glob\n",
    "import os\n",
    "import numpy as np\n",
    "from sklearn.utils import shuffle\n",
    "from tensorflow.python import keras\n",
    "from tensorflow.python.keras import Sequential\n",
    "from tensorflow.keras.layers import Dense, InputLayer, Conv2D, MaxPool2D, Flatten, BatchNormalization\n",
    "from tensorflow.keras.preprocessing.image import ImageDataGenerator\n",
    "from sklearn.model_selection import train_test_split\n",
    "from tensorflow.keras.callbacks import History, EarlyStopping\n",
    "from tensorflow.keras.utils import to_categorical\n",
    "from PIL import Image \n",
    "from pathlib import Path\n",
    "from tensorflow.keras import regularizers\n",
    "\n",
    "\n",
    "loss_ges = np.array([])\n",
    "val_loss_ges = np.array([])\n",
    "\n",
    "%matplotlib inline\n",
    "np.set_printoptions(precision=4)\n",
    "np.set_printoptions(suppress=True)"
   ]
  },
  {
   "cell_type": "markdown",
   "metadata": {},
   "source": [
    "### Load training data\n",
    "* The data is expected in the \"Input_dir\"\n",
    "* Inside subdirectories are expected from 0, 1, ... 9 in which the pictures are sorted according to their values (=category)\n",
    "* Picture size must be 15x25 with 3 color channels (RGB)\n",
    "* The filename can be arbitrary\n",
    "\n",
    "* The images are stored in the x_data[]\n",
    "* The expected category for each image in the corresponding y_data[]\n",
    "\n",
    "* The last step is a shuffle (from sklearn.utils) and split the data into training and validation data"
   ]
  },
  {
   "cell_type": "code",
   "execution_count": 32,
   "metadata": {},
   "outputs": [
    {
     "name": "stdout",
     "output_type": "stream",
     "text": [
      "converter.py  \u001b[0m\u001b[01;34mlabelled_bmp_data_equal_combined_final\u001b[0m/\r\n",
      "\u001b[01;34mdata1\u001b[0m/        \u001b[01;31mlabelled_bmp_data_equal_combined_final.zip\u001b[0m\r\n",
      "\u001b[01;34mdata2\u001b[0m/        \u001b[01;34mlabelled_bmp_data_equal_combined_orig\u001b[0m/\r\n",
      "\u001b[01;34mdata3\u001b[0m/        \u001b[01;31mlabelled_bmp_data.zip\u001b[0m\r\n",
      "\u001b[01;34mdata4\u001b[0m/        \u001b[01;31mlabelled_grayscale_png.zip\u001b[0m\r\n",
      "\u001b[01;34mdata5\u001b[0m/        \u001b[01;34msample\u001b[0m/\r\n",
      "\u001b[01;34mfine\u001b[0m/         \u001b[01;34msample_jpg\u001b[0m/\r\n",
      "\u001b[01;31mfine.zip\u001b[0m\r\n"
     ]
    }
   ],
   "source": [
    "ls ../data/raw_images"
   ]
  },
  {
   "cell_type": "code",
   "execution_count": 33,
   "metadata": {
    "scrolled": false
   },
   "outputs": [
    {
     "name": "stdout",
     "output_type": "stream",
     "text": [
      "(9278, 25, 15, 3)\n",
      "(9278, 10)\n"
     ]
    }
   ],
   "source": [
    "Input_dir='../data/raw_images/fine'\n",
    "\n",
    "files = glob.glob(Input_dir + '/*.bmp')\n",
    "x_data = []\n",
    "y_data = []\n",
    "\n",
    "for file in files:\n",
    "    base = os.path.basename(file)\n",
    "    target = base[0:1]\n",
    "    category = int(target)\n",
    "    test_image = Image.open(file)\n",
    "    test_image = np.array(test_image, dtype=\"float32\")\n",
    "    x_data.append(test_image)\n",
    "    y_data.append(np.array([category]))\n",
    "\n",
    "x_data = np.array(x_data)/255.0\n",
    "y_data = np.array(y_data)\n",
    "y_data = to_categorical(y_data, 10)\n",
    "print(x_data.shape)\n",
    "print(y_data.shape)\n",
    "\n",
    "x_data, y_data = shuffle(x_data, y_data)\n",
    "\n",
    "if (Training_Percentage > 0):\n",
    "    X_train, X_test, y_train, y_test = train_test_split(x_data, y_data, test_size=Training_Percentage)\n",
    "else:\n",
    "    X_train = x_data\n",
    "    y_train = y_data"
   ]
  },
  {
   "cell_type": "code",
   "execution_count": 34,
   "metadata": {},
   "outputs": [
    {
     "data": {
      "text/plain": [
       "9278"
      ]
     },
     "execution_count": 34,
     "metadata": {},
     "output_type": "execute_result"
    }
   ],
   "source": [
    "len(x_data)"
   ]
  },
  {
   "cell_type": "code",
   "execution_count": 35,
   "metadata": {},
   "outputs": [
    {
     "data": {
      "text/plain": [
       "6494"
      ]
     },
     "execution_count": 35,
     "metadata": {},
     "output_type": "execute_result"
    }
   ],
   "source": [
    "len(X_train)"
   ]
  },
  {
   "cell_type": "code",
   "execution_count": 36,
   "metadata": {},
   "outputs": [
    {
     "data": {
      "text/plain": [
       "array([[[0.7216, 0.8471, 0.8157],\n",
       "        [0.7529, 0.8627, 0.8157],\n",
       "        [0.7529, 0.8627, 0.8157],\n",
       "        ...,\n",
       "        [0.7216, 0.8   , 0.7529],\n",
       "        [0.6902, 0.7686, 0.7216],\n",
       "        [0.6588, 0.7373, 0.6902]],\n",
       "\n",
       "       [[0.7529, 0.8627, 0.8157],\n",
       "        [0.7529, 0.8627, 0.8157],\n",
       "        [0.7529, 0.8627, 0.8157],\n",
       "        ...,\n",
       "        [0.7216, 0.8   , 0.7529],\n",
       "        [0.6902, 0.7686, 0.7216],\n",
       "        [0.6588, 0.7373, 0.6588]],\n",
       "\n",
       "       [[0.7529, 0.8627, 0.8157],\n",
       "        [0.7529, 0.8784, 0.8157],\n",
       "        [0.7529, 0.8784, 0.8157],\n",
       "        ...,\n",
       "        [0.7216, 0.8   , 0.7529],\n",
       "        [0.6902, 0.7686, 0.7216],\n",
       "        [0.6588, 0.7216, 0.6588]],\n",
       "\n",
       "       ...,\n",
       "\n",
       "       [[0.6588, 0.7373, 0.6588],\n",
       "        [0.6275, 0.7216, 0.6588],\n",
       "        [0.5961, 0.7216, 0.6588],\n",
       "        ...,\n",
       "        [0.5961, 0.7059, 0.6275],\n",
       "        [0.5961, 0.6902, 0.6275],\n",
       "        [0.5647, 0.6745, 0.5961]],\n",
       "\n",
       "       [[0.6275, 0.7059, 0.6588],\n",
       "        [0.5961, 0.6902, 0.6275],\n",
       "        [0.5647, 0.6745, 0.6275],\n",
       "        ...,\n",
       "        [0.5961, 0.6745, 0.5961],\n",
       "        [0.5647, 0.6745, 0.5961],\n",
       "        [0.5647, 0.6431, 0.5961]],\n",
       "\n",
       "       [[0.5647, 0.6745, 0.5961],\n",
       "        [0.5333, 0.6588, 0.5961],\n",
       "        [0.502 , 0.6431, 0.5647],\n",
       "        ...,\n",
       "        [0.5333, 0.6431, 0.5647],\n",
       "        [0.5333, 0.6431, 0.5333],\n",
       "        [0.502 , 0.6275, 0.5647]]], dtype=float32)"
      ]
     },
     "execution_count": 36,
     "metadata": {},
     "output_type": "execute_result"
    }
   ],
   "source": [
    "x_data[2]"
   ]
  },
  {
   "cell_type": "markdown",
   "metadata": {},
   "source": [
    "### Define the model\n",
    "\n",
    "The layout of the network ist a typcial CNN network with alternating **Conv2D** and **MaxPool2D** layers. Finished after **flattening** with additional **Dense** layer.\n",
    "\n",
    "#### Important\n",
    "* Shape of the input layer: (15, 25, 3)\n",
    "* Number of output layers: 10\n",
    "* As loss function \"categorical_crossentropy\" is choosen, as it is a categories task"
   ]
  },
  {
   "cell_type": "code",
   "execution_count": 37,
   "metadata": {},
   "outputs": [],
   "source": [
    "model = tf.keras.Sequential([\n",
    "        tf.keras.layers.InputLayer(input_shape=(25,15,3)),\n",
    "        tf.keras.layers.Conv2D(64, kernel_size=3, padding='same', activity_regularizer=regularizers.L2(1e-5),  activation='relu'),\n",
    "        tf.keras.layers.MaxPooling2D(pool_size=2, strides=2, padding='same'),\n",
    "        tf.keras.layers.Conv2D(32, kernel_size=3, padding='same',activity_regularizer=regularizers.L2(1e-5), activation='relu'),\n",
    "        tf.keras.layers.MaxPooling2D(pool_size=2, strides=2, padding='same'),\n",
    "        tf.keras.layers.Conv2D(16, kernel_size=3, padding='same',activity_regularizer=regularizers.L2(1e-5), activation='relu'),\n",
    "        tf.keras.layers.MaxPooling2D(pool_size=2, strides=2, padding='same'),\n",
    "        tf.keras.layers.Flatten(),\n",
    "        tf.keras.layers.Dense(64, activation=\"relu\"),\n",
    "        tf.keras.layers.Dropout(0.25),\n",
    "        tf.keras.layers.Dense(10, activation=tf.nn.softmax)\n",
    "    ])\n"
   ]
  },
  {
   "cell_type": "code",
   "execution_count": 38,
   "metadata": {},
   "outputs": [
    {
     "name": "stdout",
     "output_type": "stream",
     "text": [
      "Model: \"sequential_1\"\n",
      "_________________________________________________________________\n",
      "Layer (type)                 Output Shape              Param #   \n",
      "=================================================================\n",
      "conv2d_3 (Conv2D)            (None, 25, 15, 64)        1792      \n",
      "_________________________________________________________________\n",
      "max_pooling2d_3 (MaxPooling2 (None, 13, 8, 64)         0         \n",
      "_________________________________________________________________\n",
      "conv2d_4 (Conv2D)            (None, 13, 8, 32)         18464     \n",
      "_________________________________________________________________\n",
      "max_pooling2d_4 (MaxPooling2 (None, 7, 4, 32)          0         \n",
      "_________________________________________________________________\n",
      "conv2d_5 (Conv2D)            (None, 7, 4, 16)          4624      \n",
      "_________________________________________________________________\n",
      "max_pooling2d_5 (MaxPooling2 (None, 4, 2, 16)          0         \n",
      "_________________________________________________________________\n",
      "flatten_1 (Flatten)          (None, 128)               0         \n",
      "_________________________________________________________________\n",
      "dense_2 (Dense)              (None, 64)                8256      \n",
      "_________________________________________________________________\n",
      "dropout_1 (Dropout)          (None, 64)                0         \n",
      "_________________________________________________________________\n",
      "dense_3 (Dense)              (None, 10)                650       \n",
      "=================================================================\n",
      "Total params: 33,786\n",
      "Trainable params: 33,786\n",
      "Non-trainable params: 0\n",
      "_________________________________________________________________\n"
     ]
    }
   ],
   "source": [
    "model.summary()"
   ]
  },
  {
   "cell_type": "code",
   "execution_count": 39,
   "metadata": {},
   "outputs": [
    {
     "name": "stderr",
     "output_type": "stream",
     "text": [
      "/home/george/anaconda3/envs/gputensorflow/lib/python3.8/site-packages/tensorflow/python/keras/optimizer_v2/optimizer_v2.py:374: UserWarning: The `lr` argument is deprecated, use `learning_rate` instead.\n",
      "  warnings.warn(\n"
     ]
    }
   ],
   "source": [
    "model.compile(loss=keras.losses.categorical_crossentropy, optimizer=tf.keras.optimizers.RMSprop(lr=1e-4), metrics = [\"accuracy\"])"
   ]
  },
  {
   "cell_type": "markdown",
   "metadata": {},
   "source": [
    "# Training\n",
    "The input pictures are randomly scattered for brightness, pixel shift variations and rotation angle. This is implemented with a ImageDataGenerator.\n"
   ]
  },
  {
   "cell_type": "code",
   "execution_count": 40,
   "metadata": {
    "scrolled": true
   },
   "outputs": [
    {
     "name": "stdout",
     "output_type": "stream",
     "text": [
      "Epoch 1/200\n",
      "2320/2320 [==============================] - 9s 4ms/step - loss: 2.2898 - accuracy: 0.1453 - val_loss: 2.2694 - val_accuracy: 0.1692\n",
      "Epoch 2/200\n",
      "2320/2320 [==============================] - 8s 4ms/step - loss: 2.2248 - accuracy: 0.1732 - val_loss: 2.1436 - val_accuracy: 0.2015\n",
      "Epoch 3/200\n",
      "2320/2320 [==============================] - 8s 4ms/step - loss: 2.1250 - accuracy: 0.2065 - val_loss: 2.0381 - val_accuracy: 0.2425\n",
      "Epoch 4/200\n",
      "2320/2320 [==============================] - 9s 4ms/step - loss: 2.0519 - accuracy: 0.2469 - val_loss: 1.9530 - val_accuracy: 0.3585\n",
      "Epoch 5/200\n",
      "2320/2320 [==============================] - 9s 4ms/step - loss: 1.9476 - accuracy: 0.3030 - val_loss: 1.8136 - val_accuracy: 0.3991\n",
      "Epoch 6/200\n",
      "2320/2320 [==============================] - 8s 4ms/step - loss: 1.7702 - accuracy: 0.3949 - val_loss: 1.6486 - val_accuracy: 0.5219\n",
      "Epoch 7/200\n",
      "2320/2320 [==============================] - 8s 4ms/step - loss: 1.5003 - accuracy: 0.5087 - val_loss: 1.2695 - val_accuracy: 0.6002\n",
      "Epoch 8/200\n",
      "2320/2320 [==============================] - 8s 4ms/step - loss: 1.1981 - accuracy: 0.6108 - val_loss: 0.9683 - val_accuracy: 0.7195\n",
      "Epoch 9/200\n",
      "2320/2320 [==============================] - 8s 4ms/step - loss: 0.9748 - accuracy: 0.6725 - val_loss: 0.7966 - val_accuracy: 0.7360\n",
      "Epoch 10/200\n",
      "2320/2320 [==============================] - 10s 4ms/step - loss: 0.8263 - accuracy: 0.7245 - val_loss: 0.6865 - val_accuracy: 0.7446\n",
      "Epoch 11/200\n",
      "2320/2320 [==============================] - 9s 4ms/step - loss: 0.6993 - accuracy: 0.7669 - val_loss: 0.6465 - val_accuracy: 0.7823\n",
      "Epoch 12/200\n",
      "2320/2320 [==============================] - 8s 4ms/step - loss: 0.6050 - accuracy: 0.8021 - val_loss: 0.5118 - val_accuracy: 0.8348\n",
      "Epoch 13/200\n",
      "2320/2320 [==============================] - 8s 4ms/step - loss: 0.5209 - accuracy: 0.8282 - val_loss: 0.3907 - val_accuracy: 0.8836\n",
      "Epoch 14/200\n",
      "2320/2320 [==============================] - 8s 4ms/step - loss: 0.4608 - accuracy: 0.8472 - val_loss: 0.3741 - val_accuracy: 0.8833\n",
      "Epoch 15/200\n",
      "2320/2320 [==============================] - 8s 4ms/step - loss: 0.3942 - accuracy: 0.8699 - val_loss: 0.2597 - val_accuracy: 0.9217\n",
      "Epoch 16/200\n",
      "2320/2320 [==============================] - 8s 4ms/step - loss: 0.3559 - accuracy: 0.8808 - val_loss: 0.2914 - val_accuracy: 0.8998\n",
      "Epoch 17/200\n",
      "2320/2320 [==============================] - 8s 4ms/step - loss: 0.3174 - accuracy: 0.8949 - val_loss: 0.1981 - val_accuracy: 0.9382\n",
      "Epoch 18/200\n",
      "2320/2320 [==============================] - 9s 4ms/step - loss: 0.2778 - accuracy: 0.9088 - val_loss: 0.1939 - val_accuracy: 0.9389\n",
      "Epoch 19/200\n",
      "2320/2320 [==============================] - 8s 3ms/step - loss: 0.2509 - accuracy: 0.9185 - val_loss: 0.1762 - val_accuracy: 0.9497\n",
      "Epoch 20/200\n",
      "2320/2320 [==============================] - 8s 3ms/step - loss: 0.2351 - accuracy: 0.9247 - val_loss: 0.1486 - val_accuracy: 0.9569\n",
      "Epoch 21/200\n",
      "2320/2320 [==============================] - 8s 4ms/step - loss: 0.2078 - accuracy: 0.9313 - val_loss: 0.1639 - val_accuracy: 0.9425\n",
      "Epoch 22/200\n",
      "2320/2320 [==============================] - 8s 4ms/step - loss: 0.1955 - accuracy: 0.9365 - val_loss: 0.1380 - val_accuracy: 0.9537\n",
      "Epoch 23/200\n",
      "2320/2320 [==============================] - 8s 4ms/step - loss: 0.1878 - accuracy: 0.9381 - val_loss: 0.1254 - val_accuracy: 0.9598\n",
      "Epoch 24/200\n",
      "2320/2320 [==============================] - 8s 4ms/step - loss: 0.1681 - accuracy: 0.9457 - val_loss: 0.1321 - val_accuracy: 0.9544\n",
      "Epoch 25/200\n",
      "2320/2320 [==============================] - 8s 4ms/step - loss: 0.1537 - accuracy: 0.9497 - val_loss: 0.1020 - val_accuracy: 0.9684\n",
      "Epoch 26/200\n",
      "2320/2320 [==============================] - 8s 4ms/step - loss: 0.1510 - accuracy: 0.9462 - val_loss: 0.1063 - val_accuracy: 0.9659\n",
      "Epoch 27/200\n",
      "2320/2320 [==============================] - 8s 4ms/step - loss: 0.1484 - accuracy: 0.9516 - val_loss: 0.0942 - val_accuracy: 0.9662\n",
      "Epoch 28/200\n",
      "2320/2320 [==============================] - 8s 4ms/step - loss: 0.1322 - accuracy: 0.9569 - val_loss: 0.0885 - val_accuracy: 0.9691\n",
      "Epoch 29/200\n",
      "2320/2320 [==============================] - 8s 4ms/step - loss: 0.1295 - accuracy: 0.9573 - val_loss: 0.0898 - val_accuracy: 0.9709\n",
      "Epoch 30/200\n",
      "2320/2320 [==============================] - 8s 4ms/step - loss: 0.1236 - accuracy: 0.9597 - val_loss: 0.0781 - val_accuracy: 0.9745\n",
      "Epoch 31/200\n",
      "2320/2320 [==============================] - 8s 4ms/step - loss: 0.1132 - accuracy: 0.9636 - val_loss: 0.1045 - val_accuracy: 0.9616\n",
      "Epoch 32/200\n",
      "2320/2320 [==============================] - 8s 4ms/step - loss: 0.1095 - accuracy: 0.9646 - val_loss: 0.0663 - val_accuracy: 0.9806\n",
      "Epoch 33/200\n",
      "2320/2320 [==============================] - 9s 4ms/step - loss: 0.1081 - accuracy: 0.9638 - val_loss: 0.0723 - val_accuracy: 0.9802\n",
      "Epoch 34/200\n",
      "2320/2320 [==============================] - 8s 4ms/step - loss: 0.1071 - accuracy: 0.9638 - val_loss: 0.0829 - val_accuracy: 0.9716\n",
      "Epoch 35/200\n",
      "2320/2320 [==============================] - 8s 4ms/step - loss: 0.1009 - accuracy: 0.9678 - val_loss: 0.0579 - val_accuracy: 0.9817\n",
      "Epoch 36/200\n",
      "2320/2320 [==============================] - 8s 4ms/step - loss: 0.0932 - accuracy: 0.9699 - val_loss: 0.0677 - val_accuracy: 0.9777\n",
      "Epoch 37/200\n",
      "2320/2320 [==============================] - 8s 4ms/step - loss: 0.0965 - accuracy: 0.9684 - val_loss: 0.0698 - val_accuracy: 0.9745\n",
      "Epoch 38/200\n",
      "2320/2320 [==============================] - 8s 4ms/step - loss: 0.0904 - accuracy: 0.9683 - val_loss: 0.0757 - val_accuracy: 0.9723\n",
      "Epoch 39/200\n",
      "2320/2320 [==============================] - 8s 4ms/step - loss: 0.0927 - accuracy: 0.9712 - val_loss: 0.0773 - val_accuracy: 0.9713\n",
      "Epoch 40/200\n",
      "2320/2320 [==============================] - 8s 4ms/step - loss: 0.0884 - accuracy: 0.9706 - val_loss: 0.0550 - val_accuracy: 0.9820\n",
      "Epoch 41/200\n",
      "2320/2320 [==============================] - 8s 4ms/step - loss: 0.0900 - accuracy: 0.9710 - val_loss: 0.0586 - val_accuracy: 0.9817\n",
      "Epoch 42/200\n",
      "2320/2320 [==============================] - 8s 4ms/step - loss: 0.0797 - accuracy: 0.9737 - val_loss: 0.0554 - val_accuracy: 0.9817\n",
      "Epoch 43/200\n",
      "2320/2320 [==============================] - 8s 4ms/step - loss: 0.0772 - accuracy: 0.9735 - val_loss: 0.0522 - val_accuracy: 0.9795\n",
      "Epoch 44/200\n",
      "2320/2320 [==============================] - 8s 4ms/step - loss: 0.0776 - accuracy: 0.9749 - val_loss: 0.0848 - val_accuracy: 0.9702\n",
      "Epoch 45/200\n",
      "2320/2320 [==============================] - 8s 4ms/step - loss: 0.0758 - accuracy: 0.9747 - val_loss: 0.0518 - val_accuracy: 0.9820\n",
      "Epoch 46/200\n",
      "2320/2320 [==============================] - 8s 4ms/step - loss: 0.0842 - accuracy: 0.9724 - val_loss: 0.0424 - val_accuracy: 0.9864\n",
      "Epoch 47/200\n",
      "2320/2320 [==============================] - 9s 4ms/step - loss: 0.0743 - accuracy: 0.9753 - val_loss: 0.0598 - val_accuracy: 0.9795\n",
      "Epoch 48/200\n",
      "2320/2320 [==============================] - 8s 4ms/step - loss: 0.0690 - accuracy: 0.9759 - val_loss: 0.0413 - val_accuracy: 0.9860\n",
      "Epoch 49/200\n",
      "2320/2320 [==============================] - 8s 4ms/step - loss: 0.0712 - accuracy: 0.9768 - val_loss: 0.0497 - val_accuracy: 0.9838\n",
      "Epoch 50/200\n",
      "2320/2320 [==============================] - 8s 4ms/step - loss: 0.0769 - accuracy: 0.9756 - val_loss: 0.0565 - val_accuracy: 0.9799\n",
      "Epoch 51/200\n",
      "2320/2320 [==============================] - 8s 4ms/step - loss: 0.0738 - accuracy: 0.9749 - val_loss: 0.0384 - val_accuracy: 0.9864\n",
      "Epoch 52/200\n",
      "2320/2320 [==============================] - 8s 4ms/step - loss: 0.0690 - accuracy: 0.9793 - val_loss: 0.0418 - val_accuracy: 0.9849\n",
      "Epoch 53/200\n",
      "2320/2320 [==============================] - 8s 4ms/step - loss: 0.0708 - accuracy: 0.9752 - val_loss: 0.0356 - val_accuracy: 0.9864\n",
      "Epoch 54/200\n",
      "2320/2320 [==============================] - 8s 4ms/step - loss: 0.0646 - accuracy: 0.9775 - val_loss: 0.0435 - val_accuracy: 0.9856\n",
      "Epoch 55/200\n",
      "2320/2320 [==============================] - 8s 4ms/step - loss: 0.0672 - accuracy: 0.9768 - val_loss: 0.0661 - val_accuracy: 0.9749\n",
      "Epoch 56/200\n",
      "2320/2320 [==============================] - 8s 4ms/step - loss: 0.0675 - accuracy: 0.9778 - val_loss: 0.0395 - val_accuracy: 0.9867\n",
      "Epoch 57/200\n"
     ]
    },
    {
     "name": "stdout",
     "output_type": "stream",
     "text": [
      "2320/2320 [==============================] - 8s 4ms/step - loss: 0.0584 - accuracy: 0.9814 - val_loss: 0.0477 - val_accuracy: 0.9849\n",
      "Epoch 58/200\n",
      "2320/2320 [==============================] - 8s 4ms/step - loss: 0.0630 - accuracy: 0.9803 - val_loss: 0.0399 - val_accuracy: 0.9864\n",
      "Epoch 59/200\n",
      "2320/2320 [==============================] - 8s 4ms/step - loss: 0.0632 - accuracy: 0.9793 - val_loss: 0.0483 - val_accuracy: 0.9813\n",
      "Epoch 60/200\n",
      "2320/2320 [==============================] - 8s 4ms/step - loss: 0.0626 - accuracy: 0.9810 - val_loss: 0.0404 - val_accuracy: 0.9871\n",
      "Epoch 61/200\n",
      "2320/2320 [==============================] - 8s 4ms/step - loss: 0.0623 - accuracy: 0.9807 - val_loss: 0.0355 - val_accuracy: 0.9871\n",
      "Epoch 62/200\n",
      "2320/2320 [==============================] - 8s 4ms/step - loss: 0.0594 - accuracy: 0.9815 - val_loss: 0.0382 - val_accuracy: 0.9856\n",
      "Epoch 63/200\n",
      "2320/2320 [==============================] - 8s 4ms/step - loss: 0.0652 - accuracy: 0.9782 - val_loss: 0.0546 - val_accuracy: 0.9788\n",
      "Epoch 64/200\n",
      "2320/2320 [==============================] - 8s 4ms/step - loss: 0.0642 - accuracy: 0.9794 - val_loss: 0.0330 - val_accuracy: 0.9885\n",
      "Epoch 65/200\n",
      "2320/2320 [==============================] - 8s 4ms/step - loss: 0.0602 - accuracy: 0.9806 - val_loss: 0.0446 - val_accuracy: 0.9885\n",
      "Epoch 66/200\n",
      "2320/2320 [==============================] - 8s 4ms/step - loss: 0.0645 - accuracy: 0.9811 - val_loss: 0.0317 - val_accuracy: 0.9907\n",
      "Epoch 67/200\n",
      "2320/2320 [==============================] - 8s 4ms/step - loss: 0.0534 - accuracy: 0.9818 - val_loss: 0.0347 - val_accuracy: 0.9903\n",
      "Epoch 68/200\n",
      "2320/2320 [==============================] - 8s 4ms/step - loss: 0.0567 - accuracy: 0.9833 - val_loss: 0.0338 - val_accuracy: 0.9892\n",
      "Epoch 69/200\n",
      "2320/2320 [==============================] - 8s 4ms/step - loss: 0.0503 - accuracy: 0.9848 - val_loss: 0.0382 - val_accuracy: 0.9860\n",
      "Epoch 70/200\n",
      "2320/2320 [==============================] - 8s 4ms/step - loss: 0.0568 - accuracy: 0.9818 - val_loss: 0.0423 - val_accuracy: 0.9856\n",
      "Epoch 71/200\n",
      "2320/2320 [==============================] - 8s 4ms/step - loss: 0.0494 - accuracy: 0.9839 - val_loss: 0.0425 - val_accuracy: 0.9856\n",
      "Epoch 72/200\n",
      "2320/2320 [==============================] - 8s 4ms/step - loss: 0.0520 - accuracy: 0.9825 - val_loss: 0.0477 - val_accuracy: 0.9849\n",
      "Epoch 73/200\n",
      "2320/2320 [==============================] - 8s 4ms/step - loss: 0.0574 - accuracy: 0.9836 - val_loss: 0.0336 - val_accuracy: 0.9878\n",
      "Epoch 74/200\n",
      "2320/2320 [==============================] - 8s 4ms/step - loss: 0.0520 - accuracy: 0.9846 - val_loss: 0.0357 - val_accuracy: 0.9885\n",
      "Epoch 75/200\n",
      "2320/2320 [==============================] - 8s 4ms/step - loss: 0.0546 - accuracy: 0.9825 - val_loss: 0.0567 - val_accuracy: 0.9831\n",
      "Epoch 76/200\n",
      "2320/2320 [==============================] - 9s 4ms/step - loss: 0.0528 - accuracy: 0.9820 - val_loss: 0.0573 - val_accuracy: 0.9784\n",
      "Epoch 77/200\n",
      "2320/2320 [==============================] - 9s 4ms/step - loss: 0.0513 - accuracy: 0.9838 - val_loss: 0.0412 - val_accuracy: 0.9874\n",
      "Epoch 78/200\n",
      "2320/2320 [==============================] - 9s 4ms/step - loss: 0.0589 - accuracy: 0.9826 - val_loss: 0.0370 - val_accuracy: 0.9910\n",
      "Epoch 79/200\n",
      "2320/2320 [==============================] - 9s 4ms/step - loss: 0.0490 - accuracy: 0.9830 - val_loss: 0.0285 - val_accuracy: 0.9921\n",
      "Epoch 80/200\n",
      "2320/2320 [==============================] - 8s 4ms/step - loss: 0.0546 - accuracy: 0.9823 - val_loss: 0.0363 - val_accuracy: 0.9885\n",
      "Epoch 81/200\n",
      "2320/2320 [==============================] - 8s 4ms/step - loss: 0.0607 - accuracy: 0.9802 - val_loss: 0.0337 - val_accuracy: 0.9892\n",
      "Epoch 82/200\n",
      "2320/2320 [==============================] - 8s 4ms/step - loss: 0.0479 - accuracy: 0.9839 - val_loss: 0.0263 - val_accuracy: 0.9925\n",
      "Epoch 83/200\n",
      "2320/2320 [==============================] - 8s 4ms/step - loss: 0.0463 - accuracy: 0.9847 - val_loss: 0.0394 - val_accuracy: 0.9856\n",
      "Epoch 84/200\n",
      "2320/2320 [==============================] - 8s 4ms/step - loss: 0.0528 - accuracy: 0.9831 - val_loss: 0.0494 - val_accuracy: 0.9846\n",
      "Epoch 85/200\n",
      "2320/2320 [==============================] - 8s 4ms/step - loss: 0.0513 - accuracy: 0.9840 - val_loss: 0.0318 - val_accuracy: 0.9892\n",
      "Epoch 86/200\n",
      "2320/2320 [==============================] - 8s 4ms/step - loss: 0.0502 - accuracy: 0.9821 - val_loss: 0.0279 - val_accuracy: 0.9914\n",
      "Epoch 87/200\n",
      "2320/2320 [==============================] - 8s 4ms/step - loss: 0.0476 - accuracy: 0.9847 - val_loss: 0.0713 - val_accuracy: 0.9767\n",
      "Epoch 88/200\n",
      "2320/2320 [==============================] - 8s 4ms/step - loss: 0.0573 - accuracy: 0.9836 - val_loss: 0.0335 - val_accuracy: 0.9892\n",
      "Epoch 89/200\n",
      "2320/2320 [==============================] - 8s 4ms/step - loss: 0.0544 - accuracy: 0.9819 - val_loss: 0.0310 - val_accuracy: 0.9892\n",
      "Epoch 90/200\n",
      "2320/2320 [==============================] - 9s 4ms/step - loss: 0.0485 - accuracy: 0.9851 - val_loss: 0.0331 - val_accuracy: 0.9910\n",
      "Epoch 91/200\n",
      "2320/2320 [==============================] - 8s 4ms/step - loss: 0.0489 - accuracy: 0.9856 - val_loss: 0.0326 - val_accuracy: 0.9892\n",
      "Epoch 92/200\n",
      "2320/2320 [==============================] - 8s 4ms/step - loss: 0.0549 - accuracy: 0.9832 - val_loss: 0.0312 - val_accuracy: 0.9907\n",
      "Epoch 93/200\n",
      "2320/2320 [==============================] - 8s 4ms/step - loss: 0.0471 - accuracy: 0.9864 - val_loss: 0.0432 - val_accuracy: 0.9864\n",
      "Epoch 94/200\n",
      "2320/2320 [==============================] - 8s 4ms/step - loss: 0.0456 - accuracy: 0.9854 - val_loss: 0.0289 - val_accuracy: 0.9910\n"
     ]
    }
   ],
   "source": [
    "Batch_Size = 4\n",
    "Shift_Range = 1\n",
    "Brightness_Range = 0.1\n",
    "Rotation_Angle = 0\n",
    "ZoomRange = 0.0\n",
    "# Epochs = 10\n",
    "callback = []\n",
    "\n",
    "early_stopping = EarlyStopping(\n",
    "                    monitor=\"val_accuracy\",\n",
    "                    min_delta=0,\n",
    "                    patience=12,\n",
    "                    verbose=0,\n",
    "                    mode=\"auto\",\n",
    "                    baseline=None,\n",
    "                    restore_best_weights=False,\n",
    "                )\n",
    "\n",
    "# datagen = ImageDataGenerator(width_shift_range=[-Shift_Range,Shift_Range], \n",
    "#                              height_shift_range=[-Shift_Range,Shift_Range],\n",
    "#                              brightness_range=[1-Brightness_Range,1+Brightness_Range],\n",
    "#                              zoom_range=[1-ZoomRange, 1+ZoomRange],\n",
    "#                              rotation_range=Rotation_Angle,vertical_flip=True)\n",
    "\n",
    "datagen = ImageDataGenerator(featurewise_center=False,\n",
    "                                 featurewise_std_normalization=False,\n",
    "                                 rotation_range=.3,\n",
    "                                 width_shift_range=0.4,\n",
    "                                 height_shift_range=0.0,)\n",
    "\n",
    "if (Training_Percentage > 0):\n",
    "    train_iterator = datagen.flow(x_data, y_data, batch_size=Batch_Size, shuffle = True,save_format =\"bmp\" )\n",
    "    validation_iterator = datagen.flow(X_test, y_test, batch_size=Batch_Size, shuffle = False, save_format =\"bmp\")\n",
    "    history = model.fit(train_iterator, validation_data = validation_iterator, epochs = Epochs, callbacks=[early_stopping])\n",
    "else:\n",
    "    train_iterator = datagen.flow(x_data, y_data, batch_size=Batch_Size, shuffle = True,)\n",
    "    history = model.fit(train_iterator, epochs = Epochs)\n",
    "\n"
   ]
  },
  {
   "cell_type": "code",
   "execution_count": 42,
   "metadata": {},
   "outputs": [
    {
     "name": "stdout",
     "output_type": "stream",
     "text": [
      "87/87 [==============================] - 0s 3ms/step - loss: 0.0050 - accuracy: 1.0000\n"
     ]
    }
   ],
   "source": [
    "final_loss, final_acc = model.evaluate(X_test, y_test)"
   ]
  },
  {
   "cell_type": "code",
   "execution_count": 43,
   "metadata": {},
   "outputs": [],
   "source": [
    "model.save(\"final_v2.h5\")"
   ]
  },
  {
   "cell_type": "code",
   "execution_count": 44,
   "metadata": {},
   "outputs": [
    {
     "name": "stdout",
     "output_type": "stream",
     "text": [
      "converted_model.tflite\r\n",
      "digit_model.h5\r\n",
      "digit_model_quant.tflite\r\n",
      "digit_model_quant.tflite_int8_34.tflite\r\n",
      "digit_model_quant.tflite_int8_42.tflite\r\n",
      "digit_model_quant.tflite_int8.tflite\r\n",
      "digit_model_quant.tflite_int8_v2.tflite\r\n",
      "digit_model_quant.tflite_uint8_v2.tflite\r\n",
      "digit_model_quant_v2.tflite\r\n",
      "draw_digit_with_perpective_transform_crop_save_image_colored1.ipynb\r\n",
      "draw_digit_with_perpective_transform_crop_save_image_colored2.ipynb\r\n",
      "draw_digit_with_perpective_transform_crop_save_image_colored3.ipynb\r\n",
      "draw_digit_with_perpective_transform_crop_save_image_colored4.ipynb\r\n",
      "draw_digit_with_perpective_transform_crop_save_image_colored5.ipynb\r\n",
      "final.h5\r\n",
      "final_v2.h5\r\n",
      "image_augumentation.ipynb\r\n",
      "inference.ipynb\r\n",
      "inference_jpg.ipynb\r\n",
      "\u001b[0m\u001b[01;34moutput\u001b[0m/\r\n",
      "training_notebook2.ipynb\r\n",
      "training_notebook3.ipynb\r\n",
      "training_notebook4.ipynb\r\n",
      "train_notebook_final.ipynb\r\n",
      "walkthrough.ipynb\r\n"
     ]
    }
   ],
   "source": [
    "ls"
   ]
  },
  {
   "cell_type": "markdown",
   "metadata": {},
   "source": [
    "### Learing result\n",
    " \n",
    "* Visualization of the training and validation results"
   ]
  },
  {
   "cell_type": "code",
   "execution_count": 45,
   "metadata": {},
   "outputs": [
    {
     "data": {
      "image/png": "[encoded data removed]",
      "text/plain": [
       "<Figure size 432x288 with 1 Axes>"
      ]
     },
     "metadata": {
      "needs_background": "light"
     },
     "output_type": "display_data"
    }
   ],
   "source": [
    "loss_ges = np.append(loss_ges, history.history['loss'])\n",
    "plt.semilogy(history.history['loss'])\n",
    "\n",
    "if (Training_Percentage > 0):\n",
    "    val_loss_ges = np.append(val_loss_ges, history.history['val_loss'])\n",
    "    plt.semilogy(history.history['val_loss'])\n",
    "\n",
    "plt.title('model loss')\n",
    "plt.ylabel('loss')\n",
    "plt.xlabel('epoch')\n",
    "plt.legend(['train','eval'], loc='upper left')\n",
    "plt.show()"
   ]
  },
  {
   "cell_type": "code",
   "execution_count": 46,
   "metadata": {},
   "outputs": [],
   "source": [
    "Input_dir='../data/raw_images/sample_jpg'\n",
    "files = glob.glob(Input_dir + '/*.jpg')"
   ]
  },
  {
   "cell_type": "code",
   "execution_count": 49,
   "metadata": {},
   "outputs": [
    {
     "name": "stdout",
     "output_type": "stream",
     "text": [
      "../data/raw_images/sample_jpg/3 3\n",
      "../data/raw_images/sample_jpg/7 5\n",
      "../data/raw_images/sample_jpg/1 2\n",
      "../data/raw_images/sample_jpg/5 5\n",
      "../data/raw_images/sample_jpg/1 1\n",
      "../data/raw_images/sample_jpg/4 4\n",
      "../data/raw_images/sample_jpg/0 6\n",
      "../data/raw_images/sample_jpg/2 2\n",
      "../data/raw_images/sample_jpg/8 6\n",
      "../data/raw_images/sample_jpg/7 7\n",
      "../data/raw_images/sample_jpg/4 3\n",
      "../data/raw_images/sample_jpg/7 5\n",
      "../data/raw_images/sample_jpg/5 5\n",
      "../data/raw_images/sample_jpg/9 5\n",
      "../data/raw_images/sample_jpg/0 0\n",
      "../data/raw_images/sample_jpg/8 6\n",
      "../data/raw_images/sample_jpg/6 5\n",
      "../data/raw_images/sample_jpg/4 3\n",
      "../data/raw_images/sample_jpg/9 5\n",
      "../data/raw_images/sample_jpg/7 5\n",
      "../data/raw_images/sample_jpg/8 6\n",
      "../data/raw_images/sample_jpg/2 2\n",
      "../data/raw_images/sample_jpg/3 3\n",
      "../data/raw_images/sample_jpg/4 3\n",
      "../data/raw_images/sample_jpg/5 5\n",
      "../data/raw_images/sample_jpg/6 6\n",
      "../data/raw_images/sample_jpg/8 6\n",
      "../data/raw_images/sample_jpg/8 6\n",
      "../data/raw_images/sample_jpg/6 6\n",
      "../data/raw_images/sample_jpg/9 5\n",
      "../data/raw_images/sample_jpg/0 0\n",
      "../data/raw_images/sample_jpg/1 1\n",
      "../data/raw_images/sample_jpg/2 2\n",
      "../data/raw_images/sample_jpg/3 3\n",
      "../data/raw_images/sample_jpg/4 4\n",
      "../data/raw_images/sample_jpg/9 5\n",
      "../data/raw_images/sample_jpg/1 1\n",
      "../data/raw_images/sample_jpg/2 3\n",
      "../data/raw_images/sample_jpg/2 2\n",
      "../data/raw_images/sample_jpg/3 3\n",
      "../data/raw_images/sample_jpg/1 1\n",
      "../data/raw_images/sample_jpg/7 7\n",
      "../data/raw_images/sample_jpg/6 5\n",
      "../data/raw_images/sample_jpg/5 5\n",
      "../data/raw_images/sample_jpg/6 6\n",
      "../data/raw_images/sample_jpg/0 0\n",
      "../data/raw_images/sample_jpg/0 0\n",
      "../data/raw_images/sample_jpg/5 5\n",
      "../data/raw_images/sample_jpg/9 5\n",
      "../data/raw_images/sample_jpg/3 3\n"
     ]
    }
   ],
   "source": [
    "for file in files[:100]: \n",
    "    base = os.path.basename(file)\n",
    "    target = base[0:1]\n",
    "    image_bmp = Image.open(file)\n",
    "    test_image = np.array(image_bmp, dtype=\"float32\")\n",
    "    img = np.reshape(test_image,[1,25,15,3])\n",
    "    classes = np.argmax(model.predict(img), axis=-1)\n",
    "    classes = classes[0]\n",
    "    print(file[:31], classes)\n",
    "    "
   ]
  },
  {
   "cell_type": "markdown",
   "metadata": {},
   "source": [
    "### Save the model\n",
    "\n",
    "* Save the model to the file with the \"h5\" file format"
   ]
  },
  {
   "cell_type": "markdown",
   "metadata": {},
   "source": [
    "## Post training weight quantization"
   ]
  },
  {
   "cell_type": "markdown",
   "metadata": {},
   "source": [
    "* Depending on your requirements (performance, memory and runtime), post training quantization can be done in two ways."
   ]
  },
  {
   "cell_type": "markdown",
   "metadata": {},
   "source": [
    "Approach #1:  Post training weight quantization (quantizes weights only) In this case only weights are quantized to int8 but activations remain as they were. Inference input and output are floating-point."
   ]
  },
  {
   "cell_type": "code",
   "execution_count": 50,
   "metadata": {
    "scrolled": true
   },
   "outputs": [
    {
     "name": "stdout",
     "output_type": "stream",
     "text": [
      "INFO:tensorflow:Assets written to: /tmp/tmp6smyl2jg/assets\n"
     ]
    },
    {
     "name": "stderr",
     "output_type": "stream",
     "text": [
      "INFO:tensorflow:Assets written to: /tmp/tmp6smyl2jg/assets\n",
      "2022-10-17 00:44:58.165339: I tensorflow/core/grappler/devices.cc:69] Number of eligible GPUs (core count >= 8, compute capability >= 0.0): 0\n",
      "2022-10-17 00:44:58.165515: I tensorflow/core/grappler/clusters/single_machine.cc:357] Starting new session\n",
      "2022-10-17 00:44:58.167595: I tensorflow/core/grappler/optimizers/meta_optimizer.cc:1144] Optimization results for grappler item: graph_to_optimize\n",
      "  function_optimizer: function_optimizer did nothing. time = 0.011ms.\n",
      "  function_optimizer: function_optimizer did nothing. time = 0.001ms.\n",
      "\n",
      "2022-10-17 00:44:58.218170: W tensorflow/compiler/mlir/lite/python/tf_tfl_flatbuffer_helpers.cc:345] Ignored output_format.\n",
      "2022-10-17 00:44:58.218199: W tensorflow/compiler/mlir/lite/python/tf_tfl_flatbuffer_helpers.cc:348] Ignored drop_control_dependency.\n",
      "2022-10-17 00:44:58.238375: I tensorflow/lite/tools/optimize/quantize_weights.cc:225] Skipping quantization of tensor sequential_1/dense_3/MatMul because it has fewer than 1024 elements (640).\n"
     ]
    },
    {
     "data": {
      "text/plain": [
       "42928"
      ]
     },
     "execution_count": 50,
     "metadata": {},
     "output_type": "execute_result"
    }
   ],
   "source": [
    "converter = tf.lite.TFLiteConverter.from_keras_model(model)\n",
    "converter.experimental_new_converter = True\n",
    "# Post training quantization\n",
    "converter.optimizations = [tf.lite.Optimize.OPTIMIZE_FOR_SIZE]\n",
    "tflite_quant_model = converter.convert()\n",
    "open(\"digit_model_quant_v2.tflite\", \"wb\").write(tflite_quant_model)"
   ]
  },
  {
   "cell_type": "code",
   "execution_count": 51,
   "metadata": {},
   "outputs": [],
   "source": [
    "def representative_dataset():\n",
    "    for n in range(10):\n",
    "        data = np.expand_dims(x_data[5], axis=0)\n",
    "        yield [data.astype(np.float32)]"
   ]
  },
  {
   "cell_type": "code",
   "execution_count": 52,
   "metadata": {},
   "outputs": [],
   "source": [
    "def representative_data():\n",
    "    for input_value in tf.data.Dataset.from_tensor_slices(x_data).batch(1).take(100):\n",
    "    # Model has only one input so each data point has one element.\n",
    "        yield [input_value]"
   ]
  },
  {
   "cell_type": "markdown",
   "metadata": {},
   "source": [
    "Approach #2: Full integer quantization (Quantizes weights and activations) In this case weights and activations are quantized to int8. First we need to follow the approach #1 to quantize weight and then implement following code to do full integer quantization. This uses quantized input and output, making it compatible with more accelerators, such as the Openmv Camera and Coral Edge TPU. Inference input and output are integers."
   ]
  },
  {
   "cell_type": "code",
   "execution_count": 60,
   "metadata": {},
   "outputs": [
    {
     "name": "stdout",
     "output_type": "stream",
     "text": [
      "INFO:tensorflow:Assets written to: /tmp/tmpwaxptyc9/assets\n"
     ]
    },
    {
     "name": "stderr",
     "output_type": "stream",
     "text": [
      "INFO:tensorflow:Assets written to: /tmp/tmpwaxptyc9/assets\n",
      "2022-10-17 01:11:15.155498: I tensorflow/core/grappler/devices.cc:69] Number of eligible GPUs (core count >= 8, compute capability >= 0.0): 0\n",
      "2022-10-17 01:11:15.155651: I tensorflow/core/grappler/clusters/single_machine.cc:357] Starting new session\n",
      "2022-10-17 01:11:15.157378: I tensorflow/core/grappler/optimizers/meta_optimizer.cc:1144] Optimization results for grappler item: graph_to_optimize\n",
      "  function_optimizer: function_optimizer did nothing. time = 0.006ms.\n",
      "  function_optimizer: function_optimizer did nothing. time = 0.001ms.\n",
      "\n",
      "2022-10-17 01:11:15.208229: W tensorflow/compiler/mlir/lite/python/tf_tfl_flatbuffer_helpers.cc:345] Ignored output_format.\n",
      "2022-10-17 01:11:15.208258: W tensorflow/compiler/mlir/lite/python/tf_tfl_flatbuffer_helpers.cc:348] Ignored drop_control_dependency.\n",
      "fully_quantize: 0, inference_type: 6, input_inference_type: 3, output_inference_type: 3\n",
      "WARNING:absl:For model inputs containing unsupported operations which cannot be quantized, the `inference_input_type` attribute will default to the original type.\n"
     ]
    },
    {
     "data": {
      "text/plain": [
       "42064"
      ]
     },
     "execution_count": 60,
     "metadata": {},
     "output_type": "execute_result"
    }
   ],
   "source": [
    "converter.optimizations = [tf.lite.Optimize.DEFAULT]\n",
    "converter.representative_dataset = representative_dataset\n",
    "converter.target_spec.supported_ops = [tf.lite.OpsSet.TFLITE_BUILTINS_INT8]\n",
    "converter.target_spec.supported_types = [tf.dtypes.int8]\n",
    "converter.inference_input_type = tf.uint8\n",
    "converter.inference_output_type = tf.uint8\n",
    "tflite_model_quant = converter.convert()\n",
    "open(\"digit_model_quant.tflite_uint8_v2.tflite\", \"wb\").write(tflite_model_quant)"
   ]
  },
  {
   "cell_type": "code",
   "execution_count": null,
   "metadata": {},
   "outputs": [],
   "source": []
  },
  {
   "cell_type": "code",
   "execution_count": null,
   "metadata": {},
   "outputs": [],
   "source": []
  }
 ],
 "metadata": {
  "kernelspec": {
   "display_name": "Python 3 (ipykernel)",
   "language": "python",
   "name": "python3"
  },
  "language_info": {
   "codemirror_mode": {
    "name": "ipython",
    "version": 3
   },
   "file_extension": ".py",
   "mimetype": "text/x-python",
   "name": "python",
   "nbconvert_exporter": "python",
   "pygments_lexer": "ipython3",
   "version": "3.8.10"
  }
 },
 "nbformat": 4,
 "nbformat_minor": 2
}
