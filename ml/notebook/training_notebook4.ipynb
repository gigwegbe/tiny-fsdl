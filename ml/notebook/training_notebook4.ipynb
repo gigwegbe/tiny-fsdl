{
 "cells": [
  {
   "cell_type": "markdown",
   "metadata": {},
   "source": [
    "# CNN Training\n",
    "\n",
    "Target of this code is to train a CNN network to classify images of a digital readout to the digits 0 to 9. \n",
    "\n",
    "### Preparing the training\n",
    "* First all libraries are loaded\n",
    "    * It is assumed, that they are installed during the Python setup\n",
    "* matplotlib is set to print the output inline in the jupyter notebook"
   ]
  },
  {
   "cell_type": "code",
   "execution_count": 106,
   "metadata": {
    "scrolled": true
   },
   "outputs": [],
   "source": [
    "########### Basic Parameters for Running: ################################\n",
    "    \n",
    "TFliteNamingAndVersion = \"testing\"   # Used for tflite Filename\n",
    "Training_Percentage = 0.3              # 0.0 = Use all Images for Training\n",
    "Epochs = 200\n",
    "\n",
    "##########################################################################\n",
    "\n",
    "\n",
    "import tensorflow as tf\n",
    "import matplotlib.pyplot as plt\n",
    "import glob\n",
    "import os\n",
    "import numpy as np\n",
    "from sklearn.utils import shuffle\n",
    "from tensorflow.python import keras\n",
    "from tensorflow.python.keras import Sequential\n",
    "from tensorflow.keras.layers import Dense, InputLayer, Conv2D, MaxPool2D, Flatten, BatchNormalization\n",
    "from tensorflow.keras.preprocessing.image import ImageDataGenerator\n",
    "from sklearn.model_selection import train_test_split\n",
    "from tensorflow.keras.callbacks import History, EarlyStopping\n",
    "from tensorflow.keras.utils import to_categorical\n",
    "from PIL import Image \n",
    "from pathlib import Path\n",
    "from tensorflow.keras import regularizers\n",
    "\n",
    "\n",
    "loss_ges = np.array([])\n",
    "val_loss_ges = np.array([])\n",
    "\n",
    "%matplotlib inline\n",
    "np.set_printoptions(precision=4)\n",
    "np.set_printoptions(suppress=True)"
   ]
  },
  {
   "cell_type": "markdown",
   "metadata": {},
   "source": [
    "### Load training data\n",
    "* The data is expected in the \"Input_dir\"\n",
    "* Inside subdirectories are expected from 0, 1, ... 9 in which the pictures are sorted according to their values (=category)\n",
    "* Picture size must be 15x25 with 3 color channels (RGB)\n",
    "* The filename can be arbitrary\n",
    "\n",
    "* The images are stored in the x_data[]\n",
    "* The expected category for each image in the corresponding y_data[]\n",
    "\n",
    "* The last step is a shuffle (from sklearn.utils) and split the data into training and validation data"
   ]
  },
  {
   "cell_type": "code",
   "execution_count": 107,
   "metadata": {
    "scrolled": false
   },
   "outputs": [
    {
     "name": "stdout",
     "output_type": "stream",
     "text": [
      "(8279, 25, 15, 3)\n",
      "(8279, 10)\n"
     ]
    }
   ],
   "source": [
    "Input_dir='../data/raw_images/fine'\n",
    "\n",
    "files = glob.glob(Input_dir + '/*.jpg')\n",
    "x_data = []\n",
    "y_data = []\n",
    "\n",
    "for file in files:\n",
    "    base = os.path.basename(file)\n",
    "    target = base[0:1]\n",
    "    category = int(target)\n",
    "    test_image = Image.open(file)\n",
    "    test_image = np.array(test_image, dtype=\"float32\")\n",
    "    x_data.append(test_image)\n",
    "    y_data.append(np.array([category]))\n",
    "\n",
    "x_data = np.array(x_data)/255.0\n",
    "y_data = np.array(y_data)\n",
    "y_data = to_categorical(y_data, 10)\n",
    "print(x_data.shape)\n",
    "print(y_data.shape)\n",
    "\n",
    "x_data, y_data = shuffle(x_data, y_data)\n",
    "\n",
    "if (Training_Percentage > 0):\n",
    "    X_train, X_test, y_train, y_test = train_test_split(x_data, y_data, test_size=Training_Percentage)\n",
    "else:\n",
    "    X_train = x_data\n",
    "    y_train = y_data"
   ]
  },
  {
   "cell_type": "code",
   "execution_count": 108,
   "metadata": {},
   "outputs": [
    {
     "data": {
      "text/plain": [
       "8279"
      ]
     },
     "execution_count": 108,
     "metadata": {},
     "output_type": "execute_result"
    }
   ],
   "source": [
    "len(x_data)"
   ]
  },
  {
   "cell_type": "code",
   "execution_count": 109,
   "metadata": {},
   "outputs": [
    {
     "data": {
      "text/plain": [
       "5795"
      ]
     },
     "execution_count": 109,
     "metadata": {},
     "output_type": "execute_result"
    }
   ],
   "source": [
    "len(X_train)"
   ]
  },
  {
   "cell_type": "code",
   "execution_count": 110,
   "metadata": {},
   "outputs": [
    {
     "data": {
      "text/plain": [
       "array([[[0.7451, 0.851 , 0.8235],\n",
       "        [0.749 , 0.8549, 0.8275],\n",
       "        [0.7451, 0.851 , 0.8157],\n",
       "        ...,\n",
       "        [0.6941, 0.7608, 0.7216],\n",
       "        [0.6667, 0.7333, 0.6941],\n",
       "        [0.6275, 0.6941, 0.6549]],\n",
       "\n",
       "       [[0.7412, 0.8471, 0.8196],\n",
       "        [0.7451, 0.851 , 0.8157],\n",
       "        [0.7451, 0.8471, 0.8118],\n",
       "        ...,\n",
       "        [0.7059, 0.7725, 0.7333],\n",
       "        [0.6784, 0.7451, 0.7059],\n",
       "        [0.6275, 0.6941, 0.6549]],\n",
       "\n",
       "       [[0.7412, 0.8392, 0.8157],\n",
       "        [0.749 , 0.851 , 0.8157],\n",
       "        [0.7451, 0.8471, 0.8118],\n",
       "        ...,\n",
       "        [0.6941, 0.7608, 0.7216],\n",
       "        [0.6745, 0.7412, 0.702 ],\n",
       "        [0.6275, 0.698 , 0.651 ]],\n",
       "\n",
       "       ...,\n",
       "\n",
       "       [[0.6078, 0.698 , 0.6353],\n",
       "        [0.6157, 0.7059, 0.6431],\n",
       "        [0.6   , 0.6902, 0.6275],\n",
       "        ...,\n",
       "        [0.5725, 0.6549, 0.5882],\n",
       "        [0.5647, 0.6471, 0.5804],\n",
       "        [0.5373, 0.6196, 0.5529]],\n",
       "\n",
       "       [[0.5765, 0.6706, 0.6078],\n",
       "        [0.5922, 0.6824, 0.6196],\n",
       "        [0.5843, 0.6745, 0.6118],\n",
       "        ...,\n",
       "        [0.5373, 0.6275, 0.5647],\n",
       "        [0.5333, 0.6235, 0.5608],\n",
       "        [0.5176, 0.6078, 0.5451]],\n",
       "\n",
       "       [[0.5333, 0.6275, 0.5725],\n",
       "        [0.5451, 0.6392, 0.5843],\n",
       "        [0.549 , 0.6431, 0.5882],\n",
       "        ...,\n",
       "        [0.5176, 0.6078, 0.5451],\n",
       "        [0.5059, 0.5961, 0.5333],\n",
       "        [0.5059, 0.5961, 0.5333]]], dtype=float32)"
      ]
     },
     "execution_count": 110,
     "metadata": {},
     "output_type": "execute_result"
    }
   ],
   "source": [
    "x_data[2]"
   ]
  },
  {
   "cell_type": "markdown",
   "metadata": {},
   "source": [
    "### Define the model\n",
    "\n",
    "The layout of the network ist a typcial CNN network with alternating **Conv2D** and **MaxPool2D** layers. Finished after **flattening** with additional **Dense** layer.\n",
    "\n",
    "#### Important\n",
    "* Shape of the input layer: (15, 25, 3)\n",
    "* Number of output layers: 10\n",
    "* As loss function \"categorical_crossentropy\" is choosen, as it is a categories task"
   ]
  },
  {
   "cell_type": "code",
   "execution_count": 111,
   "metadata": {},
   "outputs": [],
   "source": [
    "model = tf.keras.Sequential([\n",
    "        tf.keras.layers.InputLayer(input_shape=(25,15,3)),\n",
    "        tf.keras.layers.Conv2D(64, kernel_size=3, padding='same', activity_regularizer=regularizers.L2(1e-5),  activation='relu'),\n",
    "        tf.keras.layers.MaxPooling2D(pool_size=2, strides=2, padding='same'),\n",
    "        tf.keras.layers.Conv2D(32, kernel_size=3, padding='same',activity_regularizer=regularizers.L2(1e-5), activation='relu'),\n",
    "        tf.keras.layers.MaxPooling2D(pool_size=2, strides=2, padding='same'),\n",
    "        tf.keras.layers.Conv2D(16, kernel_size=3, padding='same',activity_regularizer=regularizers.L2(1e-5), activation='relu'),\n",
    "        tf.keras.layers.MaxPooling2D(pool_size=2, strides=2, padding='same'),\n",
    "        tf.keras.layers.Flatten(),\n",
    "        tf.keras.layers.Dense(64, activation=\"relu\"),\n",
    "        tf.keras.layers.Dropout(0.25),\n",
    "        tf.keras.layers.Dense(10, activation=tf.nn.softmax)\n",
    "    ])\n"
   ]
  },
  {
   "cell_type": "code",
   "execution_count": 112,
   "metadata": {},
   "outputs": [
    {
     "name": "stdout",
     "output_type": "stream",
     "text": [
      "Model: \"sequential_5\"\n",
      "_________________________________________________________________\n",
      "Layer (type)                 Output Shape              Param #   \n",
      "=================================================================\n",
      "conv2d_15 (Conv2D)           (None, 25, 15, 64)        1792      \n",
      "_________________________________________________________________\n",
      "max_pooling2d_15 (MaxPooling (None, 13, 8, 64)         0         \n",
      "_________________________________________________________________\n",
      "conv2d_16 (Conv2D)           (None, 13, 8, 32)         18464     \n",
      "_________________________________________________________________\n",
      "max_pooling2d_16 (MaxPooling (None, 7, 4, 32)          0         \n",
      "_________________________________________________________________\n",
      "conv2d_17 (Conv2D)           (None, 7, 4, 16)          4624      \n",
      "_________________________________________________________________\n",
      "max_pooling2d_17 (MaxPooling (None, 4, 2, 16)          0         \n",
      "_________________________________________________________________\n",
      "flatten_5 (Flatten)          (None, 128)               0         \n",
      "_________________________________________________________________\n",
      "dense_10 (Dense)             (None, 64)                8256      \n",
      "_________________________________________________________________\n",
      "dropout_5 (Dropout)          (None, 64)                0         \n",
      "_________________________________________________________________\n",
      "dense_11 (Dense)             (None, 10)                650       \n",
      "=================================================================\n",
      "Total params: 33,786\n",
      "Trainable params: 33,786\n",
      "Non-trainable params: 0\n",
      "_________________________________________________________________\n"
     ]
    }
   ],
   "source": [
    "model.summary()"
   ]
  },
  {
   "cell_type": "code",
   "execution_count": 114,
   "metadata": {},
   "outputs": [
    {
     "name": "stderr",
     "output_type": "stream",
     "text": [
      "/home/george/anaconda3/envs/gputensorflow/lib/python3.8/site-packages/tensorflow/python/keras/optimizer_v2/optimizer_v2.py:374: UserWarning: The `lr` argument is deprecated, use `learning_rate` instead.\n",
      "  warnings.warn(\n"
     ]
    }
   ],
   "source": [
    "model.compile(loss=keras.losses.categorical_crossentropy, optimizer=tf.keras.optimizers.RMSprop(lr=1e-4), metrics = [\"accuracy\"])"
   ]
  },
  {
   "cell_type": "markdown",
   "metadata": {},
   "source": [
    "# Training\n",
    "The input pictures are randomly scattered for brightness, pixel shift variations and rotation angle. This is implemented with a ImageDataGenerator.\n"
   ]
  },
  {
   "cell_type": "code",
   "execution_count": 115,
   "metadata": {
    "scrolled": true
   },
   "outputs": [
    {
     "name": "stdout",
     "output_type": "stream",
     "text": [
      "Epoch 1/200\n",
      "2070/2070 [==============================] - 8s 4ms/step - loss: 2.2515 - accuracy: 0.1526 - val_loss: 2.2227 - val_accuracy: 0.1606\n",
      "Epoch 2/200\n",
      "2070/2070 [==============================] - 7s 3ms/step - loss: 2.2173 - accuracy: 0.1704 - val_loss: 2.1797 - val_accuracy: 0.1880\n",
      "Epoch 3/200\n",
      "2070/2070 [==============================] - 7s 3ms/step - loss: 2.1579 - accuracy: 0.1988 - val_loss: 2.0779 - val_accuracy: 0.2597\n",
      "Epoch 4/200\n",
      "2070/2070 [==============================] - 7s 3ms/step - loss: 2.0540 - accuracy: 0.2366 - val_loss: 1.9541 - val_accuracy: 0.2725\n",
      "Epoch 5/200\n",
      "2070/2070 [==============================] - 7s 3ms/step - loss: 1.9389 - accuracy: 0.3004 - val_loss: 1.8061 - val_accuracy: 0.3937\n",
      "Epoch 6/200\n",
      "2070/2070 [==============================] - 7s 4ms/step - loss: 1.7791 - accuracy: 0.3870 - val_loss: 1.5697 - val_accuracy: 0.4722\n",
      "Epoch 7/200\n",
      "2070/2070 [==============================] - 7s 3ms/step - loss: 1.4927 - accuracy: 0.5088 - val_loss: 1.2426 - val_accuracy: 0.6349\n",
      "Epoch 8/200\n",
      "2070/2070 [==============================] - 7s 4ms/step - loss: 1.2252 - accuracy: 0.5987 - val_loss: 0.9875 - val_accuracy: 0.7246\n",
      "Epoch 9/200\n",
      "2070/2070 [==============================] - 7s 4ms/step - loss: 1.0032 - accuracy: 0.6706 - val_loss: 0.8010 - val_accuracy: 0.7512\n",
      "Epoch 10/200\n",
      "2070/2070 [==============================] - 7s 3ms/step - loss: 0.8460 - accuracy: 0.7152 - val_loss: 0.7044 - val_accuracy: 0.7947\n",
      "Epoch 11/200\n",
      "2070/2070 [==============================] - 7s 4ms/step - loss: 0.7381 - accuracy: 0.7576 - val_loss: 0.5662 - val_accuracy: 0.8152\n",
      "Epoch 12/200\n",
      "2070/2070 [==============================] - 8s 4ms/step - loss: 0.6578 - accuracy: 0.7800 - val_loss: 0.5347 - val_accuracy: 0.8200\n",
      "Epoch 13/200\n",
      "2070/2070 [==============================] - 7s 3ms/step - loss: 0.5930 - accuracy: 0.8018 - val_loss: 0.4547 - val_accuracy: 0.8551\n",
      "Epoch 14/200\n",
      "2070/2070 [==============================] - 7s 4ms/step - loss: 0.5292 - accuracy: 0.8250 - val_loss: 0.3859 - val_accuracy: 0.8784\n",
      "Epoch 15/200\n",
      "2070/2070 [==============================] - 7s 3ms/step - loss: 0.4742 - accuracy: 0.8401 - val_loss: 0.3516 - val_accuracy: 0.8917\n",
      "Epoch 16/200\n",
      "2070/2070 [==============================] - 7s 3ms/step - loss: 0.4326 - accuracy: 0.8565 - val_loss: 0.3168 - val_accuracy: 0.9054\n",
      "Epoch 17/200\n",
      "2070/2070 [==============================] - 8s 4ms/step - loss: 0.3879 - accuracy: 0.8731 - val_loss: 0.3667 - val_accuracy: 0.8760\n",
      "Epoch 18/200\n",
      "2070/2070 [==============================] - 7s 4ms/step - loss: 0.3594 - accuracy: 0.8826 - val_loss: 0.2862 - val_accuracy: 0.9086\n",
      "Epoch 19/200\n",
      "2070/2070 [==============================] - 7s 4ms/step - loss: 0.3344 - accuracy: 0.8877 - val_loss: 0.2414 - val_accuracy: 0.9275\n",
      "Epoch 20/200\n",
      "2070/2070 [==============================] - 7s 4ms/step - loss: 0.3109 - accuracy: 0.8958 - val_loss: 0.2310 - val_accuracy: 0.9239\n",
      "Epoch 21/200\n",
      "2070/2070 [==============================] - 7s 4ms/step - loss: 0.2941 - accuracy: 0.9028 - val_loss: 0.2135 - val_accuracy: 0.9408\n",
      "Epoch 22/200\n",
      "2070/2070 [==============================] - 7s 4ms/step - loss: 0.2667 - accuracy: 0.9106 - val_loss: 0.1983 - val_accuracy: 0.9461\n",
      "Epoch 23/200\n",
      "2070/2070 [==============================] - 7s 4ms/step - loss: 0.2487 - accuracy: 0.9177 - val_loss: 0.2483 - val_accuracy: 0.9231\n",
      "Epoch 24/200\n",
      "2070/2070 [==============================] - 8s 4ms/step - loss: 0.2293 - accuracy: 0.9238 - val_loss: 0.1903 - val_accuracy: 0.9364\n",
      "Epoch 25/200\n",
      "2070/2070 [==============================] - 8s 4ms/step - loss: 0.2146 - accuracy: 0.9263 - val_loss: 0.1663 - val_accuracy: 0.9481\n",
      "Epoch 26/200\n",
      "2070/2070 [==============================] - 7s 4ms/step - loss: 0.2099 - accuracy: 0.9281 - val_loss: 0.1477 - val_accuracy: 0.9549\n",
      "Epoch 27/200\n",
      "2070/2070 [==============================] - 7s 4ms/step - loss: 0.1982 - accuracy: 0.9336 - val_loss: 0.1544 - val_accuracy: 0.9549\n",
      "Epoch 28/200\n",
      "2070/2070 [==============================] - 8s 4ms/step - loss: 0.1888 - accuracy: 0.9343 - val_loss: 0.1407 - val_accuracy: 0.9581\n",
      "Epoch 29/200\n",
      "2070/2070 [==============================] - 7s 4ms/step - loss: 0.1811 - accuracy: 0.9396 - val_loss: 0.1279 - val_accuracy: 0.9597\n",
      "Epoch 30/200\n",
      "2070/2070 [==============================] - 8s 4ms/step - loss: 0.1769 - accuracy: 0.9394 - val_loss: 0.1153 - val_accuracy: 0.9642\n",
      "Epoch 31/200\n",
      "2070/2070 [==============================] - 7s 4ms/step - loss: 0.1688 - accuracy: 0.9448 - val_loss: 0.1147 - val_accuracy: 0.9626\n",
      "Epoch 32/200\n",
      "2070/2070 [==============================] - 7s 4ms/step - loss: 0.1582 - accuracy: 0.9444 - val_loss: 0.2061 - val_accuracy: 0.9211\n",
      "Epoch 33/200\n",
      "2070/2070 [==============================] - 8s 4ms/step - loss: 0.1558 - accuracy: 0.9446 - val_loss: 0.1083 - val_accuracy: 0.9654\n",
      "Epoch 34/200\n",
      "2070/2070 [==============================] - 7s 4ms/step - loss: 0.1601 - accuracy: 0.9455 - val_loss: 0.0937 - val_accuracy: 0.9686\n",
      "Epoch 35/200\n",
      "2070/2070 [==============================] - 7s 4ms/step - loss: 0.1497 - accuracy: 0.9519 - val_loss: 0.0993 - val_accuracy: 0.9670\n",
      "Epoch 36/200\n",
      "2070/2070 [==============================] - 8s 4ms/step - loss: 0.1410 - accuracy: 0.9530 - val_loss: 0.1147 - val_accuracy: 0.9618\n",
      "Epoch 37/200\n",
      "2070/2070 [==============================] - 7s 4ms/step - loss: 0.1405 - accuracy: 0.9553 - val_loss: 0.0995 - val_accuracy: 0.9702\n",
      "Epoch 38/200\n",
      "2070/2070 [==============================] - 7s 4ms/step - loss: 0.1364 - accuracy: 0.9537 - val_loss: 0.1325 - val_accuracy: 0.9513\n",
      "Epoch 39/200\n",
      "2070/2070 [==============================] - 7s 4ms/step - loss: 0.1373 - accuracy: 0.9545 - val_loss: 0.0801 - val_accuracy: 0.9762\n",
      "Epoch 40/200\n",
      "2070/2070 [==============================] - 7s 4ms/step - loss: 0.1213 - accuracy: 0.9584 - val_loss: 0.0969 - val_accuracy: 0.9682\n",
      "Epoch 41/200\n",
      "2070/2070 [==============================] - 7s 4ms/step - loss: 0.1185 - accuracy: 0.9605 - val_loss: 0.0901 - val_accuracy: 0.9706\n",
      "Epoch 42/200\n",
      "2070/2070 [==============================] - 7s 4ms/step - loss: 0.1202 - accuracy: 0.9617 - val_loss: 0.0896 - val_accuracy: 0.9775\n",
      "Epoch 43/200\n",
      "2070/2070 [==============================] - 8s 4ms/step - loss: 0.1091 - accuracy: 0.9658 - val_loss: 0.1100 - val_accuracy: 0.9698\n",
      "Epoch 44/200\n",
      "2070/2070 [==============================] - 9s 4ms/step - loss: 0.1187 - accuracy: 0.9598 - val_loss: 0.0826 - val_accuracy: 0.9730\n",
      "Epoch 45/200\n",
      "2070/2070 [==============================] - 8s 4ms/step - loss: 0.1138 - accuracy: 0.9611 - val_loss: 0.0828 - val_accuracy: 0.9730\n",
      "Epoch 46/200\n",
      "2070/2070 [==============================] - 10s 5ms/step - loss: 0.1114 - accuracy: 0.9638 - val_loss: 0.0873 - val_accuracy: 0.9686\n",
      "Epoch 47/200\n",
      "2070/2070 [==============================] - 8s 4ms/step - loss: 0.1108 - accuracy: 0.9655 - val_loss: 0.0914 - val_accuracy: 0.9718\n",
      "Epoch 48/200\n",
      "2070/2070 [==============================] - 8s 4ms/step - loss: 0.1076 - accuracy: 0.9638 - val_loss: 0.0890 - val_accuracy: 0.9706\n",
      "Epoch 49/200\n",
      "2070/2070 [==============================] - 8s 4ms/step - loss: 0.1126 - accuracy: 0.9664 - val_loss: 0.0692 - val_accuracy: 0.9762\n",
      "Epoch 50/200\n",
      "2070/2070 [==============================] - 7s 4ms/step - loss: 0.1051 - accuracy: 0.9667 - val_loss: 0.0719 - val_accuracy: 0.9811\n",
      "Epoch 51/200\n",
      "2070/2070 [==============================] - 7s 4ms/step - loss: 0.1034 - accuracy: 0.9668 - val_loss: 0.0547 - val_accuracy: 0.9835\n",
      "Epoch 52/200\n",
      "2070/2070 [==============================] - 8s 4ms/step - loss: 0.0989 - accuracy: 0.9686 - val_loss: 0.0636 - val_accuracy: 0.9807\n",
      "Epoch 53/200\n",
      "2070/2070 [==============================] - 8s 4ms/step - loss: 0.0939 - accuracy: 0.9706 - val_loss: 0.0610 - val_accuracy: 0.9787\n",
      "Epoch 54/200\n",
      "2070/2070 [==============================] - 7s 4ms/step - loss: 0.0976 - accuracy: 0.9681 - val_loss: 0.0736 - val_accuracy: 0.9783\n",
      "Epoch 55/200\n",
      "2070/2070 [==============================] - 8s 4ms/step - loss: 0.0955 - accuracy: 0.9664 - val_loss: 0.0575 - val_accuracy: 0.9847\n",
      "Epoch 56/200\n",
      "2070/2070 [==============================] - 7s 4ms/step - loss: 0.0855 - accuracy: 0.9722 - val_loss: 0.0756 - val_accuracy: 0.9803\n",
      "Epoch 57/200\n",
      "2070/2070 [==============================] - 8s 4ms/step - loss: 0.0922 - accuracy: 0.9708 - val_loss: 0.0840 - val_accuracy: 0.9746\n",
      "Epoch 58/200\n",
      "2070/2070 [==============================] - 8s 4ms/step - loss: 0.0900 - accuracy: 0.9703 - val_loss: 0.0607 - val_accuracy: 0.9827\n",
      "Epoch 59/200\n",
      "2070/2070 [==============================] - 8s 4ms/step - loss: 0.0926 - accuracy: 0.9697 - val_loss: 0.0525 - val_accuracy: 0.9863\n",
      "Epoch 60/200\n",
      "2070/2070 [==============================] - 7s 4ms/step - loss: 0.0858 - accuracy: 0.9721 - val_loss: 0.0576 - val_accuracy: 0.9839\n",
      "Epoch 61/200\n",
      "2070/2070 [==============================] - 7s 3ms/step - loss: 0.0913 - accuracy: 0.9727 - val_loss: 0.0540 - val_accuracy: 0.9843\n",
      "Epoch 62/200\n",
      "2070/2070 [==============================] - 8s 4ms/step - loss: 0.0849 - accuracy: 0.9723 - val_loss: 0.0642 - val_accuracy: 0.9819\n",
      "Epoch 63/200\n",
      "2070/2070 [==============================] - 7s 4ms/step - loss: 0.0942 - accuracy: 0.9700 - val_loss: 0.1009 - val_accuracy: 0.9634\n",
      "Epoch 64/200\n",
      "2070/2070 [==============================] - 8s 4ms/step - loss: 0.0846 - accuracy: 0.9720 - val_loss: 0.0601 - val_accuracy: 0.9803\n",
      "Epoch 65/200\n",
      "2070/2070 [==============================] - 7s 4ms/step - loss: 0.0854 - accuracy: 0.9721 - val_loss: 0.0556 - val_accuracy: 0.9847\n",
      "Epoch 66/200\n",
      "2070/2070 [==============================] - 7s 3ms/step - loss: 0.0833 - accuracy: 0.9725 - val_loss: 0.0723 - val_accuracy: 0.9758\n",
      "Epoch 67/200\n",
      "2070/2070 [==============================] - 7s 4ms/step - loss: 0.0819 - accuracy: 0.9751 - val_loss: 0.0682 - val_accuracy: 0.9779\n",
      "Epoch 68/200\n",
      "2070/2070 [==============================] - 7s 4ms/step - loss: 0.0824 - accuracy: 0.9731 - val_loss: 0.0593 - val_accuracy: 0.9811\n",
      "Epoch 69/200\n",
      "2070/2070 [==============================] - 7s 4ms/step - loss: 0.0767 - accuracy: 0.9751 - val_loss: 0.0810 - val_accuracy: 0.9742\n",
      "Epoch 70/200\n",
      "2070/2070 [==============================] - 7s 4ms/step - loss: 0.0789 - accuracy: 0.9735 - val_loss: 0.0413 - val_accuracy: 0.9883\n",
      "Epoch 71/200\n",
      "2070/2070 [==============================] - 7s 3ms/step - loss: 0.0885 - accuracy: 0.9722 - val_loss: 0.0639 - val_accuracy: 0.9823\n",
      "Epoch 72/200\n",
      "2070/2070 [==============================] - 7s 4ms/step - loss: 0.0795 - accuracy: 0.9755 - val_loss: 0.0785 - val_accuracy: 0.9791\n",
      "Epoch 73/200\n",
      "2070/2070 [==============================] - 8s 4ms/step - loss: 0.0767 - accuracy: 0.9766 - val_loss: 0.0553 - val_accuracy: 0.9819\n",
      "Epoch 74/200\n",
      "2070/2070 [==============================] - 8s 4ms/step - loss: 0.0754 - accuracy: 0.9784 - val_loss: 0.0829 - val_accuracy: 0.9750\n",
      "Epoch 75/200\n",
      "2070/2070 [==============================] - 8s 4ms/step - loss: 0.0734 - accuracy: 0.9755 - val_loss: 0.0527 - val_accuracy: 0.9823\n",
      "Epoch 76/200\n",
      "2070/2070 [==============================] - 7s 4ms/step - loss: 0.0723 - accuracy: 0.9772 - val_loss: 0.0536 - val_accuracy: 0.9839\n",
      "Epoch 77/200\n",
      "2070/2070 [==============================] - 7s 4ms/step - loss: 0.0759 - accuracy: 0.9768 - val_loss: 0.0564 - val_accuracy: 0.9803\n",
      "Epoch 78/200\n",
      "2070/2070 [==============================] - 8s 4ms/step - loss: 0.0803 - accuracy: 0.9764 - val_loss: 0.0737 - val_accuracy: 0.9803\n",
      "Epoch 79/200\n",
      "2070/2070 [==============================] - 7s 3ms/step - loss: 0.0688 - accuracy: 0.9793 - val_loss: 0.0522 - val_accuracy: 0.9807\n",
      "Epoch 80/200\n",
      "2070/2070 [==============================] - 7s 3ms/step - loss: 0.0775 - accuracy: 0.9763 - val_loss: 0.0505 - val_accuracy: 0.9835\n",
      "Epoch 81/200\n",
      "2070/2070 [==============================] - 7s 3ms/step - loss: 0.0801 - accuracy: 0.9733 - val_loss: 0.0435 - val_accuracy: 0.9891\n",
      "Epoch 82/200\n",
      "2070/2070 [==============================] - 7s 4ms/step - loss: 0.0795 - accuracy: 0.9758 - val_loss: 0.0527 - val_accuracy: 0.9859\n",
      "Epoch 83/200\n",
      "2070/2070 [==============================] - 7s 4ms/step - loss: 0.0765 - accuracy: 0.9752 - val_loss: 0.0532 - val_accuracy: 0.9855\n",
      "Epoch 84/200\n",
      "2070/2070 [==============================] - 7s 3ms/step - loss: 0.0760 - accuracy: 0.9780 - val_loss: 0.0496 - val_accuracy: 0.9839\n",
      "Epoch 85/200\n",
      "2070/2070 [==============================] - 7s 3ms/step - loss: 0.0717 - accuracy: 0.9785 - val_loss: 0.0726 - val_accuracy: 0.9775\n",
      "Epoch 86/200\n",
      "2070/2070 [==============================] - 7s 3ms/step - loss: 0.0707 - accuracy: 0.9790 - val_loss: 0.0494 - val_accuracy: 0.9839\n",
      "Epoch 87/200\n",
      "2070/2070 [==============================] - 7s 3ms/step - loss: 0.0696 - accuracy: 0.9780 - val_loss: 0.0639 - val_accuracy: 0.9851\n",
      "Epoch 88/200\n",
      "2070/2070 [==============================] - 7s 3ms/step - loss: 0.0707 - accuracy: 0.9764 - val_loss: 0.0480 - val_accuracy: 0.9859\n",
      "Epoch 89/200\n",
      "2070/2070 [==============================] - 7s 4ms/step - loss: 0.0685 - accuracy: 0.9799 - val_loss: 0.0556 - val_accuracy: 0.9807\n",
      "Epoch 90/200\n",
      "2070/2070 [==============================] - 7s 3ms/step - loss: 0.0690 - accuracy: 0.9789 - val_loss: 0.0624 - val_accuracy: 0.9815\n",
      "Epoch 91/200\n",
      "2070/2070 [==============================] - 8s 4ms/step - loss: 0.0732 - accuracy: 0.9781 - val_loss: 0.0554 - val_accuracy: 0.9823\n",
      "Epoch 92/200\n",
      "2070/2070 [==============================] - 8s 4ms/step - loss: 0.0706 - accuracy: 0.9772 - val_loss: 0.0417 - val_accuracy: 0.9899\n",
      "Epoch 93/200\n",
      "2070/2070 [==============================] - 8s 4ms/step - loss: 0.0654 - accuracy: 0.9784 - val_loss: 0.0457 - val_accuracy: 0.9859\n",
      "Epoch 94/200\n",
      "2070/2070 [==============================] - 8s 4ms/step - loss: 0.0631 - accuracy: 0.9818 - val_loss: 0.0447 - val_accuracy: 0.9851\n",
      "Epoch 95/200\n",
      "2070/2070 [==============================] - 7s 4ms/step - loss: 0.0736 - accuracy: 0.9771 - val_loss: 0.0433 - val_accuracy: 0.9851\n",
      "Epoch 96/200\n",
      "2070/2070 [==============================] - 7s 3ms/step - loss: 0.0635 - accuracy: 0.9819 - val_loss: 0.0542 - val_accuracy: 0.9827\n",
      "Epoch 97/200\n",
      "2070/2070 [==============================] - 7s 3ms/step - loss: 0.0581 - accuracy: 0.9838 - val_loss: 0.0754 - val_accuracy: 0.9847\n",
      "Epoch 98/200\n",
      "2070/2070 [==============================] - 7s 4ms/step - loss: 0.0670 - accuracy: 0.9807 - val_loss: 0.0632 - val_accuracy: 0.9823\n",
      "Epoch 99/200\n",
      "2070/2070 [==============================] - 7s 3ms/step - loss: 0.0716 - accuracy: 0.9778 - val_loss: 0.0454 - val_accuracy: 0.9855\n",
      "Epoch 100/200\n",
      "2070/2070 [==============================] - 7s 4ms/step - loss: 0.0624 - accuracy: 0.9780 - val_loss: 0.0505 - val_accuracy: 0.9887\n",
      "Epoch 101/200\n",
      "2070/2070 [==============================] - 7s 4ms/step - loss: 0.0686 - accuracy: 0.9787 - val_loss: 0.0409 - val_accuracy: 0.9879\n",
      "Epoch 102/200\n",
      "2070/2070 [==============================] - 7s 3ms/step - loss: 0.0722 - accuracy: 0.9799 - val_loss: 0.0479 - val_accuracy: 0.9879\n",
      "Epoch 103/200\n",
      "2070/2070 [==============================] - 7s 4ms/step - loss: 0.0604 - accuracy: 0.9804 - val_loss: 0.0530 - val_accuracy: 0.9823\n",
      "Epoch 104/200\n",
      "2070/2070 [==============================] - 7s 4ms/step - loss: 0.0700 - accuracy: 0.9790 - val_loss: 0.0390 - val_accuracy: 0.9895\n"
     ]
    }
   ],
   "source": [
    "Batch_Size = 4\n",
    "Shift_Range = 1\n",
    "Brightness_Range = 0.1\n",
    "Rotation_Angle = 0\n",
    "ZoomRange = 0.0\n",
    "# Epochs = 10\n",
    "callback = []\n",
    "\n",
    "early_stopping = EarlyStopping(\n",
    "                    monitor=\"val_accuracy\",\n",
    "                    min_delta=0,\n",
    "                    patience=12,\n",
    "                    verbose=0,\n",
    "                    mode=\"auto\",\n",
    "                    baseline=None,\n",
    "                    restore_best_weights=False,\n",
    "                )\n",
    "\n",
    "# datagen = ImageDataGenerator(width_shift_range=[-Shift_Range,Shift_Range], \n",
    "#                              height_shift_range=[-Shift_Range,Shift_Range],\n",
    "#                              brightness_range=[1-Brightness_Range,1+Brightness_Range],\n",
    "#                              zoom_range=[1-ZoomRange, 1+ZoomRange],\n",
    "#                              rotation_range=Rotation_Angle,vertical_flip=True)\n",
    "\n",
    "datagen = ImageDataGenerator(featurewise_center=False,\n",
    "                                 featurewise_std_normalization=False,\n",
    "                                 rotation_range=.3,\n",
    "                                 width_shift_range=0.4,\n",
    "                                 height_shift_range=0.0,)\n",
    "\n",
    "if (Training_Percentage > 0):\n",
    "    train_iterator = datagen.flow(x_data, y_data, batch_size=Batch_Size, shuffle = True,save_format =\"bmp\" )\n",
    "    validation_iterator = datagen.flow(X_test, y_test, batch_size=Batch_Size, shuffle = False, save_format =\"bmp\")\n",
    "    history = model.fit(train_iterator, validation_data = validation_iterator, epochs = Epochs, callbacks=[early_stopping])\n",
    "else:\n",
    "    train_iterator = datagen.flow(x_data, y_data, batch_size=Batch_Size, shuffle = True,)\n",
    "    history = model.fit(train_iterator, epochs = Epochs)\n",
    "\n"
   ]
  },
  {
   "cell_type": "code",
   "execution_count": 150,
   "metadata": {},
   "outputs": [
    {
     "name": "stdout",
     "output_type": "stream",
     "text": [
      "78/78 [==============================] - 0s 3ms/step - loss: 0.0155 - accuracy: 0.9972\n"
     ]
    }
   ],
   "source": [
    "final_loss, final_acc = model.evaluate(X_test, y_test)"
   ]
  },
  {
   "cell_type": "code",
   "execution_count": 151,
   "metadata": {},
   "outputs": [],
   "source": [
    "model.save(\"final.h5\")"
   ]
  },
  {
   "cell_type": "code",
   "execution_count": 152,
   "metadata": {},
   "outputs": [
    {
     "name": "stdout",
     "output_type": "stream",
     "text": [
      "converted_model.tflite\r\n",
      "digit_model.h5\r\n",
      "digit_model_quant.tflite\r\n",
      "digit_model_quant.tflite_int8\r\n",
      "digit_model_quant.tflite_int8_34.tflite\r\n",
      "digit_model_quant.tflite_int8.tflite\r\n",
      "draw_digit_with_perpective_transform_crop_save_image_colored1.ipynb\r\n",
      "draw_digit_with_perpective_transform_crop_save_image_colored2.ipynb\r\n",
      "draw_digit_with_perpective_transform_crop_save_image_colored3.ipynb\r\n",
      "draw_digit_with_perpective_transform_crop_save_image_colored4.ipynb\r\n",
      "draw_digit_with_perpective_transform_crop_save_image_colored5.ipynb\r\n",
      "final.h5\r\n",
      "image_augumentation.ipynb\r\n",
      "inference.ipynb\r\n",
      "inference_jpg.ipynb\r\n",
      "\u001b[0m\u001b[01;34moutput\u001b[0m/\r\n",
      "training_notebook2.ipynb\r\n",
      "training_notebook3-CV.ipynb\r\n",
      "training_notebook3.ipynb\r\n",
      "train_notebook_final.ipynb\r\n",
      "walkthrough.ipynb\r\n"
     ]
    }
   ],
   "source": [
    "ls"
   ]
  },
  {
   "cell_type": "markdown",
   "metadata": {},
   "source": [
    "### Learing result\n",
    " \n",
    "* Visualization of the training and validation results"
   ]
  },
  {
   "cell_type": "code",
   "execution_count": 153,
   "metadata": {},
   "outputs": [
    {
     "data": {
      "image/png": "[encoded data removed]",
      "text/plain": [
       "<Figure size 432x288 with 1 Axes>"
      ]
     },
     "metadata": {
      "needs_background": "light"
     },
     "output_type": "display_data"
    }
   ],
   "source": [
    "loss_ges = np.append(loss_ges, history.history['loss'])\n",
    "plt.semilogy(history.history['loss'])\n",
    "\n",
    "if (Training_Percentage > 0):\n",
    "    val_loss_ges = np.append(val_loss_ges, history.history['val_loss'])\n",
    "    plt.semilogy(history.history['val_loss'])\n",
    "\n",
    "plt.title('model loss')\n",
    "plt.ylabel('loss')\n",
    "plt.xlabel('epoch')\n",
    "plt.legend(['train','eval'], loc='upper left')\n",
    "plt.show()"
   ]
  },
  {
   "cell_type": "code",
   "execution_count": 154,
   "metadata": {},
   "outputs": [],
   "source": [
    "Input_dir='../data/raw_images/sample_jpg'\n",
    "files = glob.glob(Input_dir + '/*.jpg')"
   ]
  },
  {
   "cell_type": "code",
   "execution_count": 155,
   "metadata": {},
   "outputs": [
    {
     "name": "stdout",
     "output_type": "stream",
     "text": [
      "../data/raw_images/sample_jpg/3 3\n",
      "../data/raw_images/sample_jpg/7 7\n",
      "../data/raw_images/sample_jpg/1 3\n",
      "../data/raw_images/sample_jpg/5 5\n",
      "../data/raw_images/sample_jpg/1 0\n",
      "../data/raw_images/sample_jpg/4 9\n",
      "../data/raw_images/sample_jpg/0 0\n",
      "../data/raw_images/sample_jpg/2 7\n",
      "../data/raw_images/sample_jpg/8 8\n",
      "../data/raw_images/sample_jpg/7 7\n",
      "../data/raw_images/sample_jpg/4 9\n",
      "../data/raw_images/sample_jpg/7 7\n",
      "../data/raw_images/sample_jpg/5 5\n",
      "../data/raw_images/sample_jpg/9 9\n",
      "../data/raw_images/sample_jpg/0 0\n",
      "../data/raw_images/sample_jpg/8 8\n",
      "../data/raw_images/sample_jpg/6 6\n",
      "../data/raw_images/sample_jpg/4 9\n",
      "../data/raw_images/sample_jpg/9 9\n",
      "../data/raw_images/sample_jpg/7 7\n",
      "../data/raw_images/sample_jpg/8 8\n",
      "../data/raw_images/sample_jpg/2 3\n",
      "../data/raw_images/sample_jpg/3 3\n",
      "../data/raw_images/sample_jpg/4 9\n",
      "../data/raw_images/sample_jpg/5 5\n",
      "../data/raw_images/sample_jpg/6 6\n",
      "../data/raw_images/sample_jpg/8 8\n",
      "../data/raw_images/sample_jpg/8 8\n",
      "../data/raw_images/sample_jpg/6 6\n",
      "../data/raw_images/sample_jpg/9 9\n",
      "../data/raw_images/sample_jpg/0 0\n",
      "../data/raw_images/sample_jpg/1 3\n",
      "../data/raw_images/sample_jpg/2 3\n",
      "../data/raw_images/sample_jpg/3 3\n",
      "../data/raw_images/sample_jpg/4 9\n",
      "../data/raw_images/sample_jpg/9 9\n",
      "../data/raw_images/sample_jpg/1 3\n",
      "../data/raw_images/sample_jpg/2 7\n",
      "../data/raw_images/sample_jpg/2 3\n",
      "../data/raw_images/sample_jpg/3 3\n",
      "../data/raw_images/sample_jpg/1 0\n",
      "../data/raw_images/sample_jpg/7 7\n",
      "../data/raw_images/sample_jpg/6 6\n",
      "../data/raw_images/sample_jpg/5 5\n",
      "../data/raw_images/sample_jpg/6 6\n",
      "../data/raw_images/sample_jpg/0 0\n",
      "../data/raw_images/sample_jpg/0 0\n",
      "../data/raw_images/sample_jpg/5 5\n",
      "../data/raw_images/sample_jpg/9 9\n",
      "../data/raw_images/sample_jpg/3 3\n"
     ]
    }
   ],
   "source": [
    "for file in files[:100]: \n",
    "    base = os.path.basename(file)\n",
    "    target = base[0:1]\n",
    "    image_bmp = Image.open(file)\n",
    "    test_image = np.array(image_bmp, dtype=\"float32\")\n",
    "    img = np.reshape(test_image,[1,25,15,3])\n",
    "    classes = np.argmax(model.predict(img), axis=-1)\n",
    "    classes = classes[0]\n",
    "    print(file[:31], classes)\n",
    "    "
   ]
  },
  {
   "cell_type": "markdown",
   "metadata": {},
   "source": [
    "### Save the model\n",
    "\n",
    "* Save the model to the file with the \"h5\" file format"
   ]
  },
  {
   "cell_type": "markdown",
   "metadata": {},
   "source": [
    "## Post training weight quantization"
   ]
  },
  {
   "cell_type": "markdown",
   "metadata": {},
   "source": [
    "* Depending on your requirements (performance, memory and runtime), post training quantization can be done in two ways."
   ]
  },
  {
   "cell_type": "markdown",
   "metadata": {},
   "source": [
    "Approach #1:  Post training weight quantization (quantizes weights only) In this case only weights are quantized to int8 but activations remain as they were. Inference input and output are floating-point."
   ]
  },
  {
   "cell_type": "code",
   "execution_count": 156,
   "metadata": {
    "scrolled": true
   },
   "outputs": [
    {
     "name": "stdout",
     "output_type": "stream",
     "text": [
      "INFO:tensorflow:Assets written to: /tmp/tmpgr6eokod/assets\n"
     ]
    },
    {
     "name": "stderr",
     "output_type": "stream",
     "text": [
      "INFO:tensorflow:Assets written to: /tmp/tmpgr6eokod/assets\n",
      "2022-10-14 17:41:51.592532: I tensorflow/core/grappler/devices.cc:69] Number of eligible GPUs (core count >= 8, compute capability >= 0.0): 0\n",
      "2022-10-14 17:41:51.592698: I tensorflow/core/grappler/clusters/single_machine.cc:357] Starting new session\n",
      "2022-10-14 17:41:51.594892: I tensorflow/core/grappler/optimizers/meta_optimizer.cc:1144] Optimization results for grappler item: graph_to_optimize\n",
      "  function_optimizer: function_optimizer did nothing. time = 0.006ms.\n",
      "  function_optimizer: function_optimizer did nothing. time = 0.001ms.\n",
      "\n",
      "2022-10-14 17:41:51.644689: W tensorflow/compiler/mlir/lite/python/tf_tfl_flatbuffer_helpers.cc:345] Ignored output_format.\n",
      "2022-10-14 17:41:51.644718: W tensorflow/compiler/mlir/lite/python/tf_tfl_flatbuffer_helpers.cc:348] Ignored drop_control_dependency.\n",
      "2022-10-14 17:41:51.660212: I tensorflow/lite/tools/optimize/quantize_weights.cc:225] Skipping quantization of tensor sequential_5/dense_11/MatMul because it has fewer than 1024 elements (640).\n"
     ]
    },
    {
     "data": {
      "text/plain": [
       "42944"
      ]
     },
     "execution_count": 156,
     "metadata": {},
     "output_type": "execute_result"
    }
   ],
   "source": [
    "converter = tf.lite.TFLiteConverter.from_keras_model(model)\n",
    "converter.experimental_new_converter = True\n",
    "# Post training quantization\n",
    "converter.optimizations = [tf.lite.Optimize.OPTIMIZE_FOR_SIZE]\n",
    "tflite_quant_model = converter.convert()\n",
    "open(\"digit_model_quant.tflite\", \"wb\").write(tflite_quant_model)"
   ]
  },
  {
   "cell_type": "code",
   "execution_count": 158,
   "metadata": {},
   "outputs": [],
   "source": [
    "def representative_dataset():\n",
    "    for n in range(10):\n",
    "        data = np.expand_dims(x_data[5], axis=0)\n",
    "        yield [data.astype(np.float32)]"
   ]
  },
  {
   "cell_type": "code",
   "execution_count": 160,
   "metadata": {},
   "outputs": [],
   "source": [
    "def representative_data():\n",
    "    for input_value in tf.data.Dataset.from_tensor_slices(x_data).batch(1).take(100):\n",
    "    # Model has only one input so each data point has one element.\n",
    "        yield [input_value]"
   ]
  },
  {
   "cell_type": "markdown",
   "metadata": {},
   "source": [
    "Approach #2: Full integer quantization (Quantizes weights and activations) In this case weights and activations are quantized to int8. First we need to follow the approach #1 to quantize weight and then implement following code to do full integer quantization. This uses quantized input and output, making it compatible with more accelerators, such as the Openmv Camera and Coral Edge TPU. Inference input and output are integers."
   ]
  },
  {
   "cell_type": "code",
   "execution_count": 161,
   "metadata": {},
   "outputs": [
    {
     "name": "stdout",
     "output_type": "stream",
     "text": [
      "INFO:tensorflow:Assets written to: /tmp/tmp5_34xvm4/assets\n"
     ]
    },
    {
     "name": "stderr",
     "output_type": "stream",
     "text": [
      "INFO:tensorflow:Assets written to: /tmp/tmp5_34xvm4/assets\n",
      "2022-10-14 17:41:54.288611: I tensorflow/core/grappler/devices.cc:69] Number of eligible GPUs (core count >= 8, compute capability >= 0.0): 0\n",
      "2022-10-14 17:41:54.288791: I tensorflow/core/grappler/clusters/single_machine.cc:357] Starting new session\n",
      "2022-10-14 17:41:54.290875: I tensorflow/core/grappler/optimizers/meta_optimizer.cc:1144] Optimization results for grappler item: graph_to_optimize\n",
      "  function_optimizer: function_optimizer did nothing. time = 0.005ms.\n",
      "  function_optimizer: function_optimizer did nothing. time = 0ms.\n",
      "\n",
      "2022-10-14 17:41:54.338068: W tensorflow/compiler/mlir/lite/python/tf_tfl_flatbuffer_helpers.cc:345] Ignored output_format.\n",
      "2022-10-14 17:41:54.338098: W tensorflow/compiler/mlir/lite/python/tf_tfl_flatbuffer_helpers.cc:348] Ignored drop_control_dependency.\n",
      "fully_quantize: 0, inference_type: 6, input_inference_type: 9, output_inference_type: 9\n"
     ]
    },
    {
     "data": {
      "text/plain": [
       "41728"
      ]
     },
     "execution_count": 161,
     "metadata": {},
     "output_type": "execute_result"
    }
   ],
   "source": [
    "converter.optimizations = [tf.lite.Optimize.DEFAULT]\n",
    "converter.representative_dataset = representative_dataset\n",
    "converter.target_spec.supported_ops = [tf.lite.OpsSet.TFLITE_BUILTINS_INT8]\n",
    "converter.target_spec.supported_types = [tf.dtypes.int8]\n",
    "converter.inference_input_type = tf.int8\n",
    "converter.inference_output_type = tf.int8\n",
    "tflite_model_quant = converter.convert()\n",
    "open(\"digit_model_quant.tflite_int8.tflite\", \"wb\").write(tflite_model_quant)"
   ]
  },
  {
   "cell_type": "code",
   "execution_count": null,
   "metadata": {},
   "outputs": [],
   "source": []
  }
 ],
 "metadata": {
  "kernelspec": {
   "display_name": "Python 3 (ipykernel)",
   "language": "python",
   "name": "python3"
  },
  "language_info": {
   "codemirror_mode": {
    "name": "ipython",
    "version": 3
   },
   "file_extension": ".py",
   "mimetype": "text/x-python",
   "name": "python",
   "nbconvert_exporter": "python",
   "pygments_lexer": "ipython3",
   "version": "3.8.10"
  }
 },
 "nbformat": 4,
 "nbformat_minor": 2
}
