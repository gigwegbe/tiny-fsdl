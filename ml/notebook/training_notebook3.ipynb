{
 "cells": [
  {
   "cell_type": "markdown",
   "metadata": {},
   "source": [
    "# CNN Training\n",
    "\n",
    "Target of this code is to train a CNN network to classify images of a digital readout to the digits 0 to 9. \n",
    "\n",
    "### Preparing the training\n",
    "* First all libraries are loaded\n",
    "    * It is assumed, that they are installed during the Python setup\n",
    "* matplotlib is set to print the output inline in the jupyter notebook"
   ]
  },
  {
   "cell_type": "code",
   "execution_count": 62,
   "metadata": {
    "scrolled": true
   },
   "outputs": [],
   "source": [
    "########### Basic Parameters for Running: ################################\n",
    "    \n",
    "TFliteNamingAndVersion = \"testing\"   # Used for tflite Filename\n",
    "Training_Percentage = 0.3              # 0.0 = Use all Images for Training\n",
    "Epochs = 100\n",
    "\n",
    "##########################################################################\n",
    "\n",
    "\n",
    "import tensorflow as tf\n",
    "import matplotlib.pyplot as plt\n",
    "import glob\n",
    "import os\n",
    "import numpy as np\n",
    "from sklearn.utils import shuffle\n",
    "from tensorflow.python import keras\n",
    "from tensorflow.python.keras import Sequential\n",
    "from tensorflow.keras.layers import Dense, InputLayer, Conv2D, MaxPool2D, Flatten, BatchNormalization\n",
    "from tensorflow.keras.preprocessing.image import ImageDataGenerator\n",
    "from sklearn.model_selection import train_test_split\n",
    "from tensorflow.keras.callbacks import History, EarlyStopping\n",
    "from tensorflow.keras.utils import to_categorical\n",
    "from PIL import Image \n",
    "from pathlib import Path\n",
    "from tensorflow.keras import regularizers\n",
    "\n",
    "\n",
    "loss_ges = np.array([])\n",
    "val_loss_ges = np.array([])\n",
    "\n",
    "%matplotlib inline\n",
    "np.set_printoptions(precision=4)\n",
    "np.set_printoptions(suppress=True)"
   ]
  },
  {
   "cell_type": "markdown",
   "metadata": {},
   "source": [
    "### Load training data\n",
    "* The data is expected in the \"Input_dir\"\n",
    "* Inside subdirectories are expected from 0, 1, ... 9 in which the pictures are sorted according to their values (=category)\n",
    "* Picture size must be 15x25 with 3 color channels (RGB)\n",
    "* The filename can be arbitrary\n",
    "\n",
    "* The images are stored in the x_data[]\n",
    "* The expected category for each image in the corresponding y_data[]\n",
    "\n",
    "* The last step is a shuffle (from sklearn.utils) and split the data into training and validation data"
   ]
  },
  {
   "cell_type": "code",
   "execution_count": 90,
   "metadata": {
    "scrolled": false
   },
   "outputs": [
    {
     "name": "stdout",
     "output_type": "stream",
     "text": [
      "(8279, 25, 15, 3)\n",
      "(8279, 10)\n"
     ]
    }
   ],
   "source": [
    "Input_dir='../data/raw_images/labelled_bmp_data_equal_combined_final'\n",
    "\n",
    "files = glob.glob(Input_dir + '/*.bmp')\n",
    "x_data = []\n",
    "y_data = []\n",
    "\n",
    "for file in files:\n",
    "    base = os.path.basename(file)\n",
    "    target = base[0:1]\n",
    "    category = int(target)\n",
    "    test_image = Image.open(file)\n",
    "    test_image = np.array(test_image, dtype=\"float32\")\n",
    "    x_data.append(test_image)\n",
    "    y_data.append(np.array([category]))\n",
    "\n",
    "x_data = np.array(x_data)/255\n",
    "y_data = np.array(y_data)\n",
    "y_data = to_categorical(y_data, 10)\n",
    "print(x_data.shape)\n",
    "print(y_data.shape)\n",
    "\n",
    "x_data, y_data = shuffle(x_data, y_data)\n",
    "\n",
    "if (Training_Percentage > 0):\n",
    "    X_train, X_test, y_train, y_test = train_test_split(x_data, y_data, test_size=Training_Percentage)\n",
    "else:\n",
    "    X_train = x_data\n",
    "    y_train = y_data"
   ]
  },
  {
   "cell_type": "code",
   "execution_count": 91,
   "metadata": {},
   "outputs": [
    {
     "data": {
      "text/plain": [
       "8279"
      ]
     },
     "execution_count": 91,
     "metadata": {},
     "output_type": "execute_result"
    }
   ],
   "source": [
    "len(x_data)"
   ]
  },
  {
   "cell_type": "code",
   "execution_count": 92,
   "metadata": {},
   "outputs": [
    {
     "data": {
      "text/plain": [
       "5795"
      ]
     },
     "execution_count": 92,
     "metadata": {},
     "output_type": "execute_result"
    }
   ],
   "source": [
    "len(X_train)"
   ]
  },
  {
   "cell_type": "code",
   "execution_count": 93,
   "metadata": {},
   "outputs": [
    {
     "data": {
      "text/plain": [
       "array([[[0.6275, 0.7373, 0.6588],\n",
       "        [0.6275, 0.7373, 0.6902],\n",
       "        [0.6275, 0.7373, 0.6588],\n",
       "        ...,\n",
       "        [0.7529, 0.8627, 0.8157],\n",
       "        [0.7843, 0.8941, 0.8471],\n",
       "        [0.7843, 0.9098, 0.8471]],\n",
       "\n",
       "       [[0.6275, 0.7373, 0.6588],\n",
       "        [0.6275, 0.7373, 0.6588],\n",
       "        [0.6275, 0.7373, 0.6588],\n",
       "        ...,\n",
       "        [0.7529, 0.8784, 0.8471],\n",
       "        [0.7843, 0.9098, 0.8471],\n",
       "        [0.8157, 0.9255, 0.8471]],\n",
       "\n",
       "       [[0.6275, 0.7216, 0.6588],\n",
       "        [0.6275, 0.7216, 0.6588],\n",
       "        [0.6275, 0.7216, 0.6588],\n",
       "        ...,\n",
       "        [0.7529, 0.8784, 0.8157],\n",
       "        [0.7843, 0.9098, 0.8471],\n",
       "        [0.8157, 0.9255, 0.8471]],\n",
       "\n",
       "       ...,\n",
       "\n",
       "       [[0.5647, 0.6745, 0.6275],\n",
       "        [0.5961, 0.7059, 0.6588],\n",
       "        [0.5647, 0.6745, 0.6275],\n",
       "        ...,\n",
       "        [0.6902, 0.7529, 0.7216],\n",
       "        [0.6902, 0.7686, 0.7216],\n",
       "        [0.6902, 0.7843, 0.7529]],\n",
       "\n",
       "       [[0.5647, 0.6588, 0.6275],\n",
       "        [0.5647, 0.6902, 0.6588],\n",
       "        [0.5647, 0.6745, 0.6275],\n",
       "        ...,\n",
       "        [0.6588, 0.7216, 0.6902],\n",
       "        [0.6275, 0.7373, 0.6902],\n",
       "        [0.6588, 0.7373, 0.7216]],\n",
       "\n",
       "       [[0.5647, 0.6588, 0.6275],\n",
       "        [0.5647, 0.6745, 0.6275],\n",
       "        [0.5647, 0.6745, 0.6275],\n",
       "        ...,\n",
       "        [0.5961, 0.6902, 0.6275],\n",
       "        [0.5961, 0.6902, 0.6275],\n",
       "        [0.6275, 0.6902, 0.6275]]], dtype=float32)"
      ]
     },
     "execution_count": 93,
     "metadata": {},
     "output_type": "execute_result"
    }
   ],
   "source": [
    "x_data[2]"
   ]
  },
  {
   "cell_type": "markdown",
   "metadata": {},
   "source": [
    "### Define the model\n",
    "\n",
    "The layout of the network ist a typcial CNN network with alternating **Conv2D** and **MaxPool2D** layers. Finished after **flattening** with additional **Dense** layer.\n",
    "\n",
    "#### Important\n",
    "* Shape of the input layer: (15, 25, 3)\n",
    "* Number of output layers: 10\n",
    "* As loss function \"categorical_crossentropy\" is choosen, as it is a categories task"
   ]
  },
  {
   "cell_type": "code",
   "execution_count": 94,
   "metadata": {},
   "outputs": [],
   "source": [
    "model = tf.keras.Sequential([\n",
    "        tf.keras.layers.InputLayer(input_shape=(25,15,3)),\n",
    "        tf.keras.layers.Conv2D(64, kernel_size=3, padding='same', activity_regularizer=regularizers.L2(1e-5),  activation='relu'),\n",
    "        tf.keras.layers.MaxPooling2D(pool_size=2, strides=2, padding='same'),\n",
    "        tf.keras.layers.Conv2D(32, kernel_size=3, padding='same',activity_regularizer=regularizers.L2(1e-5), activation='relu'),\n",
    "        tf.keras.layers.MaxPooling2D(pool_size=2, strides=2, padding='same'),\n",
    "        tf.keras.layers.Conv2D(16, kernel_size=3, padding='same',activity_regularizer=regularizers.L2(1e-5), activation='relu'),\n",
    "        tf.keras.layers.MaxPooling2D(pool_size=2, strides=2, padding='same'),\n",
    "        tf.keras.layers.Flatten(),\n",
    "        tf.keras.layers.Dense(64, activation=\"relu\"),\n",
    "        tf.keras.layers.Dropout(0.25),\n",
    "        tf.keras.layers.Dense(10, activation=tf.nn.softmax)\n",
    "    ])\n"
   ]
  },
  {
   "cell_type": "code",
   "execution_count": 95,
   "metadata": {},
   "outputs": [
    {
     "name": "stdout",
     "output_type": "stream",
     "text": [
      "Model: \"sequential_10\"\n",
      "_________________________________________________________________\n",
      "Layer (type)                 Output Shape              Param #   \n",
      "=================================================================\n",
      "conv2d_30 (Conv2D)           (None, 25, 15, 64)        1792      \n",
      "_________________________________________________________________\n",
      "max_pooling2d_30 (MaxPooling (None, 13, 8, 64)         0         \n",
      "_________________________________________________________________\n",
      "conv2d_31 (Conv2D)           (None, 13, 8, 32)         18464     \n",
      "_________________________________________________________________\n",
      "max_pooling2d_31 (MaxPooling (None, 7, 4, 32)          0         \n",
      "_________________________________________________________________\n",
      "conv2d_32 (Conv2D)           (None, 7, 4, 16)          4624      \n",
      "_________________________________________________________________\n",
      "max_pooling2d_32 (MaxPooling (None, 4, 2, 16)          0         \n",
      "_________________________________________________________________\n",
      "flatten_10 (Flatten)         (None, 128)               0         \n",
      "_________________________________________________________________\n",
      "dense_20 (Dense)             (None, 64)                8256      \n",
      "_________________________________________________________________\n",
      "dropout_10 (Dropout)         (None, 64)                0         \n",
      "_________________________________________________________________\n",
      "dense_21 (Dense)             (None, 10)                650       \n",
      "=================================================================\n",
      "Total params: 33,786\n",
      "Trainable params: 33,786\n",
      "Non-trainable params: 0\n",
      "_________________________________________________________________\n"
     ]
    }
   ],
   "source": [
    "model.summary()"
   ]
  },
  {
   "cell_type": "code",
   "execution_count": 96,
   "metadata": {},
   "outputs": [],
   "source": [
    "model.compile(loss=keras.losses.categorical_crossentropy, optimizer=tf.keras.optimizers.Adadelta(learning_rate=1.0, rho=0.95), metrics = [\"accuracy\"])"
   ]
  },
  {
   "cell_type": "markdown",
   "metadata": {},
   "source": [
    "# Training\n",
    "The input pictures are randomly scattered for brightness, pixel shift variations and rotation angle. This is implemented with a ImageDataGenerator.\n"
   ]
  },
  {
   "cell_type": "code",
   "execution_count": 97,
   "metadata": {
    "scrolled": true
   },
   "outputs": [
    {
     "name": "stdout",
     "output_type": "stream",
     "text": [
      "Epoch 1/100\n",
      "130/130 [==============================] - 6s 45ms/step - loss: 8.0403 - accuracy: 0.3362 - val_loss: 1.3940 - val_accuracy: 0.6832\n",
      "Epoch 2/100\n",
      "130/130 [==============================] - 6s 44ms/step - loss: 1.1941 - accuracy: 0.6648 - val_loss: 0.9206 - val_accuracy: 0.7415\n",
      "Epoch 3/100\n",
      "130/130 [==============================] - 6s 44ms/step - loss: 0.6671 - accuracy: 0.8406 - val_loss: 0.5411 - val_accuracy: 0.8941\n",
      "Epoch 4/100\n",
      "130/130 [==============================] - 6s 43ms/step - loss: 0.4173 - accuracy: 0.9167 - val_loss: 0.2487 - val_accuracy: 0.9605\n",
      "Epoch 5/100\n",
      "130/130 [==============================] - 6s 44ms/step - loss: 0.2925 - accuracy: 0.9479 - val_loss: 0.1712 - val_accuracy: 0.9851\n",
      "Epoch 6/100\n",
      "130/130 [==============================] - 6s 44ms/step - loss: 0.2542 - accuracy: 0.9578 - val_loss: 0.1590 - val_accuracy: 0.9879\n",
      "Epoch 7/100\n",
      "130/130 [==============================] - 6s 44ms/step - loss: 0.2017 - accuracy: 0.9682 - val_loss: 0.1231 - val_accuracy: 0.9863\n",
      "Epoch 8/100\n",
      "130/130 [==============================] - 6s 45ms/step - loss: 0.1677 - accuracy: 0.9779 - val_loss: 0.0958 - val_accuracy: 0.9944\n",
      "Epoch 9/100\n",
      "130/130 [==============================] - 6s 44ms/step - loss: 0.2202 - accuracy: 0.9644 - val_loss: 0.0906 - val_accuracy: 0.9960\n",
      "Epoch 10/100\n",
      "130/130 [==============================] - 6s 44ms/step - loss: 0.1197 - accuracy: 0.9873 - val_loss: 0.0809 - val_accuracy: 0.9968\n",
      "Epoch 11/100\n",
      "130/130 [==============================] - 6s 44ms/step - loss: 0.1524 - accuracy: 0.9752 - val_loss: 0.0804 - val_accuracy: 0.9936\n",
      "Epoch 12/100\n",
      "130/130 [==============================] - 6s 44ms/step - loss: 0.1069 - accuracy: 0.9879 - val_loss: 0.0608 - val_accuracy: 0.9992\n",
      "Epoch 13/100\n",
      "130/130 [==============================] - 6s 48ms/step - loss: 0.0969 - accuracy: 0.9886 - val_loss: 0.0633 - val_accuracy: 0.9980\n",
      "Epoch 14/100\n",
      "130/130 [==============================] - 6s 45ms/step - loss: 0.1133 - accuracy: 0.9825 - val_loss: 0.0623 - val_accuracy: 0.9980\n",
      "Epoch 15/100\n",
      "130/130 [==============================] - 6s 45ms/step - loss: 0.0991 - accuracy: 0.9872 - val_loss: 0.0684 - val_accuracy: 0.9960\n"
     ]
    }
   ],
   "source": [
    "Batch_Size = 64\n",
    "Shift_Range = 1\n",
    "Brightness_Range = 0.1\n",
    "Rotation_Angle = 0\n",
    "ZoomRange = 0.0\n",
    "# Epochs = 10\n",
    "callback = []\n",
    "\n",
    "early_stopping = EarlyStopping(\n",
    "                    monitor=\"val_accuracy\",\n",
    "                    min_delta=0,\n",
    "                    patience=3,\n",
    "                    verbose=0,\n",
    "                    mode=\"auto\",\n",
    "                    baseline=None,\n",
    "                    restore_best_weights=False,\n",
    "                )\n",
    "\n",
    "datagen = ImageDataGenerator(width_shift_range=[-Shift_Range,Shift_Range], \n",
    "                             height_shift_range=[-Shift_Range,Shift_Range],\n",
    "                             brightness_range=[1-Brightness_Range,1+Brightness_Range],\n",
    "                             zoom_range=[1-ZoomRange, 1+ZoomRange],\n",
    "                             rotation_range=Rotation_Angle,vertical_flip=True)\n",
    "\n",
    "# datagen = ImageDataGenerator(featurewise_center=False,\n",
    "#                                  featurewise_std_normalization=False,\n",
    "#                                  rotation_range=20,\n",
    "#                                  width_shift_range=0.2,\n",
    "#                                  height_shift_range=0.2,\n",
    "#                                  vertical_flip=True)\n",
    "\n",
    "if (Training_Percentage > 0):\n",
    "    train_iterator = datagen.flow(x_data, y_data, batch_size=Batch_Size, shuffle = True)\n",
    "    validation_iterator = datagen.flow(X_test, y_test, batch_size=Batch_Size, shuffle = False)\n",
    "    history = model.fit(train_iterator, validation_data = validation_iterator, epochs = Epochs, callbacks=[early_stopping])\n",
    "else:\n",
    "    train_iterator = datagen.flow(x_data, y_data, batch_size=Batch_Size, shuffle = True,)\n",
    "    history = model.fit(train_iterator, epochs = Epochs)\n",
    "\n"
   ]
  },
  {
   "cell_type": "code",
   "execution_count": 99,
   "metadata": {},
   "outputs": [
    {
     "name": "stdout",
     "output_type": "stream",
     "text": [
      "78/78 [==============================] - 0s 3ms/step - loss: 2.2664 - accuracy: 0.1634\n"
     ]
    }
   ],
   "source": [
    "final_loss, final_acc = model.evaluate(X_test, y_test)"
   ]
  },
  {
   "cell_type": "markdown",
   "metadata": {},
   "source": [
    "### Learing result\n",
    " \n",
    "* Visualization of the training and validation results"
   ]
  },
  {
   "cell_type": "code",
   "execution_count": 100,
   "metadata": {},
   "outputs": [
    {
     "data": {
      "image/png": "[encoded data removed]",
      "text/plain": [
       "<Figure size 432x288 with 1 Axes>"
      ]
     },
     "metadata": {
      "needs_background": "light"
     },
     "output_type": "display_data"
    }
   ],
   "source": [
    "loss_ges = np.append(loss_ges, history.history['loss'])\n",
    "plt.semilogy(history.history['loss'])\n",
    "\n",
    "if (Training_Percentage > 0):\n",
    "    val_loss_ges = np.append(val_loss_ges, history.history['val_loss'])\n",
    "    plt.semilogy(history.history['val_loss'])\n",
    "\n",
    "plt.title('model loss')\n",
    "plt.ylabel('loss')\n",
    "plt.xlabel('epoch')\n",
    "plt.legend(['train','eval'], loc='upper left')\n",
    "plt.show()"
   ]
  },
  {
   "cell_type": "code",
   "execution_count": 101,
   "metadata": {},
   "outputs": [],
   "source": [
    "Input_dir='../data/raw_images/sample'\n",
    "files = glob.glob(Input_dir + '/*.bmp')"
   ]
  },
  {
   "cell_type": "code",
   "execution_count": 102,
   "metadata": {},
   "outputs": [
    {
     "name": "stdout",
     "output_type": "stream",
     "text": [
      "../data/raw_images/sample/5 6\n",
      "../data/raw_images/sample/8 8\n",
      "../data/raw_images/sample/7 7\n",
      "../data/raw_images/sample/7 7\n",
      "../data/raw_images/sample/0 8\n",
      "../data/raw_images/sample/9 8\n",
      "../data/raw_images/sample/2 5\n",
      "../data/raw_images/sample/7 7\n",
      "../data/raw_images/sample/5 6\n",
      "../data/raw_images/sample/9 9\n",
      "../data/raw_images/sample/9 9\n",
      "../data/raw_images/sample/5 5\n",
      "../data/raw_images/sample/6 6\n",
      "../data/raw_images/sample/8 8\n",
      "../data/raw_images/sample/4 8\n",
      "../data/raw_images/sample/6 6\n",
      "../data/raw_images/sample/3 3\n",
      "../data/raw_images/sample/0 8\n",
      "../data/raw_images/sample/3 3\n",
      "../data/raw_images/sample/6 6\n",
      "../data/raw_images/sample/1 1\n",
      "../data/raw_images/sample/5 6\n",
      "../data/raw_images/sample/4 8\n",
      "../data/raw_images/sample/3 3\n",
      "../data/raw_images/sample/0 8\n",
      "../data/raw_images/sample/1 1\n",
      "../data/raw_images/sample/3 3\n",
      "../data/raw_images/sample/8 8\n",
      "../data/raw_images/sample/4 4\n",
      "../data/raw_images/sample/2 5\n",
      "../data/raw_images/sample/0 8\n",
      "../data/raw_images/sample/5 6\n",
      "../data/raw_images/sample/2 6\n",
      "../data/raw_images/sample/9 9\n",
      "../data/raw_images/sample/8 8\n",
      "../data/raw_images/sample/4 4\n",
      "../data/raw_images/sample/7 7\n",
      "../data/raw_images/sample/6 6\n",
      "../data/raw_images/sample/2 6\n",
      "../data/raw_images/sample/1 1\n",
      "../data/raw_images/sample/8 8\n",
      "../data/raw_images/sample/9 9\n",
      "../data/raw_images/sample/7 7\n",
      "../data/raw_images/sample/1 1\n",
      "../data/raw_images/sample/3 3\n",
      "../data/raw_images/sample/0 8\n",
      "../data/raw_images/sample/4 4\n",
      "../data/raw_images/sample/6 6\n",
      "../data/raw_images/sample/1 1\n",
      "../data/raw_images/sample/2 5\n"
     ]
    }
   ],
   "source": [
    "for file in files[:100]: \n",
    "    base = os.path.basename(file)\n",
    "    target = base[0:1]\n",
    "    image_bmp = Image.open(file)\n",
    "    test_image = np.array(image_bmp, dtype=\"float32\")\n",
    "    img = np.reshape(test_image,[1,25,15,3])\n",
    "    classes = np.argmax(model.predict(img), axis=-1)\n",
    "    classes = classes[0]\n",
    "    print(file[:27], classes)\n",
    "    "
   ]
  },
  {
   "cell_type": "code",
   "execution_count": null,
   "metadata": {},
   "outputs": [],
   "source": [
    "0.7216, 0.8471, 0.7843, 0.7216, 0.8471, 0.8157, 0.7529, 0.8627, 0.8157, 0.7529, 0.8627, 0.8157, 0.7216, 0.8627, 0.8157, 0.7216, 0.8627, 0.7843, 0.7216, 0.8471, 0.7843, 0.7216, 0.8471, 0.7843, 0.7216, 0.8314, 0.7843, 0.6902, 0.8314, 0.7529, 0.6902, 0.8314, 0.7843, 0.6902, 0.8314, 0.7529, 0.6902, 0.8000, 0.7529, 0.6902, 0.7843, 0.7529, 0.6588, 0.7373, 0.7216, 0.7216, 0.8471, 0.7843, 0.7216, 0.8627, 0.7843, 0.7216, 0.8627, 0.7843, 0.7529, 0.8627, 0.8157, 0.7216, 0.8627, 0.8157, 0.7216, 0.8471, 0.7843, 0.7216, 0.8314, 0.7843, 0.7216, 0.8314, 0.7843, 0.6902, 0.8314, 0.7529, 0.6902, 0.8314, 0.7529, 0.6902, 0.8314, 0.7529, 0.6902, 0.8157, 0.7529, 0.6902, 0.8157, 0.7529, 0.6902, 0.7843, 0.7216, 0.6588, 0.7373, 0.6902, 0.7216, 0.8471, 0.7843, 0.7216, 0.8471, 0.7843, 0.7216, 0.8471, 0.7843, 0.7216, 0.8627, 0.7843, 0.7216, 0.8471, 0.7843, 0.7216, 0.8314, 0.7843, 0.7216, 0.8157, 0.7529, 0.6902, 0.8157, 0.7529, 0.6902, 0.8157, 0.7529, 0.6902, 0.8000, 0.7529, 0.6902, 0.8157, 0.7529, 0.6902, 0.8000, 0.7529, 0.6902, 0.8000, 0.7529, 0.6588, 0.7843, 0.7216, 0.6588, 0.7373, 0.6902, 0.7216, 0.8314, 0.7843, 0.7216, 0.8471, 0.7843, 0.7216, 0.8471, 0.7843, 0.6902, 0.8314, 0.7843, 0.6902, 0.8000, 0.7529, 0.6588, 0.7686, 0.7529, 0.6588, 0.7373, 0.7216, 0.6275, 0.7373, 0.7216, 0.6275, 0.7373, 0.7216, 0.6275, 0.7373, 0.7216, 0.6588, 0.7529, 0.6902, 0.6588, 0.7843, 0.7216, 0.6588, 0.7843, 0.7216, 0.6588, 0.7686, 0.7216, 0.6588, 0.7373, 0.6902, 0.6902, 0.8314, 0.7529, 0.7216, 0.8314, 0.7843, 0.6902, 0.8314, 0.7843, 0.6588, 0.8000, 0.7529, 0.6588, 0.7529, 0.7529, 0.6275, 0.7373, 0.7216, 0.6275, 0.7059, 0.7216, 0.6275, 0.7059, 0.6902, 0.6275, 0.7059, 0.6902, 0.6275, 0.7059, 0.6902, 0.6275, 0.7216, 0.6902, 0.6588, 0.7529, 0.7216, 0.6588, 0.7843, 0.7216, 0.6588, 0.7843, 0.7216, 0.6588, 0.7529, 0.6902, 0.6902, 0.8314, 0.7529, 0.6902, 0.8314, 0.7529, 0.6902, 0.8000, 0.7843, 0.6275, 0.7529, 0.7216, 0.6275, 0.7216, 0.7216, 0.6588, 0.7373, 0.7216, 0.6588, 0.7373, 0.7216, 0.6588, 0.7373, 0.7216, 0.6588, 0.7373, 0.7216, 0.6275, 0.7216, 0.6902, 0.6275, 0.7059, 0.6902, 0.6588, 0.7216, 0.7216, 0.6588, 0.7686, 0.7216, 0.6588, 0.7686, 0.7216, 0.6588, 0.7373, 0.6902, 0.6902, 0.8157, 0.7529, 0.6902, 0.8157, 0.7529, 0.6902, 0.8000, 0.7529, 0.6275, 0.7529, 0.7216, 0.6275, 0.7216, 0.7216, 0.6588, 0.7529, 0.7529, 0.6588, 0.8000, 0.7529, 0.6588, 0.8000, 0.7529, 0.6902, 0.7843, 0.7529, 0.6275, 0.7529, 0.7216, 0.6275, 0.7059, 0.6902, 0.6588, 0.7216, 0.7216, 0.6588, 0.7686, 0.7216, 0.6588, 0.7686, 0.7216, 0.6588, 0.7373, 0.6902, 0.6902, 0.8157, 0.7529, 0.6902, 0.8157, 0.7529, 0.6902, 0.8000, 0.7529, 0.6275, 0.7529, 0.7216, 0.6275, 0.7373, 0.6902, 0.6902, 0.7843, 0.7529, 0.6902, 0.8157, 0.7529, 0.6902, 0.8157, 0.7529, 0.6902, 0.7843, 0.7529, 0.6275, 0.7529, 0.7216, 0.6275, 0.6902, 0.6902, 0.6275, 0.7059, 0.6902, 0.6588, 0.7686, 0.7216, 0.6588, 0.7686, 0.7216, 0.6588, 0.7216, 0.6902, 0.6902, 0.8157, 0.7843, 0.6902, 0.8157, 0.7529, 0.6902, 0.7843, 0.7529, 0.6275, 0.7373, 0.7216, 0.6275, 0.7373, 0.7216, 0.6902, 0.7843, 0.7529, 0.7216, 0.8314, 0.7843, 0.6902, 0.8314, 0.7529, 0.6902, 0.8000, 0.7529, 0.6275, 0.7529, 0.6902, 0.5961, 0.6902, 0.6588, 0.6275, 0.7216, 0.6902, 0.6588, 0.7686, 0.7216, 0.6588, 0.7686, 0.7216, 0.6588, 0.7216, 0.6902, 0.6902, 0.8157, 0.7529, 0.6902, 0.8157, 0.7529, 0.6588, 0.7686, 0.7529, 0.6275, 0.7373, 0.7216, 0.6275, 0.7373, 0.7216, 0.6902, 0.7843, 0.7843, 0.7216, 0.8314, 0.7843, 0.6902, 0.8314, 0.7529, 0.6902, 0.7843, 0.7529, 0.6275, 0.7373, 0.6902, 0.5961, 0.6902, 0.6588, 0.6275, 0.7216, 0.6902, 0.6588, 0.7843, 0.7216, 0.6588, 0.7843, 0.7216, 0.6588, 0.7216, 0.6902, 0.6902, 0.8157, 0.7529, 0.6902, 0.8157, 0.7529, 0.6588, 0.7529, 0.7216, 0.6275, 0.7216, 0.6902, 0.6275, 0.7373, 0.6902, 0.6902, 0.7843, 0.7529, 0.6902, 0.8314, 0.7529, 0.6902, 0.8157, 0.7529, 0.6902, 0.7843, 0.7529, 0.6275, 0.7373, 0.6902, 0.5961, 0.6902, 0.6588, 0.6588, 0.7373, 0.7216, 0.6588, 0.7843, 0.7216, 0.6588, 0.7686, 0.7216, 0.6588, 0.7216, 0.6902, 0.6902, 0.8157, 0.7529, 0.6902, 0.8157, 0.7529, 0.6588, 0.7686, 0.7216, 0.6275, 0.7216, 0.6902, 0.6275, 0.7373, 0.6902, 0.6902, 0.7686, 0.7529, 0.6902, 0.8157, 0.7529, 0.6902, 0.8157, 0.7529, 0.6902, 0.7843, 0.7529, 0.6275, 0.7373, 0.6902, 0.6275, 0.7059, 0.6902, 0.6588, 0.7529, 0.7216, 0.6902, 0.7843, 0.7216, 0.6588, 0.7686, 0.7216, 0.6588, 0.7216, 0.6902, 0.6902, 0.8157, 0.7529, 0.6902, 0.8157, 0.7529, 0.6588, 0.7686, 0.7216, 0.6275, 0.7373, 0.6902, 0.6275, 0.7216, 0.6902, 0.6588, 0.7373, 0.7216, 0.6588, 0.7373, 0.7216, 0.6588, 0.7529, 0.7216, 0.6588, 0.7529, 0.7216, 0.6275, 0.7373, 0.6902, 0.6275, 0.7373, 0.6902, 0.6588, 0.7686, 0.7216, 0.6902, 0.8000, 0.7529, 0.6588, 0.7843, 0.7216, 0.6588, 0.7373, 0.6902, 0.6902, 0.8157, 0.7529, 0.6902, 0.8157, 0.7529, 0.6902, 0.8157, 0.7529, 0.6588, 0.7843, 0.7216, 0.6275, 0.7373, 0.6902, 0.6275, 0.7059, 0.6902, 0.6275, 0.7059, 0.6902, 0.6275, 0.7059, 0.6902, 0.6275, 0.7059, 0.6902, 0.6588, 0.7216, 0.7216, 0.6588, 0.7686, 0.7216, 0.6902, 0.7843, 0.7529, 0.6902, 0.8000, 0.7216, 0.6588, 0.7843, 0.7216, 0.6588, 0.7373, 0.6902, 0.6902, 0.8157, 0.7529, 0.6902, 0.8157, 0.7529, 0.6902, 0.8157, 0.7529, 0.6902, 0.8000, 0.7529, 0.6588, 0.7529, 0.7216, 0.6275, 0.7373, 0.6902, 0.6275, 0.7216, 0.7216, 0.6275, 0.7216, 0.6902, 0.6275, 0.7216, 0.6902, 0.6275, 0.7216, 0.7216, 0.6588, 0.7529, 0.7216, 0.6588, 0.7686, 0.7216, 0.6588, 0.7843, 0.7216, 0.6588, 0.7686, 0.6902, 0.6275, 0.7059, 0.6588, 0.6902, 0.8157, 0.7529, 0.6902, 0.8157, 0.7529, 0.6902, 0.8157, 0.7529, 0.6902, 0.8000, 0.7529, 0.6902, 0.8000, 0.7216, 0.6902, 0.7843, 0.7216, 0.6902, 0.7843, 0.7529, 0.6588, 0.7843, 0.7216, 0.6588, 0.7373, 0.7216, 0.6275, 0.7059, 0.6902, 0.6275, 0.7059, 0.6902, 0.6588, 0.7529, 0.7216, 0.6588, 0.7529, 0.7216, 0.6588, 0.7373, 0.6902, 0.6275, 0.7059, 0.6588, 0.6902, 0.8000, 0.7216, 0.6588, 0.8000, 0.7216, 0.6902, 0.7843, 0.7216, 0.6588, 0.7843, 0.7216, 0.6588, 0.7843, 0.7216, 0.6902, 0.8000, 0.7529, 0.6902, 0.8000, 0.7529, 0.6902, 0.7843, 0.7216, 0.6588, 0.7373, 0.7216, 0.5961, 0.6902, 0.6588, 0.6275, 0.7059, 0.6588, 0.6588, 0.7373, 0.6902, 0.6588, 0.7529, 0.7216, 0.6588, 0.7373, 0.6902, 0.6275, 0.7059, 0.6588, 0.6588, 0.7686, 0.7216, 0.6588, 0.7686, 0.7216, 0.6588, 0.7686, 0.7216, 0.6588, 0.7686, 0.7216, 0.6588, 0.7843, 0.7216, 0.6902, 0.8000, 0.7216, 0.6902, 0.7843, 0.7216, 0.6588, 0.7686, 0.7216, 0.6275, 0.7216, 0.6902, 0.5961, 0.6745, 0.6588, 0.6275, 0.6902, 0.6588, 0.6588, 0.7216, 0.6902, 0.6588, 0.7373, 0.6902, 0.6588, 0.7216, 0.6902, 0.6275, 0.6902, 0.6588, 0.6588, 0.7529, 0.6902, 0.6588, 0.7529, 0.6902, 0.6588, 0.7529, 0.7216, 0.6588, 0.7373, 0.7216, 0.6588, 0.7686, 0.7216, 0.6588, 0.7686, 0.7216, 0.6588, 0.7686, 0.7216, 0.6588, 0.7529, 0.6902, 0.6275, 0.6902, 0.6588, 0.5961, 0.6588, 0.6588, 0.5961, 0.6745, 0.6588, 0.6275, 0.7059, 0.6902, 0.6588, 0.7059, 0.6902, 0.6275, 0.7059, 0.6902, 0.6275, 0.6902, 0.6588, 0.6588, 0.7373, 0.6902, 0.6588, 0.7373, 0.6902, 0.6588, 0.7216, 0.6902, 0.6588, 0.7216, 0.6902, 0.6588, 0.7529, 0.6902, 0.6588, 0.7529, 0.6902, 0.6588, 0.7373, 0.6902, 0.6275, 0.7059, 0.6902, 0.5961, 0.6745, 0.6588, 0.5647, 0.6588, 0.6275, 0.5961, 0.6745, 0.6275, 0.6275, 0.7059, 0.6588, 0.6275, 0.7059, 0.6588, 0.6275, 0.6902, 0.6588, 0.6275, 0.6745, 0.6275, 0.6588, 0.7216, 0.6902, 0.6588, 0.7216, 0.6902, 0.6275, 0.7059, 0.6902, 0.6275, 0.6902, 0.6588, 0.6275, 0.7059, 0.6588, 0.6275, 0.6902, 0.6588, 0.6275, 0.6902, 0.6588, 0.5961, 0.6745, 0.6275, 0.5647, 0.6588, 0.5961, 0.5333, 0.6431, 0.5961, 0.5647, 0.6588, 0.6275, 0.5961, 0.7059, 0.6588, 0.6275, 0.6902, 0.6588, 0.6275, 0.6902, 0.6588, 0.5961, 0.6745, 0.6275, 0.6275, 0.7059, 0.6588, 0.6275, 0.7059, 0.6588, 0.6275, 0.6902, 0.6588, 0.5961, 0.6745, 0.6275, 0.5647, 0.6588, 0.5961, 0.5647, 0.6431, 0.5961, 0.5647, 0.6431, 0.5961, 0.5647, 0.6431, 0.5961, 0.5333, 0.6431, 0.5961, 0.5333, 0.6275, 0.5647, 0.5647, 0.6431, 0.5961, 0.5961, 0.6902, 0.6275, 0.5961, 0.6745, 0.6275, 0.5961, 0.6588, 0.6275, 0.5961, 0.6588, 0.5961, 0.5961, 0.6745, 0.6275, 0.5961, 0.6745, 0.6275, 0.5961, 0.6745, 0.6275, 0.5647, 0.6431, 0.5961, 0.5020, 0.6118, 0.5647, 0.5020, 0.6118, 0.5647, 0.5020, 0.6118, 0.5647, 0.5020, 0.6118, 0.5647, 0.5333, 0.6118, 0.5647, 0.5333, 0.6275, 0.5647, 0.5647, 0.6431, 0.5647, 0.5647, 0.6588, 0.5961, 0.5647, 0.6588, 0.5961, 0.5647, 0.6431, 0.5961, 0.5647, 0.6431, 0.5647, 0.5647, 0.6431, 0.5961, 0.5647, 0.6431, 0.5961, 0.5333, 0.6431, 0.5647, 0.5020, 0.6118, 0.5647, 0.5020, 0.5961, 0.5333, 0.5020, 0.5961, 0.5333, 0.4706, 0.5961, 0.5333, 0.5020, 0.5961, 0.5333, 0.5020, 0.6118, 0.5333, 0.5333, 0.6275, 0.5647, 0.5333, 0.6275, 0.5647, 0.5647, 0.6275, 0.5647, 0.5333, 0.6275, 0.5647, 0.5333, 0.6275, 0.5647, 0.5333, 0.6118, 0.5647, 0.5333, 0.6275, 0.5647, 0.5333, 0.6118, 0.5647, 0.5020, 0.6118, 0.5647, 0.5020, 0.5961, 0.5333, 0.5020, 0.5961, 0.5333, 0.5020, 0.5804, 0.5333, 0.5020, 0.5804, 0.5333, 0.5020, 0.5961, 0.5333, 0.5020, 0.5961, 0.5333, 0.5333, 0.5961, 0.5333, 0.5020, 0.6118, 0.5333, 0.5020, 0.6118, 0.5333, 0.5333, 0.6118, 0.5647, 0.5020, 0.5961, 0.5333, 0.5020, 0.5961, 0.5333"
   ]
  },
  {
   "cell_type": "markdown",
   "metadata": {},
   "source": [
    "### Save the model\n",
    "\n",
    "* Save the model to the file with the \"h5\" file format"
   ]
  },
  {
   "cell_type": "markdown",
   "metadata": {},
   "source": [
    "## Post training weight quantization"
   ]
  },
  {
   "cell_type": "markdown",
   "metadata": {},
   "source": [
    "* Depending on your requirements (performance, memory and runtime), post training quantization can be done in two ways."
   ]
  },
  {
   "cell_type": "markdown",
   "metadata": {},
   "source": [
    "Approach #1:  Post training weight quantization (quantizes weights only) In this case only weights are quantized to int8 but activations remain as they were. Inference input and output are floating-point."
   ]
  },
  {
   "cell_type": "code",
   "execution_count": 24,
   "metadata": {
    "scrolled": true
   },
   "outputs": [
    {
     "name": "stderr",
     "output_type": "stream",
     "text": [
      "2022-10-14 01:52:15.347649: W tensorflow/python/util/util.cc:348] Sets are not currently considered sequences, but this may change in the future, so consider avoiding using them.\n"
     ]
    },
    {
     "name": "stdout",
     "output_type": "stream",
     "text": [
      "INFO:tensorflow:Assets written to: /tmp/tmpnrg9d28g/assets\n"
     ]
    },
    {
     "name": "stderr",
     "output_type": "stream",
     "text": [
      "2022-10-14 01:52:15.903410: I tensorflow/core/grappler/devices.cc:69] Number of eligible GPUs (core count >= 8, compute capability >= 0.0): 0\n",
      "2022-10-14 01:52:15.903573: I tensorflow/core/grappler/clusters/single_machine.cc:357] Starting new session\n",
      "2022-10-14 01:52:15.905085: I tensorflow/core/grappler/optimizers/meta_optimizer.cc:1144] Optimization results for grappler item: graph_to_optimize\n",
      "  function_optimizer: function_optimizer did nothing. time = 0.009ms.\n",
      "  function_optimizer: function_optimizer did nothing. time = 0.001ms.\n",
      "\n",
      "2022-10-14 01:52:15.943949: W tensorflow/compiler/mlir/lite/python/tf_tfl_flatbuffer_helpers.cc:345] Ignored output_format.\n",
      "2022-10-14 01:52:15.943999: W tensorflow/compiler/mlir/lite/python/tf_tfl_flatbuffer_helpers.cc:348] Ignored drop_control_dependency.\n",
      "2022-10-14 01:52:15.947120: I tensorflow/compiler/mlir/tensorflow/utils/dump_mlir_util.cc:210] disabling MLIR crash reproducer, set env var `MLIR_CRASH_REPRODUCER_DIRECTORY` to enable.\n",
      "2022-10-14 01:52:15.961495: I tensorflow/lite/tools/optimize/quantize_weights.cc:225] Skipping quantization of tensor sequential_2/conv2d_6/Conv2D because it has fewer than 1024 elements (864).\n"
     ]
    },
    {
     "data": {
      "text/plain": [
       "62704"
      ]
     },
     "execution_count": 24,
     "metadata": {},
     "output_type": "execute_result"
    }
   ],
   "source": [
    "converter = tf.lite.TFLiteConverter.from_keras_model(model)\n",
    "converter.experimental_new_converter = True\n",
    "# Post training quantization\n",
    "converter.optimizations = [tf.lite.Optimize.OPTIMIZE_FOR_SIZE]\n",
    "tflite_quant_model = converter.convert()\n",
    "open(\"digit_model_quant.tflite\", \"wb\").write(tflite_quant_model)"
   ]
  },
  {
   "cell_type": "code",
   "execution_count": 25,
   "metadata": {},
   "outputs": [],
   "source": [
    "def representative_dataset():\n",
    "    for n in range(10):\n",
    "        data = np.expand_dims(x_data[5], axis=0)\n",
    "        yield [data.astype(np.float32)]"
   ]
  },
  {
   "cell_type": "markdown",
   "metadata": {},
   "source": [
    "Approach #2: Full integer quantization (Quantizes weights and activations) In this case weights and activations are quantized to int8. First we need to follow the approach #1 to quantize weight and then implement following code to do full integer quantization. This uses quantized input and output, making it compatible with more accelerators, such as the Openmv Camera and Coral Edge TPU. Inference input and output are integers."
   ]
  },
  {
   "cell_type": "code",
   "execution_count": 26,
   "metadata": {},
   "outputs": [
    {
     "name": "stdout",
     "output_type": "stream",
     "text": [
      "INFO:tensorflow:Assets written to: /tmp/tmpglxxntnm/assets\n"
     ]
    },
    {
     "name": "stderr",
     "output_type": "stream",
     "text": [
      "INFO:tensorflow:Assets written to: /tmp/tmpglxxntnm/assets\n",
      "2022-10-14 01:56:35.128291: I tensorflow/core/grappler/devices.cc:69] Number of eligible GPUs (core count >= 8, compute capability >= 0.0): 0\n",
      "2022-10-14 01:56:35.128483: I tensorflow/core/grappler/clusters/single_machine.cc:357] Starting new session\n",
      "2022-10-14 01:56:35.129911: I tensorflow/core/grappler/optimizers/meta_optimizer.cc:1144] Optimization results for grappler item: graph_to_optimize\n",
      "  function_optimizer: function_optimizer did nothing. time = 0.006ms.\n",
      "  function_optimizer: function_optimizer did nothing. time = 0.001ms.\n",
      "\n",
      "2022-10-14 01:56:35.169560: W tensorflow/compiler/mlir/lite/python/tf_tfl_flatbuffer_helpers.cc:345] Ignored output_format.\n",
      "2022-10-14 01:56:35.169589: W tensorflow/compiler/mlir/lite/python/tf_tfl_flatbuffer_helpers.cc:348] Ignored drop_control_dependency.\n",
      "fully_quantize: 0, inference_type: 6, input_inference_type: 9, output_inference_type: 9\n"
     ]
    },
    {
     "data": {
      "text/plain": [
       "61392"
      ]
     },
     "execution_count": 26,
     "metadata": {},
     "output_type": "execute_result"
    }
   ],
   "source": [
    "converter.optimizations = [tf.lite.Optimize.DEFAULT]\n",
    "converter.representative_dataset = representative_dataset\n",
    "converter.target_spec.supported_ops = [tf.lite.OpsSet.TFLITE_BUILTINS_INT8]\n",
    "converter.target_spec.supported_types = [tf.dtypes.int8]\n",
    "converter.inference_input_type = tf.int8\n",
    "converter.inference_output_type = tf.int8\n",
    "tflite_model_quant = converter.convert()\n",
    "open(\"digit_model_quant.tflite_int8.tflite\", \"wb\").write(tflite_model_quant)"
   ]
  },
  {
   "cell_type": "code",
   "execution_count": 152,
   "metadata": {},
   "outputs": [],
   "source": [
    "features = [0.7216, 0.8471, 0.7843, 0.7216, 0.8471, 0.8157, 0.7529, 0.8627, 0.8157, 0.7529, 0.8627, 0.8157, 0.7216, 0.8627, 0.8157, 0.7216, 0.8627, 0.7843, 0.7216, 0.8471, 0.7843, 0.7216, 0.8471, 0.7843, 0.7216, 0.8314, 0.7843, 0.6902, 0.8314, 0.7529, 0.6902, 0.8314, 0.7843, 0.6902, 0.8314, 0.7529, 0.6902, 0.8000, 0.7529, 0.6902, 0.7843, 0.7529, 0.6588, 0.7373, 0.7216, 0.7216, 0.8471, 0.7843, 0.7216, 0.8627, 0.7843, 0.7216, 0.8627, 0.7843, 0.7529, 0.8627, 0.8157, 0.7216, 0.8627, 0.8157, 0.7216, 0.8471, 0.7843, 0.7216, 0.8314, 0.7843, 0.7216, 0.8314, 0.7843, 0.6902, 0.8314, 0.7529, 0.6902, 0.8314, 0.7529, 0.6902, 0.8314, 0.7529, 0.6902, 0.8157, 0.7529, 0.6902, 0.8157, 0.7529, 0.6902, 0.7843, 0.7216, 0.6588, 0.7373, 0.6902, 0.7216, 0.8471, 0.7843, 0.7216, 0.8471, 0.7843, 0.7216, 0.8471, 0.7843, 0.7216, 0.8627, 0.7843, 0.7216, 0.8471, 0.7843, 0.7216, 0.8314, 0.7843, 0.7216, 0.8157, 0.7529, 0.6902, 0.8157, 0.7529, 0.6902, 0.8157, 0.7529, 0.6902, 0.8000, 0.7529, 0.6902, 0.8157, 0.7529, 0.6902, 0.8000, 0.7529, 0.6902, 0.8000, 0.7529, 0.6588, 0.7843, 0.7216, 0.6588, 0.7373, 0.6902, 0.7216, 0.8314, 0.7843, 0.7216, 0.8471, 0.7843, 0.7216, 0.8471, 0.7843, 0.6902, 0.8314, 0.7843, 0.6902, 0.8000, 0.7529, 0.6588, 0.7686, 0.7529, 0.6588, 0.7373, 0.7216, 0.6275, 0.7373, 0.7216, 0.6275, 0.7373, 0.7216, 0.6275, 0.7373, 0.7216, 0.6588, 0.7529, 0.6902, 0.6588, 0.7843, 0.7216, 0.6588, 0.7843, 0.7216, 0.6588, 0.7686, 0.7216, 0.6588, 0.7373, 0.6902, 0.6902, 0.8314, 0.7529, 0.7216, 0.8314, 0.7843, 0.6902, 0.8314, 0.7843, 0.6588, 0.8000, 0.7529, 0.6588, 0.7529, 0.7529, 0.6275, 0.7373, 0.7216, 0.6275, 0.7059, 0.7216, 0.6275, 0.7059, 0.6902, 0.6275, 0.7059, 0.6902, 0.6275, 0.7059, 0.6902, 0.6275, 0.7216, 0.6902, 0.6588, 0.7529, 0.7216, 0.6588, 0.7843, 0.7216, 0.6588, 0.7843, 0.7216, 0.6588, 0.7529, 0.6902, 0.6902, 0.8314, 0.7529, 0.6902, 0.8314, 0.7529, 0.6902, 0.8000, 0.7843, 0.6275, 0.7529, 0.7216, 0.6275, 0.7216, 0.7216, 0.6588, 0.7373, 0.7216, 0.6588, 0.7373, 0.7216, 0.6588, 0.7373, 0.7216, 0.6588, 0.7373, 0.7216, 0.6275, 0.7216, 0.6902, 0.6275, 0.7059, 0.6902, 0.6588, 0.7216, 0.7216, 0.6588, 0.7686, 0.7216, 0.6588, 0.7686, 0.7216, 0.6588, 0.7373, 0.6902, 0.6902, 0.8157, 0.7529, 0.6902, 0.8157, 0.7529, 0.6902, 0.8000, 0.7529, 0.6275, 0.7529, 0.7216, 0.6275, 0.7216, 0.7216, 0.6588, 0.7529, 0.7529, 0.6588, 0.8000, 0.7529, 0.6588, 0.8000, 0.7529, 0.6902, 0.7843, 0.7529, 0.6275, 0.7529, 0.7216, 0.6275, 0.7059, 0.6902, 0.6588, 0.7216, 0.7216, 0.6588, 0.7686, 0.7216, 0.6588, 0.7686, 0.7216, 0.6588, 0.7373, 0.6902, 0.6902, 0.8157, 0.7529, 0.6902, 0.8157, 0.7529, 0.6902, 0.8000, 0.7529, 0.6275, 0.7529, 0.7216, 0.6275, 0.7373, 0.6902, 0.6902, 0.7843, 0.7529, 0.6902, 0.8157, 0.7529, 0.6902, 0.8157, 0.7529, 0.6902, 0.7843, 0.7529, 0.6275, 0.7529, 0.7216, 0.6275, 0.6902, 0.6902, 0.6275, 0.7059, 0.6902, 0.6588, 0.7686, 0.7216, 0.6588, 0.7686, 0.7216, 0.6588, 0.7216, 0.6902, 0.6902, 0.8157, 0.7843, 0.6902, 0.8157, 0.7529, 0.6902, 0.7843, 0.7529, 0.6275, 0.7373, 0.7216, 0.6275, 0.7373, 0.7216, 0.6902, 0.7843, 0.7529, 0.7216, 0.8314, 0.7843, 0.6902, 0.8314, 0.7529, 0.6902, 0.8000, 0.7529, 0.6275, 0.7529, 0.6902, 0.5961, 0.6902, 0.6588, 0.6275, 0.7216, 0.6902, 0.6588, 0.7686, 0.7216, 0.6588, 0.7686, 0.7216, 0.6588, 0.7216, 0.6902, 0.6902, 0.8157, 0.7529, 0.6902, 0.8157, 0.7529, 0.6588, 0.7686, 0.7529, 0.6275, 0.7373, 0.7216, 0.6275, 0.7373, 0.7216, 0.6902, 0.7843, 0.7843, 0.7216, 0.8314, 0.7843, 0.6902, 0.8314, 0.7529, 0.6902, 0.7843, 0.7529, 0.6275, 0.7373, 0.6902, 0.5961, 0.6902, 0.6588, 0.6275, 0.7216, 0.6902, 0.6588, 0.7843, 0.7216, 0.6588, 0.7843, 0.7216, 0.6588, 0.7216, 0.6902, 0.6902, 0.8157, 0.7529, 0.6902, 0.8157, 0.7529, 0.6588, 0.7529, 0.7216, 0.6275, 0.7216, 0.6902, 0.6275, 0.7373, 0.6902, 0.6902, 0.7843, 0.7529, 0.6902, 0.8314, 0.7529, 0.6902, 0.8157, 0.7529, 0.6902, 0.7843, 0.7529, 0.6275, 0.7373, 0.6902, 0.5961, 0.6902, 0.6588, 0.6588, 0.7373, 0.7216, 0.6588, 0.7843, 0.7216, 0.6588, 0.7686, 0.7216, 0.6588, 0.7216, 0.6902, 0.6902, 0.8157, 0.7529, 0.6902, 0.8157, 0.7529, 0.6588, 0.7686, 0.7216, 0.6275, 0.7216, 0.6902, 0.6275, 0.7373, 0.6902, 0.6902, 0.7686, 0.7529, 0.6902, 0.8157, 0.7529, 0.6902, 0.8157, 0.7529, 0.6902, 0.7843, 0.7529, 0.6275, 0.7373, 0.6902, 0.6275, 0.7059, 0.6902, 0.6588, 0.7529, 0.7216, 0.6902, 0.7843, 0.7216, 0.6588, 0.7686, 0.7216, 0.6588, 0.7216, 0.6902, 0.6902, 0.8157, 0.7529, 0.6902, 0.8157, 0.7529, 0.6588, 0.7686, 0.7216, 0.6275, 0.7373, 0.6902, 0.6275, 0.7216, 0.6902, 0.6588, 0.7373, 0.7216, 0.6588, 0.7373, 0.7216, 0.6588, 0.7529, 0.7216, 0.6588, 0.7529, 0.7216, 0.6275, 0.7373, 0.6902, 0.6275, 0.7373, 0.6902, 0.6588, 0.7686, 0.7216, 0.6902, 0.8000, 0.7529, 0.6588, 0.7843, 0.7216, 0.6588, 0.7373, 0.6902, 0.6902, 0.8157, 0.7529, 0.6902, 0.8157, 0.7529, 0.6902, 0.8157, 0.7529, 0.6588, 0.7843, 0.7216, 0.6275, 0.7373, 0.6902, 0.6275, 0.7059, 0.6902, 0.6275, 0.7059, 0.6902, 0.6275, 0.7059, 0.6902, 0.6275, 0.7059, 0.6902, 0.6588, 0.7216, 0.7216, 0.6588, 0.7686, 0.7216, 0.6902, 0.7843, 0.7529, 0.6902, 0.8000, 0.7216, 0.6588, 0.7843, 0.7216, 0.6588, 0.7373, 0.6902, 0.6902, 0.8157, 0.7529, 0.6902, 0.8157, 0.7529, 0.6902, 0.8157, 0.7529, 0.6902, 0.8000, 0.7529, 0.6588, 0.7529, 0.7216, 0.6275, 0.7373, 0.6902, 0.6275, 0.7216, 0.7216, 0.6275, 0.7216, 0.6902, 0.6275, 0.7216, 0.6902, 0.6275, 0.7216, 0.7216, 0.6588, 0.7529, 0.7216, 0.6588, 0.7686, 0.7216, 0.6588, 0.7843, 0.7216, 0.6588, 0.7686, 0.6902, 0.6275, 0.7059, 0.6588, 0.6902, 0.8157, 0.7529, 0.6902, 0.8157, 0.7529, 0.6902, 0.8157, 0.7529, 0.6902, 0.8000, 0.7529, 0.6902, 0.8000, 0.7216, 0.6902, 0.7843, 0.7216, 0.6902, 0.7843, 0.7529, 0.6588, 0.7843, 0.7216, 0.6588, 0.7373, 0.7216, 0.6275, 0.7059, 0.6902, 0.6275, 0.7059, 0.6902, 0.6588, 0.7529, 0.7216, 0.6588, 0.7529, 0.7216, 0.6588, 0.7373, 0.6902, 0.6275, 0.7059, 0.6588, 0.6902, 0.8000, 0.7216, 0.6588, 0.8000, 0.7216, 0.6902, 0.7843, 0.7216, 0.6588, 0.7843, 0.7216, 0.6588, 0.7843, 0.7216, 0.6902, 0.8000, 0.7529, 0.6902, 0.8000, 0.7529, 0.6902, 0.7843, 0.7216, 0.6588, 0.7373, 0.7216, 0.5961, 0.6902, 0.6588, 0.6275, 0.7059, 0.6588, 0.6588, 0.7373, 0.6902, 0.6588, 0.7529, 0.7216, 0.6588, 0.7373, 0.6902, 0.6275, 0.7059, 0.6588, 0.6588, 0.7686, 0.7216, 0.6588, 0.7686, 0.7216, 0.6588, 0.7686, 0.7216, 0.6588, 0.7686, 0.7216, 0.6588, 0.7843, 0.7216, 0.6902, 0.8000, 0.7216, 0.6902, 0.7843, 0.7216, 0.6588, 0.7686, 0.7216, 0.6275, 0.7216, 0.6902, 0.5961, 0.6745, 0.6588, 0.6275, 0.6902, 0.6588, 0.6588, 0.7216, 0.6902, 0.6588, 0.7373, 0.6902, 0.6588, 0.7216, 0.6902, 0.6275, 0.6902, 0.6588, 0.6588, 0.7529, 0.6902, 0.6588, 0.7529, 0.6902, 0.6588, 0.7529, 0.7216, 0.6588, 0.7373, 0.7216, 0.6588, 0.7686, 0.7216, 0.6588, 0.7686, 0.7216, 0.6588, 0.7686, 0.7216, 0.6588, 0.7529, 0.6902, 0.6275, 0.6902, 0.6588, 0.5961, 0.6588, 0.6588, 0.5961, 0.6745, 0.6588, 0.6275, 0.7059, 0.6902, 0.6588, 0.7059, 0.6902, 0.6275, 0.7059, 0.6902, 0.6275, 0.6902, 0.6588, 0.6588, 0.7373, 0.6902, 0.6588, 0.7373, 0.6902, 0.6588, 0.7216, 0.6902, 0.6588, 0.7216, 0.6902, 0.6588, 0.7529, 0.6902, 0.6588, 0.7529, 0.6902, 0.6588, 0.7373, 0.6902, 0.6275, 0.7059, 0.6902, 0.5961, 0.6745, 0.6588, 0.5647, 0.6588, 0.6275, 0.5961, 0.6745, 0.6275, 0.6275, 0.7059, 0.6588, 0.6275, 0.7059, 0.6588, 0.6275, 0.6902, 0.6588, 0.6275, 0.6745, 0.6275, 0.6588, 0.7216, 0.6902, 0.6588, 0.7216, 0.6902, 0.6275, 0.7059, 0.6902, 0.6275, 0.6902, 0.6588, 0.6275, 0.7059, 0.6588, 0.6275, 0.6902, 0.6588, 0.6275, 0.6902, 0.6588, 0.5961, 0.6745, 0.6275, 0.5647, 0.6588, 0.5961, 0.5333, 0.6431, 0.5961, 0.5647, 0.6588, 0.6275, 0.5961, 0.7059, 0.6588, 0.6275, 0.6902, 0.6588, 0.6275, 0.6902, 0.6588, 0.5961, 0.6745, 0.6275, 0.6275, 0.7059, 0.6588, 0.6275, 0.7059, 0.6588, 0.6275, 0.6902, 0.6588, 0.5961, 0.6745, 0.6275, 0.5647, 0.6588, 0.5961, 0.5647, 0.6431, 0.5961, 0.5647, 0.6431, 0.5961, 0.5647, 0.6431, 0.5961, 0.5333, 0.6431, 0.5961, 0.5333, 0.6275, 0.5647, 0.5647, 0.6431, 0.5961, 0.5961, 0.6902, 0.6275, 0.5961, 0.6745, 0.6275, 0.5961, 0.6588, 0.6275, 0.5961, 0.6588, 0.5961, 0.5961, 0.6745, 0.6275, 0.5961, 0.6745, 0.6275, 0.5961, 0.6745, 0.6275, 0.5647, 0.6431, 0.5961, 0.5020, 0.6118, 0.5647, 0.5020, 0.6118, 0.5647, 0.5020, 0.6118, 0.5647, 0.5020, 0.6118, 0.5647, 0.5333, 0.6118, 0.5647, 0.5333, 0.6275, 0.5647, 0.5647, 0.6431, 0.5647, 0.5647, 0.6588, 0.5961, 0.5647, 0.6588, 0.5961, 0.5647, 0.6431, 0.5961, 0.5647, 0.6431, 0.5647, 0.5647, 0.6431, 0.5961, 0.5647, 0.6431, 0.5961, 0.5333, 0.6431, 0.5647, 0.5020, 0.6118, 0.5647, 0.5020, 0.5961, 0.5333, 0.5020, 0.5961, 0.5333, 0.4706, 0.5961, 0.5333, 0.5020, 0.5961, 0.5333, 0.5020, 0.6118, 0.5333, 0.5333, 0.6275, 0.5647, 0.5333, 0.6275, 0.5647, 0.5647, 0.6275, 0.5647, 0.5333, 0.6275, 0.5647, 0.5333, 0.6275, 0.5647, 0.5333, 0.6118, 0.5647, 0.5333, 0.6275, 0.5647, 0.5333, 0.6118, 0.5647, 0.5020, 0.6118, 0.5647, 0.5020, 0.5961, 0.5333, 0.5020, 0.5961, 0.5333, 0.5020, 0.5804, 0.5333, 0.5020, 0.5804, 0.5333, 0.5020, 0.5961, 0.5333, 0.5020, 0.5961, 0.5333, 0.5333, 0.5961, 0.5333, 0.5020, 0.6118, 0.5333, 0.5020, 0.6118, 0.5333, 0.5333, 0.6118, 0.5647, 0.5020, 0.5961, 0.5333, 0.5020, 0.5961, 0.5333]"
   ]
  },
  {
   "cell_type": "code",
   "execution_count": 153,
   "metadata": {},
   "outputs": [],
   "source": [
    "features = [0.5020, 0.6118, 0.5333, 0.5020, 0.6431, 0.5647, 0.5333, 0.6431, 0.5647, 0.5020, 0.6431, 0.5647, 0.5020, 0.6275, 0.5333, 0.5020, 0.6275, 0.5333, 0.5020, 0.6431, 0.5333, 0.5020, 0.6431, 0.5333, 0.5020, 0.6431, 0.5333, 0.5020, 0.6275, 0.5333, 0.5020, 0.6275, 0.5333, 0.5020, 0.6431, 0.5333, 0.5020, 0.6431, 0.5333, 0.5020, 0.6431, 0.5333, 0.5020, 0.6431, 0.5647, 0.5020, 0.6118, 0.5333, 0.5020, 0.6275, 0.5647, 0.5020, 0.6275, 0.5647, 0.5020, 0.6275, 0.5647, 0.5020, 0.6275, 0.5333, 0.5020, 0.6275, 0.5333, 0.5020, 0.6275, 0.5333, 0.5020, 0.6431, 0.5333, 0.5020, 0.6275, 0.5333, 0.5020, 0.6275, 0.5333, 0.5020, 0.6275, 0.5333, 0.5020, 0.6275, 0.5333, 0.5020, 0.6275, 0.5647, 0.5020, 0.6431, 0.5647, 0.5333, 0.6431, 0.5647, 0.4706, 0.6118, 0.5333, 0.5020, 0.6275, 0.5333, 0.5020, 0.6275, 0.5333, 0.5020, 0.6275, 0.5333, 0.5020, 0.6275, 0.5333, 0.5020, 0.6118, 0.5333, 0.5020, 0.6275, 0.5333, 0.5020, 0.6275, 0.5333, 0.5020, 0.6118, 0.5333, 0.5020, 0.6118, 0.5333, 0.5020, 0.6275, 0.5333, 0.5020, 0.6275, 0.5333, 0.5020, 0.6275, 0.5333, 0.5020, 0.6275, 0.5647, 0.5020, 0.6431, 0.5333, 0.4706, 0.6118, 0.5333, 0.5020, 0.6275, 0.5333, 0.5020, 0.6275, 0.5333, 0.5020, 0.6275, 0.5333, 0.5020, 0.6275, 0.5647, 0.5020, 0.6118, 0.5647, 0.5020, 0.6275, 0.5333, 0.5020, 0.6275, 0.5333, 0.5020, 0.6118, 0.5333, 0.5020, 0.6118, 0.5333, 0.5020, 0.6118, 0.5333, 0.5020, 0.6118, 0.5333, 0.4706, 0.6118, 0.5333, 0.5020, 0.6275, 0.5333, 0.5020, 0.6431, 0.5333, 0.4706, 0.6118, 0.5333, 0.5020, 0.6275, 0.5333, 0.5020, 0.6275, 0.5333, 0.5020, 0.6275, 0.5333, 0.5020, 0.6275, 0.5333, 0.5020, 0.6275, 0.5333, 0.5020, 0.6275, 0.5333, 0.5020, 0.6275, 0.5333, 0.5020, 0.6118, 0.5333, 0.5020, 0.6118, 0.5333, 0.4392, 0.5804, 0.5020, 0.4392, 0.5490, 0.5020, 0.4706, 0.5961, 0.5020, 0.4706, 0.6118, 0.5333, 0.5020, 0.6275, 0.5647, 0.4706, 0.6118, 0.5333, 0.5020, 0.6275, 0.5333, 0.5020, 0.6275, 0.5333, 0.5020, 0.6275, 0.5333, 0.5020, 0.6275, 0.5333, 0.5020, 0.6275, 0.5333, 0.5020, 0.6118, 0.5333, 0.5020, 0.6118, 0.5333, 0.5020, 0.6118, 0.5333, 0.4706, 0.5961, 0.5020, 0.4078, 0.5333, 0.4392, 0.3765, 0.5176, 0.4392, 0.4392, 0.5804, 0.4706, 0.5020, 0.6118, 0.5020, 0.5020, 0.6275, 0.5333, 0.4706, 0.6275, 0.5333, 0.5020, 0.6275, 0.5333, 0.5020, 0.6275, 0.5333, 0.5020, 0.6275, 0.5333, 0.5020, 0.6275, 0.5333, 0.4706, 0.6275, 0.5333, 0.4706, 0.6118, 0.5020, 0.4706, 0.6118, 0.5020, 0.4706, 0.6118, 0.5020, 0.4392, 0.5647, 0.4706, 0.3765, 0.5176, 0.4392, 0.3765, 0.5176, 0.4392, 0.4706, 0.5804, 0.4706, 0.5020, 0.6118, 0.5020, 0.5020, 0.6118, 0.5333, 0.4706, 0.6118, 0.5333, 0.5020, 0.6275, 0.5333, 0.5020, 0.6275, 0.5333, 0.5020, 0.6275, 0.5333, 0.5020, 0.6275, 0.5333, 0.4706, 0.6118, 0.5333, 0.4706, 0.6275, 0.5333, 0.4706, 0.6275, 0.5020, 0.4706, 0.5961, 0.5333, 0.4392, 0.5647, 0.5020, 0.3765, 0.5020, 0.4392, 0.3765, 0.5176, 0.4706, 0.4706, 0.5961, 0.5020, 0.5020, 0.6118, 0.5020, 0.5020, 0.6118, 0.5333, 0.5020, 0.6118, 0.5333, 0.5020, 0.6275, 0.5333, 0.5020, 0.6275, 0.5333, 0.5020, 0.6275, 0.5333, 0.5020, 0.6275, 0.5333, 0.5020, 0.6275, 0.5333, 0.4706, 0.6118, 0.5333, 0.4706, 0.6118, 0.5333, 0.4706, 0.5961, 0.5333, 0.4392, 0.5490, 0.5020, 0.3765, 0.5020, 0.4392, 0.3765, 0.5176, 0.4706, 0.4392, 0.5804, 0.5020, 0.4706, 0.6118, 0.5333, 0.5020, 0.6118, 0.5333, 0.5020, 0.6118, 0.5647, 0.5020, 0.6275, 0.5647, 0.5020, 0.6275, 0.5647, 0.5020, 0.6275, 0.5647, 0.5020, 0.6275, 0.5333, 0.5020, 0.6275, 0.5333, 0.4706, 0.6118, 0.5333, 0.4706, 0.6118, 0.5333, 0.4706, 0.5961, 0.5333, 0.4078, 0.5490, 0.4706, 0.3765, 0.4863, 0.4392, 0.4078, 0.5176, 0.4706, 0.4706, 0.5961, 0.5020, 0.4706, 0.6118, 0.5333, 0.5020, 0.6118, 0.5333, 0.5020, 0.6118, 0.5647, 0.5020, 0.6275, 0.5647, 0.5020, 0.6275, 0.5647, 0.5020, 0.6275, 0.5647, 0.5020, 0.6275, 0.5333, 0.5020, 0.6275, 0.5333, 0.5020, 0.6275, 0.5333, 0.5020, 0.6118, 0.5333, 0.4706, 0.6118, 0.5333, 0.4078, 0.5490, 0.4706, 0.3765, 0.5020, 0.4392, 0.4078, 0.5333, 0.4706, 0.4706, 0.5961, 0.5020, 0.4706, 0.6118, 0.5333, 0.5020, 0.6275, 0.5333, 0.5020, 0.6275, 0.5333, 0.5020, 0.6275, 0.5333, 0.5020, 0.6275, 0.5333, 0.5020, 0.6275, 0.5333, 0.5020, 0.6431, 0.5647, 0.5020, 0.6431, 0.5647, 0.5020, 0.6431, 0.5333, 0.5020, 0.6275, 0.5333, 0.4706, 0.6118, 0.5333, 0.4392, 0.5647, 0.5020, 0.4078, 0.5176, 0.4706, 0.4392, 0.5490, 0.5020, 0.4706, 0.6118, 0.5333, 0.5020, 0.6275, 0.5333, 0.5020, 0.6275, 0.5333, 0.5020, 0.6275, 0.5333, 0.5020, 0.6275, 0.5333, 0.5020, 0.6275, 0.5333, 0.5020, 0.6275, 0.5333, 0.5020, 0.6275, 0.5647, 0.5020, 0.6275, 0.5647, 0.5020, 0.6275, 0.5647, 0.5020, 0.6275, 0.5333, 0.5020, 0.6275, 0.5647, 0.4706, 0.5961, 0.5333, 0.4392, 0.5647, 0.5020, 0.4706, 0.5804, 0.5333, 0.5020, 0.6275, 0.5333, 0.5020, 0.6275, 0.5333, 0.5020, 0.6275, 0.5333, 0.5020, 0.6275, 0.5333, 0.5020, 0.6275, 0.5333, 0.5020, 0.6275, 0.5333, 0.5020, 0.6275, 0.5333, 0.5020, 0.6275, 0.5647, 0.5020, 0.6275, 0.5333, 0.5020, 0.6275, 0.5333, 0.5020, 0.6275, 0.5333, 0.4706, 0.6275, 0.5647, 0.4706, 0.5961, 0.5333, 0.4392, 0.5804, 0.5020, 0.4706, 0.5961, 0.5333, 0.5020, 0.6275, 0.5333, 0.5020, 0.6275, 0.5333, 0.5020, 0.6275, 0.5333, 0.5020, 0.6431, 0.5647, 0.5020, 0.6275, 0.5647, 0.5020, 0.6275, 0.5333, 0.5020, 0.6275, 0.5333, 0.5020, 0.6275, 0.5333, 0.5020, 0.6275, 0.5333, 0.5020, 0.6275, 0.5333, 0.5020, 0.6118, 0.5333, 0.4706, 0.5961, 0.5333, 0.4078, 0.5490, 0.4706, 0.4078, 0.5333, 0.4706, 0.4392, 0.5804, 0.5020, 0.5020, 0.6275, 0.5333, 0.5020, 0.6275, 0.5647, 0.5020, 0.6275, 0.5647, 0.5020, 0.6275, 0.5647, 0.5020, 0.6275, 0.5647, 0.5020, 0.6275, 0.5647, 0.5020, 0.6275, 0.5647, 0.5020, 0.6275, 0.5647, 0.5020, 0.6275, 0.5647, 0.5020, 0.6275, 0.5333, 0.4706, 0.6118, 0.5333, 0.4392, 0.5804, 0.5333, 0.3765, 0.5176, 0.4392, 0.3765, 0.5176, 0.4392, 0.4706, 0.5804, 0.5020, 0.5020, 0.6275, 0.5333, 0.5020, 0.6275, 0.5647, 0.5020, 0.6431, 0.5647, 0.5020, 0.6275, 0.5647, 0.5020, 0.6275, 0.5647, 0.5020, 0.6275, 0.5647, 0.5020, 0.6275, 0.5647, 0.5020, 0.6431, 0.5647, 0.5020, 0.6275, 0.5647, 0.5020, 0.6275, 0.5333, 0.4706, 0.6118, 0.5333, 0.4392, 0.5804, 0.5020, 0.3765, 0.5176, 0.4392, 0.3765, 0.5176, 0.4392, 0.4706, 0.5804, 0.5020, 0.5020, 0.6275, 0.5333, 0.5020, 0.6431, 0.5647, 0.5020, 0.6431, 0.5647, 0.5020, 0.6275, 0.5333, 0.5020, 0.6275, 0.5647, 0.5020, 0.6275, 0.5647, 0.5020, 0.6275, 0.5647, 0.5020, 0.6275, 0.5647, 0.5020, 0.6431, 0.5647, 0.5020, 0.6431, 0.5333, 0.5020, 0.6275, 0.5333, 0.4706, 0.5647, 0.5020, 0.4078, 0.5176, 0.4706, 0.4078, 0.5176, 0.4706, 0.4706, 0.5804, 0.5333, 0.5020, 0.6275, 0.5647, 0.5020, 0.6275, 0.5647, 0.5020, 0.6275, 0.5333, 0.5020, 0.6275, 0.5647, 0.5020, 0.6275, 0.5647, 0.5020, 0.6275, 0.5647, 0.5020, 0.6275, 0.5647, 0.5020, 0.6431, 0.5647, 0.5020, 0.6431, 0.5647, 0.5020, 0.6431, 0.5647, 0.4706, 0.6275, 0.5333, 0.4392, 0.5647, 0.5020, 0.4078, 0.5176, 0.4392, 0.4078, 0.5333, 0.4706, 0.4706, 0.5961, 0.5333, 0.5020, 0.6275, 0.5647, 0.5020, 0.6275, 0.5647, 0.5020, 0.6275, 0.5647, 0.5020, 0.6431, 0.5647, 0.5020, 0.6431, 0.5647, 0.5020, 0.6275, 0.5647, 0.5020, 0.6275, 0.5647, 0.5020, 0.6431, 0.5647, 0.5020, 0.6431, 0.5647, 0.5020, 0.6431, 0.5647, 0.5020, 0.6275, 0.5333, 0.4392, 0.5647, 0.5020, 0.4078, 0.5176, 0.4706, 0.4078, 0.5490, 0.5020, 0.4706, 0.6118, 0.5333, 0.5020, 0.6275, 0.5647, 0.5020, 0.6275, 0.5647, 0.5020, 0.6431, 0.5647, 0.5020, 0.6431, 0.5647, 0.5020, 0.6431, 0.5647, 0.5020, 0.6431, 0.5647, 0.5020, 0.6431, 0.5647, 0.5020, 0.6431, 0.5647, 0.5020, 0.6431, 0.5647, 0.5020, 0.6431, 0.5647, 0.5020, 0.6275, 0.5333, 0.4706, 0.5804, 0.5333, 0.4078, 0.5333, 0.5020, 0.4392, 0.5647, 0.5020, 0.4706, 0.6118, 0.5333, 0.5020, 0.6275, 0.5647, 0.5020, 0.6431, 0.5647, 0.5020, 0.6275, 0.5647, 0.5020, 0.6275, 0.5647, 0.5020, 0.6431, 0.5647, 0.5020, 0.6431, 0.5647, 0.5020, 0.6431, 0.5647, 0.5020, 0.6431, 0.5647, 0.5020, 0.6431, 0.5647, 0.5020, 0.6275, 0.5647, 0.5020, 0.6275, 0.5647, 0.4706, 0.5961, 0.5333, 0.4392, 0.5647, 0.5020, 0.4392, 0.5804, 0.5333, 0.4706, 0.6275, 0.5647, 0.5020, 0.6275, 0.5647, 0.5020, 0.6275, 0.5647, 0.5020, 0.6275, 0.5647, 0.5020, 0.6275, 0.5647, 0.5020, 0.6275, 0.5647, 0.5020, 0.6275, 0.5647, 0.5020, 0.6275, 0.5647, 0.5020, 0.6118, 0.5647, 0.5020, 0.6118, 0.5647, 0.5020, 0.6118, 0.5647, 0.5020, 0.6118, 0.5647, 0.5020, 0.6118, 0.5333, 0.4706, 0.5961, 0.5333, 0.4706, 0.5961, 0.5333, 0.5020, 0.6118, 0.5647, 0.5020, 0.6275, 0.5647, 0.5020, 0.6275, 0.5647, 0.5020, 0.6275, 0.5647, 0.5020, 0.5961, 0.5333, 0.5020, 0.5961, 0.5333, 0.5020, 0.5961, 0.5333, 0.5020, 0.5961, 0.5333, 0.5020, 0.5804, 0.5647, 0.5020, 0.5804, 0.5647, 0.5020, 0.5961, 0.5333, 0.5020, 0.5961, 0.5333, 0.4706, 0.5961, 0.5333, 0.4706, 0.5961, 0.5333, 0.5020, 0.5961, 0.5333, 0.5020, 0.5961, 0.5333, 0.5020, 0.6118, 0.5333, 0.5020, 0.6118, 0.5333, 0.5020, 0.6118, 0.5333, 0.4706, 0.5804, 0.5020, 0.4706, 0.5804, 0.5020, 0.4706, 0.5647, 0.5020, 0.4706, 0.5647, 0.5020, 0.4706, 0.5647, 0.5333, 0.4706, 0.5647, 0.5333, 0.4706, 0.5804, 0.5020, 0.4706, 0.5804, 0.5020, 0.4706, 0.5804, 0.5333, 0.4706, 0.5804, 0.5020, 0.4706, 0.5804, 0.5020, 0.5020, 0.5804, 0.5020, 0.4706, 0.5804, 0.5020, 0.4706, 0.5961, 0.5020, 0.4706, 0.5804, 0.5020]"
   ]
  },
  {
   "cell_type": "code",
   "execution_count": 197,
   "metadata": {},
   "outputs": [],
   "source": [
    "# model_path = \"digit_model_quant.tflite\"\n",
    "model_path = \"digit_model_quant.tflite_int8.tflite\""
   ]
  },
  {
   "cell_type": "code",
   "execution_count": 198,
   "metadata": {},
   "outputs": [],
   "source": [
    "# Load TFLite model and allocate tensors.\n",
    "interpreter = tf.lite.Interpreter(model_path=model_path)\n",
    "\n",
    "# Get input and output tensors.\n",
    "input_details = interpreter.get_input_details()\n",
    "output_details = interpreter.get_output_details()\n"
   ]
  },
  {
   "cell_type": "code",
   "execution_count": 199,
   "metadata": {},
   "outputs": [
    {
     "name": "stdout",
     "output_type": "stream",
     "text": [
      "\n",
      "Input details:\n",
      "[{'name': 'input_6', 'index': 0, 'shape': array([ 1, 25, 15,  3], dtype=int32), 'shape_signature': array([-1, 25, 15,  3], dtype=int32), 'dtype': <class 'numpy.int8'>, 'quantization': (0.0013533256715163589, -128), 'quantization_parameters': {'scales': array([0.0014], dtype=float32), 'zero_points': array([-128], dtype=int32), 'quantized_dimension': 0}, 'sparsity_parameters': {}}]\n",
      "\n",
      "Output details:\n",
      "[{'name': 'Identity', 'index': 21, 'shape': array([ 1, 10], dtype=int32), 'shape_signature': array([-1, 10], dtype=int32), 'dtype': <class 'numpy.int8'>, 'quantization': (0.00390625, -128), 'quantization_parameters': {'scales': array([0.0039], dtype=float32), 'zero_points': array([-128], dtype=int32), 'quantized_dimension': 0}, 'sparsity_parameters': {}}]\n",
      "\n"
     ]
    }
   ],
   "source": [
    "# Allocate tensors\n",
    "interpreter.allocate_tensors()\n",
    "\n",
    "# Print the input and output details of the model\n",
    "print()\n",
    "print(\"Input details:\")\n",
    "print(input_details)\n",
    "print()\n",
    "print(\"Output details:\")\n",
    "print(output_details)\n",
    "print()"
   ]
  },
  {
   "cell_type": "code",
   "execution_count": 200,
   "metadata": {},
   "outputs": [
    {
     "name": "stdout",
     "output_type": "stream",
     "text": [
      "Input scale: 0.0013533256715163589\n",
      "Input zero point: -128\n",
      "\n"
     ]
    }
   ],
   "source": [
    "# Convert features to NumPy array\n",
    "np_features = np.array(features)\n",
    "np_features = np_features.reshape(25,15,3)\n",
    "\n",
    "# If the expected input type is int8 (quantized model), rescale data\n",
    "input_type = input_details[0]['dtype']\n",
    "if input_type == np.int8:\n",
    "    input_scale, input_zero_point = input_details[0]['quantization']\n",
    "    print(\"Input scale:\", input_scale)\n",
    "    print(\"Input zero point:\", input_zero_point)\n",
    "    print()\n",
    "    np_features = (np_features / input_scale) + input_zero_point\n",
    "    np_features = np.around(np_features)\n",
    "    "
   ]
  },
  {
   "cell_type": "code",
   "execution_count": 201,
   "metadata": {},
   "outputs": [],
   "source": [
    "# Convert features to NumPy array of expected type\n",
    "np_features = np_features.astype(input_type)\n",
    "\n",
    "# Add dimension to input sample (TFLite model expects (# samples, data))\n",
    "np_features = np.expand_dims(np_features, axis=0)"
   ]
  },
  {
   "cell_type": "code",
   "execution_count": 202,
   "metadata": {},
   "outputs": [],
   "source": [
    "# Create input tensor out of raw features\n",
    "interpreter.set_tensor(input_details[0]['index'], np_features)\n",
    "\n",
    "# Run inference\n",
    "interpreter.invoke()\n"
   ]
  },
  {
   "cell_type": "code",
   "execution_count": 203,
   "metadata": {},
   "outputs": [],
   "source": [
    "# output_details[0]['index'] = the index which provides the input\n",
    "output = interpreter.get_tensor(output_details[0]['index'])\n"
   ]
  },
  {
   "cell_type": "code",
   "execution_count": 204,
   "metadata": {},
   "outputs": [
    {
     "name": "stdout",
     "output_type": "stream",
     "text": [
      "Raw output scores: [[-119  105 -128 -119 -128 -128 -122 -128 -128 -128]]\n",
      "Output scale: 0.00390625\n",
      "Output zero point: -128\n",
      "\n",
      "Inference output: [[0.0352 0.9102 0.     0.0352 0.     0.     0.0234 0.     0.     0.    ]]\n"
     ]
    }
   ],
   "source": [
    "# If the output type is int8 (quantized model), rescale data\n",
    "output_type = output_details[0]['dtype']\n",
    "if output_type == np.int8:\n",
    "    output_scale, output_zero_point = output_details[0]['quantization']\n",
    "    print(\"Raw output scores:\", output)\n",
    "    print(\"Output scale:\", output_scale)\n",
    "    print(\"Output zero point:\", output_zero_point)\n",
    "    print()\n",
    "    output = output_scale * (output.astype(np.float32) - output_zero_point)\n",
    "\n",
    "# Print the results of inference\n",
    "print(\"Inference output:\", output)"
   ]
  },
  {
   "cell_type": "code",
   "execution_count": 196,
   "metadata": {},
   "outputs": [
    {
     "name": "stdout",
     "output_type": "stream",
     "text": [
      "Inference output: [[0. 1. 0. 0. 0. 0. 0. 0. 0. 0.]]\n"
     ]
    }
   ],
   "source": [
    "# If the output type is int8 (quantized model), rescale data\n",
    "output_type = output_details[0]['dtype']\n",
    "if output_type == np.int8:\n",
    "    output_scale, output_zero_point = output_details[0]['quantization']\n",
    "    print(\"Raw output scores:\", output)\n",
    "    print(\"Output scale:\", output_scale)\n",
    "    print(\"Output zero point:\", output_zero_point)\n",
    "    print()\n",
    "    output = output_scale * (output.astype(np.float32) - output_zero_point)\n",
    "\n",
    "# Print the results of inference\n",
    "print(\"Inference output:\", output)"
   ]
  },
  {
   "cell_type": "code",
   "execution_count": 174,
   "metadata": {},
   "outputs": [],
   "source": [
    "Input_dir='/home/george/Documents/2022/tinyml/presentation/tiny-fsdl/ml/data/raw_images/fine/1_1_2affa617-0eca-431a-91a1-02d742f67213.jpg'"
   ]
  },
  {
   "cell_type": "code",
   "execution_count": 175,
   "metadata": {},
   "outputs": [],
   "source": [
    "test_image = Image.open(Input_dir)\n",
    "test_image = np.array(test_image, dtype=\"float32\")"
   ]
  },
  {
   "cell_type": "code",
   "execution_count": 176,
   "metadata": {},
   "outputs": [
    {
     "data": {
      "text/plain": [
       "list"
      ]
     },
     "execution_count": 176,
     "metadata": {},
     "output_type": "execute_result"
    }
   ],
   "source": [
    "type(features)"
   ]
  },
  {
   "cell_type": "code",
   "execution_count": 177,
   "metadata": {},
   "outputs": [
    {
     "data": {
      "text/plain": [
       "array([[[0.502 , 0.6118, 0.5333],\n",
       "        [0.502 , 0.6431, 0.5647],\n",
       "        [0.5333, 0.6431, 0.5647],\n",
       "        ...,\n",
       "        [0.502 , 0.6431, 0.5333],\n",
       "        [0.502 , 0.6431, 0.5333],\n",
       "        [0.502 , 0.6431, 0.5647]],\n",
       "\n",
       "       [[0.502 , 0.6118, 0.5333],\n",
       "        [0.502 , 0.6275, 0.5647],\n",
       "        [0.502 , 0.6275, 0.5647],\n",
       "        ...,\n",
       "        [0.502 , 0.6275, 0.5647],\n",
       "        [0.502 , 0.6431, 0.5647],\n",
       "        [0.5333, 0.6431, 0.5647]],\n",
       "\n",
       "       [[0.4706, 0.6118, 0.5333],\n",
       "        [0.502 , 0.6275, 0.5333],\n",
       "        [0.502 , 0.6275, 0.5333],\n",
       "        ...,\n",
       "        [0.502 , 0.6275, 0.5333],\n",
       "        [0.502 , 0.6275, 0.5647],\n",
       "        [0.502 , 0.6431, 0.5333]],\n",
       "\n",
       "       ...,\n",
       "\n",
       "       [[0.502 , 0.6275, 0.5647],\n",
       "        [0.502 , 0.6275, 0.5647],\n",
       "        [0.502 , 0.6275, 0.5647],\n",
       "        ...,\n",
       "        [0.502 , 0.6275, 0.5647],\n",
       "        [0.502 , 0.6275, 0.5647],\n",
       "        [0.502 , 0.6275, 0.5647]],\n",
       "\n",
       "       [[0.502 , 0.5961, 0.5333],\n",
       "        [0.502 , 0.5961, 0.5333],\n",
       "        [0.502 , 0.5961, 0.5333],\n",
       "        ...,\n",
       "        [0.502 , 0.6118, 0.5333],\n",
       "        [0.502 , 0.6118, 0.5333],\n",
       "        [0.502 , 0.6118, 0.5333]],\n",
       "\n",
       "       [[0.4706, 0.5804, 0.502 ],\n",
       "        [0.4706, 0.5804, 0.502 ],\n",
       "        [0.4706, 0.5647, 0.502 ],\n",
       "        ...,\n",
       "        [0.4706, 0.5804, 0.502 ],\n",
       "        [0.4706, 0.5961, 0.502 ],\n",
       "        [0.4706, 0.5804, 0.502 ]]])"
      ]
     },
     "execution_count": 177,
     "metadata": {},
     "output_type": "execute_result"
    }
   ],
   "source": [
    "feature = np.array(features).reshape(25,15,3)\n",
    "# new_feat = features.\n",
    "feature"
   ]
  },
  {
   "cell_type": "code",
   "execution_count": 180,
   "metadata": {},
   "outputs": [
    {
     "data": {
      "text/plain": [
       "array([[[126., 158., 137.],\n",
       "        [132., 164., 141.],\n",
       "        [132., 164., 141.],\n",
       "        ...,\n",
       "        [130., 163., 142.],\n",
       "        [129., 163., 139.],\n",
       "        [131., 165., 141.]],\n",
       "\n",
       "       [[123., 155., 134.],\n",
       "        [129., 161., 138.],\n",
       "        [129., 161., 138.],\n",
       "        ...,\n",
       "        [127., 160., 139.],\n",
       "        [128., 162., 138.],\n",
       "        [132., 166., 142.]],\n",
       "\n",
       "       [[123., 155., 134.],\n",
       "        [129., 161., 138.],\n",
       "        [128., 160., 137.],\n",
       "        ...,\n",
       "        [127., 160., 139.],\n",
       "        [127., 161., 137.],\n",
       "        [131., 165., 141.]],\n",
       "\n",
       "       ...,\n",
       "\n",
       "       [[129., 160., 142.],\n",
       "        [129., 160., 142.],\n",
       "        [129., 160., 142.],\n",
       "        ...,\n",
       "        [128., 159., 141.],\n",
       "        [129., 160., 142.],\n",
       "        [129., 160., 142.]],\n",
       "\n",
       "       [[125., 154., 136.],\n",
       "        [125., 154., 136.],\n",
       "        [125., 154., 136.],\n",
       "        ...,\n",
       "        [127., 156., 138.],\n",
       "        [127., 156., 138.],\n",
       "        [127., 156., 138.]],\n",
       "\n",
       "       [[120., 147., 128.],\n",
       "        [119., 146., 129.],\n",
       "        [118., 145., 128.],\n",
       "        ...,\n",
       "        [120., 147., 130.],\n",
       "        [123., 150., 133.],\n",
       "        [120., 147., 130.]]], dtype=float32)"
      ]
     },
     "execution_count": 180,
     "metadata": {},
     "output_type": "execute_result"
    }
   ],
   "source": [
    "test_image"
   ]
  },
  {
   "cell_type": "code",
   "execution_count": 172,
   "metadata": {},
   "outputs": [
    {
     "data": {
      "text/plain": [
       "array([1])"
      ]
     },
     "execution_count": 172,
     "metadata": {},
     "output_type": "execute_result"
    }
   ],
   "source": [
    "img = np.reshape(test_image,[1,25,15,3])\n",
    "classes = np.argmax(model.predict(img), axis=-1)\n",
    "classes"
   ]
  },
  {
   "cell_type": "code",
   "execution_count": null,
   "metadata": {},
   "outputs": [],
   "source": []
  },
  {
   "cell_type": "code",
   "execution_count": 178,
   "metadata": {},
   "outputs": [
    {
     "data": {
      "text/plain": [
       "array([[[0.4941, 0.6196, 0.5373],\n",
       "        [0.5176, 0.6431, 0.5529],\n",
       "        [0.5176, 0.6431, 0.5529],\n",
       "        ...,\n",
       "        [0.5098, 0.6392, 0.5569],\n",
       "        [0.5059, 0.6392, 0.5451],\n",
       "        [0.5137, 0.6471, 0.5529]],\n",
       "\n",
       "       [[0.4824, 0.6078, 0.5255],\n",
       "        [0.5059, 0.6314, 0.5412],\n",
       "        [0.5059, 0.6314, 0.5412],\n",
       "        ...,\n",
       "        [0.498 , 0.6275, 0.5451],\n",
       "        [0.502 , 0.6353, 0.5412],\n",
       "        [0.5176, 0.651 , 0.5569]],\n",
       "\n",
       "       [[0.4824, 0.6078, 0.5255],\n",
       "        [0.5059, 0.6314, 0.5412],\n",
       "        [0.502 , 0.6275, 0.5373],\n",
       "        ...,\n",
       "        [0.498 , 0.6275, 0.5451],\n",
       "        [0.498 , 0.6314, 0.5373],\n",
       "        [0.5137, 0.6471, 0.5529]],\n",
       "\n",
       "       ...,\n",
       "\n",
       "       [[0.5059, 0.6275, 0.5569],\n",
       "        [0.5059, 0.6275, 0.5569],\n",
       "        [0.5059, 0.6275, 0.5569],\n",
       "        ...,\n",
       "        [0.502 , 0.6235, 0.5529],\n",
       "        [0.5059, 0.6275, 0.5569],\n",
       "        [0.5059, 0.6275, 0.5569]],\n",
       "\n",
       "       [[0.4902, 0.6039, 0.5333],\n",
       "        [0.4902, 0.6039, 0.5333],\n",
       "        [0.4902, 0.6039, 0.5333],\n",
       "        ...,\n",
       "        [0.498 , 0.6118, 0.5412],\n",
       "        [0.498 , 0.6118, 0.5412],\n",
       "        [0.498 , 0.6118, 0.5412]],\n",
       "\n",
       "       [[0.4706, 0.5765, 0.502 ],\n",
       "        [0.4667, 0.5725, 0.5059],\n",
       "        [0.4627, 0.5686, 0.502 ],\n",
       "        ...,\n",
       "        [0.4706, 0.5765, 0.5098],\n",
       "        [0.4824, 0.5882, 0.5216],\n",
       "        [0.4706, 0.5765, 0.5098]]], dtype=float32)"
      ]
     },
     "execution_count": 178,
     "metadata": {},
     "output_type": "execute_result"
    }
   ],
   "source": [
    "test_image / 255"
   ]
  },
  {
   "cell_type": "code",
   "execution_count": 179,
   "metadata": {},
   "outputs": [
    {
     "data": {
      "text/plain": [
       "array([1])"
      ]
     },
     "execution_count": 179,
     "metadata": {},
     "output_type": "execute_result"
    }
   ],
   "source": [
    "img = np.reshape(test_image,[1,25,15,3])\n",
    "classes = np.argmax(model.predict(img), axis=-1)\n",
    "classes"
   ]
  },
  {
   "cell_type": "code",
   "execution_count": null,
   "metadata": {},
   "outputs": [],
   "source": []
  }
 ],
 "metadata": {
  "kernelspec": {
   "display_name": "Python 3 (ipykernel)",
   "language": "python",
   "name": "python3"
  },
  "language_info": {
   "codemirror_mode": {
    "name": "ipython",
    "version": 3
   },
   "file_extension": ".py",
   "mimetype": "text/x-python",
   "name": "python",
   "nbconvert_exporter": "python",
   "pygments_lexer": "ipython3",
   "version": "3.8.10"
  }
 },
 "nbformat": 4,
 "nbformat_minor": 2
}
