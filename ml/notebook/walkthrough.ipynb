{
 "cells": [
  {
   "cell_type": "markdown",
   "metadata": {},
   "source": [
    "# Tiny FSDL Walkthrough"
   ]
  },
  {
   "cell_type": "code",
   "execution_count": null,
   "metadata": {},
   "outputs": [],
   "source": [
    "from tiny_fsdl import Preprocess \n",
    "\n",
    "\n",
    "input_dir = \"./ml/data/raw_images/data1\"\n",
    "output_dir = \"./ml/data/processed_images/data1\"\n",
    "\n",
    "# Relative locations\n",
    "y = 11\n",
    "w = 15\n",
    "h = 25\n",
    "digits_before = 4\n",
    "digits_after = 2\n",
    "x_before = 46\n",
    "x_after = 89\n",
    "    \n",
    "preprocess = Preprocess(y, w, h)\n",
    "preprocess.start(\n",
    "    input_dir=input_dir,\n",
    "    output_dir=output_dir,\n",
    "    digits_before=digits_before,\n",
    "    digits_after=digits_after,\n",
    "    x_before=x_before,\n",
    "    x_after=x_after,\n",
    ")"
   ]
  },
  {
   "cell_type": "markdown",
   "metadata": {},
   "source": [
    "## Train"
   ]
  },
  {
   "cell_type": "code",
   "execution_count": null,
   "metadata": {},
   "outputs": [],
   "source": [
    "from tiny_fsdl.train import prep_data\n",
    "from tiny_fsdl.train import Trainer\n",
    "\n",
    "\n",
    "# General Params\n",
    "seed = 1337\n",
    "\n",
    "# Data Params\n",
    "label_dir = \"../ml/data/raw_images/labeled_bmp_data/\"\n",
    "split_dir = \"../ml/data/raw_images/split_data/\"\n",
    "split_ratio = (0.7, 0.2, 0.1)\n",
    "\n",
    "# Training Params\n",
    "model_output_dir = \"../ml/models/\"\n",
    "model_filename = \"digit_model.h5\"\n",
    "num_classes = 10\n",
    "batch_size = 32\n",
    "img_size = (15, 25)\n",
    "base_learning_rate = 0.001\n",
    "epochs = 100\n",
    "\n",
    "train_dataset, validation_dataset, test_dataset = prep_data(\n",
    "    label_dir, \n",
    "    split_dir, \n",
    "    split_ratio, \n",
    "    batch_size, \n",
    "    img_size, \n",
    "    seed\n",
    ")\n",
    "trainer = Trainer(train_dataset, validation_dataset, test_dataset)\n",
    "trainer.build_model(img_size, num_classes)\n",
    "trainer.evaluate(validation=True, test=False)\n",
    "trainer.train(epochs=epochs)\n",
    "trainer.evaluate(validation=True, test=True)\n",
    "trainer.save_model(output_dir=model_output_dir, filename=\"digit_model.h5\")"
   ]
  },
  {
   "cell_type": "markdown",
   "metadata": {},
   "source": [
    "## Convert to TFLite and Quantize"
   ]
  },
  {
   "cell_type": "code",
   "execution_count": 5,
   "metadata": {},
   "outputs": [],
   "source": [
    "from tiny_fsdl.quantize import quantize_model, representative_dataset, test_quantized_model\n",
    "\n",
    "quantized_path = \"../ml/models/digit_model_quantized.tflite\"\n",
    "\n",
    "orig_model_path = os.path.join(model_output_dir, \"digit_model.h5\")\n",
    "representative_dataset = representative_dataset()\n",
    "tflite_model = quantize_model(model_ou, representative_dataset)\n",
    "\n",
    "test_quantized_model()"
   ]
  },
  {
   "cell_type": "code",
   "execution_count": null,
   "metadata": {},
   "outputs": [],
   "source": []
  }
 ],
 "metadata": {
  "kernelspec": {
   "display_name": "Python 3.10.6 ('tiny-fsdl-PoytRv9w-py3.10')",
   "language": "python",
   "name": "python3"
  },
  "language_info": {
   "codemirror_mode": {
    "name": "ipython",
    "version": 3
   },
   "file_extension": ".py",
   "mimetype": "text/x-python",
   "name": "python",
   "nbconvert_exporter": "python",
   "pygments_lexer": "ipython3",
   "version": "3.10.6"
  },
  "orig_nbformat": 4,
  "vscode": {
   "interpreter": {
    "hash": "a365a175b15decf98d7f49d4750032cbf867b32b8f2bf88f5f6f4b41ab66fc1d"
   }
  }
 },
 "nbformat": 4,
 "nbformat_minor": 2
}
