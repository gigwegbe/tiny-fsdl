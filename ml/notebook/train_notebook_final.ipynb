{
 "cells": [
  {
   "cell_type": "code",
   "execution_count": 3,
   "id": "5dec66b2",
   "metadata": {},
   "outputs": [],
   "source": [
    "# Import dependencies\n",
    "import matplotlib.pyplot as plt\n",
    "import numpy as np\n",
    "import cv2\n",
    "import os\n",
    "import tensorflow as tf\n",
    "import warnings\n",
    "warnings.filterwarnings('ignore')\n",
    "\n",
    "from tensorflow.keras import Model\n",
    "from tensorflow.keras.optimizers import Adam\n",
    "from tensorflow.keras.preprocessing.image import img_to_array\n",
    "from tensorflow.keras.preprocessing.image import load_img\n",
    "from tensorflow.keras.preprocessing import image_dataset_from_directory\n",
    "from tensorflow.keras.layers import Flatten, Dense, Input, ReLU\n",
    "from tensorflow.keras.models import Sequential\n",
    "from tensorflow.keras.callbacks import EarlyStopping\n",
    "import splitfolders\n",
    "import glob\n",
    "from PIL import Image"
   ]
  },
  {
   "cell_type": "code",
   "execution_count": 4,
   "id": "6519037b",
   "metadata": {},
   "outputs": [],
   "source": [
    "splitfolders.ratio('../data/raw_images/labelled_bmp_data/', output=\"../data/raw_images/split_data\", \n",
    "                   seed=1337, ratio=(0.7,0.2,0.1)) "
   ]
  },
  {
   "cell_type": "code",
   "execution_count": 5,
   "id": "c1d238b6",
   "metadata": {},
   "outputs": [],
   "source": [
    "path_to_dataset = '../data/raw_images/split_data/'\n",
    "PATH = os.path.join(os.path.dirname(path_to_dataset))\n",
    "train_dir = os.path.join(PATH, 'train')\n",
    "validation_dir = os.path.join(PATH, 'val')\n",
    "\n",
    "num_classes = 10\n",
    "BATCH_SIZE = 32\n",
    "IMG_SIZE = (15, 25)"
   ]
  },
  {
   "cell_type": "code",
   "execution_count": 8,
   "id": "04c64856",
   "metadata": {},
   "outputs": [
    {
     "name": "stdout",
     "output_type": "stream",
     "text": [
      "Found 2168 files belonging to 10 classes.\n"
     ]
    }
   ],
   "source": [
    "# Train dataset \n",
    "train_dataset = image_dataset_from_directory(train_dir,\n",
    "                                             shuffle=True,\n",
    "                                             seed=123,\n",
    "                                             batch_size=BATCH_SIZE,\n",
    "                                             image_size=IMG_SIZE)\n"
   ]
  },
  {
   "cell_type": "code",
   "execution_count": 9,
   "id": "dfbb7fab",
   "metadata": {},
   "outputs": [
    {
     "name": "stdout",
     "output_type": "stream",
     "text": [
      "Found 616 files belonging to 10 classes.\n"
     ]
    }
   ],
   "source": [
    "# Validation dataset\n",
    "validation_dataset = image_dataset_from_directory(validation_dir,\n",
    "                                                  shuffle=True,\n",
    "                                                  seed=123,\n",
    "                                                  batch_size=BATCH_SIZE,\n",
    "                                                  image_size=IMG_SIZE)\n"
   ]
  },
  {
   "cell_type": "code",
   "execution_count": 10,
   "id": "1c58854c",
   "metadata": {},
   "outputs": [
    {
     "name": "stdout",
     "output_type": "stream",
     "text": [
      "WARNING:tensorflow:Please add `keras.layers.InputLayer` instead of `keras.Input` to Sequential model. `keras.Input` is intended to be used by Functional model.\n"
     ]
    }
   ],
   "source": [
    "# Model - Keep it simple\n",
    "model = tf.keras.Sequential([\n",
    "        tf.keras.Input(shape=(IMG_SIZE[0], IMG_SIZE[1], 3)),\n",
    "        tf.keras.layers.Conv2D(32, kernel_size=3, kernel_constraint=tf.keras.constraints.MaxNorm(1), padding='same', activation='relu'),\n",
    "        tf.keras.layers.MaxPooling2D(pool_size=2, strides=2, padding='same'),\n",
    "        tf.keras.layers.Conv2D(16, kernel_size=3, kernel_constraint=tf.keras.constraints.MaxNorm(1), padding='same', activation='relu'),\n",
    "        tf.keras.layers.MaxPooling2D(pool_size=2, strides=2, padding='same'),\n",
    "        tf.keras.layers.Flatten(),\n",
    "        tf.keras.layers.Dropout(0.25),\n",
    "        tf.keras.layers.Dense(num_classes, activation=tf.nn.softmax)\n",
    "    ])"
   ]
  },
  {
   "cell_type": "code",
   "execution_count": 11,
   "id": "5d119318",
   "metadata": {},
   "outputs": [],
   "source": [
    "val_batches = tf.data.experimental.cardinality(validation_dataset)\n",
    "test_dataset = validation_dataset.take(val_batches // 5)\n",
    "validation_dataset = validation_dataset.skip(val_batches // 5)"
   ]
  },
  {
   "cell_type": "code",
   "execution_count": 13,
   "id": "c79fb50c",
   "metadata": {},
   "outputs": [
    {
     "data": {
      "image/png": "[encoded data removed]",
      "text/plain": [
       "<Figure size 720x720 with 9 Axes>"
      ]
     },
     "metadata": {
      "needs_background": "light"
     },
     "output_type": "display_data"
    }
   ],
   "source": [
    "# Visualize the dataset \n",
    "class_names = train_dataset.class_names\n",
    "\n",
    "plt.figure(figsize=(10, 10))\n",
    "for images, labels in train_dataset.take(1):\n",
    "    for i in range(9):\n",
    "        ax = plt.subplot(3, 3, i + 1)\n",
    "        plt.imshow(images[i].numpy().astype(\"uint8\"))\n",
    "        plt.title(class_names[labels[i]])\n",
    "        plt.axis(\"off\")"
   ]
  },
  {
   "cell_type": "code",
   "execution_count": 14,
   "id": "18c3ebdb",
   "metadata": {},
   "outputs": [],
   "source": [
    "def normalize_image(image,label):\n",
    "    image = tf.cast(image/255. ,tf.float32)\n",
    "    return image,label"
   ]
  },
  {
   "cell_type": "code",
   "execution_count": 15,
   "id": "ff060400",
   "metadata": {},
   "outputs": [],
   "source": [
    "train_dataset = train_dataset.map(normalize_image)\n",
    "validation_dataset = validation_dataset.map(normalize_image)"
   ]
  },
  {
   "cell_type": "code",
   "execution_count": 16,
   "id": "a39d4063",
   "metadata": {},
   "outputs": [],
   "source": [
    "# Hyperparameter \n",
    "base_learning_rate = 0.001\n",
    "initial_epochs = 2\n",
    "\n",
    "# Compile the model \n",
    "model.compile(optimizer=tf.keras.optimizers.Adam(lr=base_learning_rate,beta_1=0.9, beta_2=0.999),\n",
    "              loss=tf.keras.losses.SparseCategoricalCrossentropy(from_logits=False),\n",
    "              metrics=['accuracy'])"
   ]
  },
  {
   "cell_type": "code",
   "execution_count": 17,
   "id": "5131e3ed",
   "metadata": {},
   "outputs": [
    {
     "name": "stdout",
     "output_type": "stream",
     "text": [
      "Model: \"sequential\"\n",
      "_________________________________________________________________\n",
      "Layer (type)                 Output Shape              Param #   \n",
      "=================================================================\n",
      "conv2d (Conv2D)              (None, 15, 25, 32)        896       \n",
      "_________________________________________________________________\n",
      "max_pooling2d (MaxPooling2D) (None, 8, 13, 32)         0         \n",
      "_________________________________________________________________\n",
      "conv2d_1 (Conv2D)            (None, 8, 13, 16)         4624      \n",
      "_________________________________________________________________\n",
      "max_pooling2d_1 (MaxPooling2 (None, 4, 7, 16)          0         \n",
      "_________________________________________________________________\n",
      "flatten (Flatten)            (None, 448)               0         \n",
      "_________________________________________________________________\n",
      "dropout (Dropout)            (None, 448)               0         \n",
      "_________________________________________________________________\n",
      "dense (Dense)                (None, 10)                4490      \n",
      "=================================================================\n",
      "Total params: 10,010\n",
      "Trainable params: 10,010\n",
      "Non-trainable params: 0\n",
      "_________________________________________________________________\n"
     ]
    }
   ],
   "source": [
    "model.summary()"
   ]
  },
  {
   "cell_type": "code",
   "execution_count": 18,
   "id": "2b0e19ea",
   "metadata": {},
   "outputs": [
    {
     "name": "stdout",
     "output_type": "stream",
     "text": [
      "16/16 [==============================] - 0s 2ms/step - loss: 2.3274 - accuracy: 0.0738\n"
     ]
    }
   ],
   "source": [
    "# Evaluate model before training \n",
    "loss0, accuracy0 = model.evaluate(validation_dataset)"
   ]
  },
  {
   "cell_type": "code",
   "execution_count": 19,
   "id": "48eae80e",
   "metadata": {},
   "outputs": [
    {
     "name": "stdout",
     "output_type": "stream",
     "text": [
      "Epoch 1/2\n",
      "68/68 [==============================] - 1s 5ms/step - loss: 2.0822 - accuracy: 0.2601 - val_loss: 2.0432 - val_accuracy: 0.2992\n",
      "Epoch 2/2\n",
      "68/68 [==============================] - 0s 5ms/step - loss: 2.0366 - accuracy: 0.2984 - val_loss: 2.0102 - val_accuracy: 0.2910\n"
     ]
    }
   ],
   "source": [
    "# Train model \n",
    "history = model.fit(train_dataset,\n",
    "                    epochs=initial_epochs,\n",
    "                    validation_data=validation_dataset)"
   ]
  },
  {
   "cell_type": "code",
   "execution_count": 20,
   "id": "e3b8a9e0",
   "metadata": {},
   "outputs": [
    {
     "data": {
      "image/png": "[encoded data removed]",
      "text/plain": [
       "<Figure size 576x576 with 2 Axes>"
      ]
     },
     "metadata": {
      "needs_background": "light"
     },
     "output_type": "display_data"
    }
   ],
   "source": [
    "acc = history.history['accuracy']\n",
    "val_acc = history.history['val_accuracy']\n",
    "\n",
    "loss = history.history['loss']\n",
    "val_loss = history.history['val_loss']\n",
    "\n",
    "plt.figure(figsize=(8, 8))\n",
    "plt.subplot(2, 1, 1)\n",
    "plt.plot(acc, label='Training Accuracy')\n",
    "plt.plot(val_acc, label='Validation Accuracy')\n",
    "plt.legend(loc='lower right')\n",
    "plt.ylabel('Accuracy')\n",
    "plt.ylim([min(plt.ylim()),1])\n",
    "plt.title('Training and Validation Accuracy')\n",
    "\n",
    "plt.subplot(2, 1, 2)\n",
    "plt.plot(loss, label='Training Loss')\n",
    "plt.plot(val_loss, label='Validation Loss')\n",
    "plt.legend(loc='upper right')\n",
    "plt.ylabel('Cross Entropy')\n",
    "plt.ylim([0,1.0])\n",
    "plt.title('Training and Validation Loss')\n",
    "plt.xlabel('epoch')\n",
    "plt.show()"
   ]
  },
  {
   "cell_type": "code",
   "execution_count": 21,
   "id": "5c551df2",
   "metadata": {},
   "outputs": [],
   "source": [
    "def scheduler(epoch, lr):\n",
    "    if epoch < 10:\n",
    "         return lr\n",
    "    else:\n",
    "        return lr * tf.math.exp(-0.1)"
   ]
  },
  {
   "cell_type": "code",
   "execution_count": 22,
   "id": "98ccff7e",
   "metadata": {},
   "outputs": [
    {
     "name": "stdout",
     "output_type": "stream",
     "text": [
      "Epoch 2/102\n",
      "68/68 [==============================] - 0s 5ms/step - loss: 1.9879 - accuracy: 0.3017 - val_loss: 1.9923 - val_accuracy: 0.2951\n",
      "Epoch 3/102\n",
      "68/68 [==============================] - 0s 5ms/step - loss: 1.9110 - accuracy: 0.3519 - val_loss: 1.8766 - val_accuracy: 0.3053\n",
      "Epoch 4/102\n",
      "68/68 [==============================] - 0s 5ms/step - loss: 1.8039 - accuracy: 0.4174 - val_loss: 1.6846 - val_accuracy: 0.4652\n",
      "Epoch 5/102\n",
      "68/68 [==============================] - 0s 5ms/step - loss: 1.5831 - accuracy: 0.5111 - val_loss: 1.3841 - val_accuracy: 0.5328\n",
      "Epoch 6/102\n",
      "68/68 [==============================] - 0s 5ms/step - loss: 1.2242 - accuracy: 0.6176 - val_loss: 1.0105 - val_accuracy: 0.7643\n",
      "Epoch 7/102\n",
      "68/68 [==============================] - 0s 5ms/step - loss: 0.8857 - accuracy: 0.7560 - val_loss: 0.6617 - val_accuracy: 0.9057\n",
      "Epoch 8/102\n",
      "68/68 [==============================] - 0s 5ms/step - loss: 0.6510 - accuracy: 0.8280 - val_loss: 0.4533 - val_accuracy: 0.8893\n",
      "Epoch 9/102\n",
      "68/68 [==============================] - 0s 5ms/step - loss: 0.4799 - accuracy: 0.8718 - val_loss: 0.3465 - val_accuracy: 0.9713\n",
      "Epoch 10/102\n",
      "68/68 [==============================] - 0s 6ms/step - loss: 0.3850 - accuracy: 0.9087 - val_loss: 0.2641 - val_accuracy: 0.9795\n",
      "Epoch 11/102\n",
      "68/68 [==============================] - 0s 5ms/step - loss: 0.3292 - accuracy: 0.9230 - val_loss: 0.2183 - val_accuracy: 0.9734\n",
      "Epoch 12/102\n",
      "68/68 [==============================] - 0s 6ms/step - loss: 0.2666 - accuracy: 0.9410 - val_loss: 0.1858 - val_accuracy: 0.9775\n",
      "Epoch 13/102\n",
      "68/68 [==============================] - 0s 6ms/step - loss: 0.2333 - accuracy: 0.9474 - val_loss: 0.1606 - val_accuracy: 0.9898\n",
      "Epoch 14/102\n",
      "68/68 [==============================] - 0s 5ms/step - loss: 0.2051 - accuracy: 0.9539 - val_loss: 0.1413 - val_accuracy: 0.9939\n",
      "Epoch 15/102\n",
      "68/68 [==============================] - 0s 5ms/step - loss: 0.2010 - accuracy: 0.9543 - val_loss: 0.1260 - val_accuracy: 0.9898\n",
      "Epoch 16/102\n",
      "68/68 [==============================] - 0s 5ms/step - loss: 0.1761 - accuracy: 0.9622 - val_loss: 0.1182 - val_accuracy: 0.9918\n",
      "Epoch 17/102\n",
      "68/68 [==============================] - 0s 5ms/step - loss: 0.1658 - accuracy: 0.9603 - val_loss: 0.1142 - val_accuracy: 0.9918\n",
      "Epoch 18/102\n",
      "68/68 [==============================] - 0s 5ms/step - loss: 0.1471 - accuracy: 0.9700 - val_loss: 0.0945 - val_accuracy: 0.9939\n",
      "Epoch 19/102\n",
      "68/68 [==============================] - 0s 5ms/step - loss: 0.1406 - accuracy: 0.9723 - val_loss: 0.0921 - val_accuracy: 0.9959\n",
      "Epoch 20/102\n",
      "68/68 [==============================] - 0s 5ms/step - loss: 0.1333 - accuracy: 0.9765 - val_loss: 0.0860 - val_accuracy: 0.9939\n",
      "Epoch 21/102\n",
      "68/68 [==============================] - 0s 5ms/step - loss: 0.1239 - accuracy: 0.9737 - val_loss: 0.0854 - val_accuracy: 0.9939\n",
      "Epoch 22/102\n",
      "68/68 [==============================] - 0s 5ms/step - loss: 0.1207 - accuracy: 0.9779 - val_loss: 0.0810 - val_accuracy: 0.9939\n",
      "Epoch 23/102\n",
      "68/68 [==============================] - 0s 5ms/step - loss: 0.1133 - accuracy: 0.9774 - val_loss: 0.0797 - val_accuracy: 0.9918\n",
      "Epoch 24/102\n",
      "68/68 [==============================] - 0s 5ms/step - loss: 0.1145 - accuracy: 0.9783 - val_loss: 0.0746 - val_accuracy: 0.9959\n",
      "Epoch 25/102\n",
      "68/68 [==============================] - 0s 5ms/step - loss: 0.1112 - accuracy: 0.9779 - val_loss: 0.0706 - val_accuracy: 0.9959\n",
      "Epoch 26/102\n",
      "68/68 [==============================] - 0s 5ms/step - loss: 0.1023 - accuracy: 0.9797 - val_loss: 0.0695 - val_accuracy: 0.9939\n",
      "Epoch 27/102\n",
      "68/68 [==============================] - 0s 5ms/step - loss: 0.1014 - accuracy: 0.9852 - val_loss: 0.0783 - val_accuracy: 0.9898\n"
     ]
    }
   ],
   "source": [
    "# Further finetuning\n",
    "fine_tune_epochs = 100\n",
    "total_epochs =  initial_epochs + fine_tune_epochs\n",
    "scheduler_cb = tf.keras.callbacks.LearningRateScheduler(scheduler)\n",
    "custom_early_stopping = EarlyStopping(\n",
    "    monitor='val_accuracy', \n",
    "    patience=8, \n",
    "    min_delta=0.001, \n",
    "    mode='max'\n",
    ")\n",
    "\n",
    "\n",
    "history_fine = model.fit(train_dataset,\n",
    "                         epochs=total_epochs,\n",
    "                         initial_epoch=history.epoch[-1],\n",
    "                         validation_data=validation_dataset,\n",
    "                         callbacks=[custom_early_stopping,scheduler_cb])"
   ]
  },
  {
   "cell_type": "code",
   "execution_count": 23,
   "id": "5bb4c844",
   "metadata": {},
   "outputs": [],
   "source": [
    "acc += history_fine.history['accuracy']\n",
    "val_acc += history_fine.history['val_accuracy']\n",
    "\n",
    "loss += history_fine.history['loss']\n",
    "val_loss += history_fine.history['val_loss']"
   ]
  },
  {
   "cell_type": "code",
   "execution_count": 24,
   "id": "79c0da32",
   "metadata": {},
   "outputs": [
    {
     "data": {
      "image/png": "[encoded data removed]",
      "text/plain": [
       "<Figure size 576x576 with 2 Axes>"
      ]
     },
     "metadata": {
      "needs_background": "light"
     },
     "output_type": "display_data"
    }
   ],
   "source": [
    "plt.figure(figsize=(8, 8))\n",
    "plt.subplot(2, 1, 1)\n",
    "plt.plot(acc, label='Training Accuracy')\n",
    "plt.plot(val_acc, label='Validation Accuracy')\n",
    "plt.ylim([0.8, 1])\n",
    "plt.plot([initial_epochs-1,initial_epochs-1],\n",
    "          plt.ylim(), label='Start Fine Tuning')\n",
    "plt.legend(loc='lower right')\n",
    "plt.title('Training and Validation Accuracy')\n",
    "\n",
    "plt.subplot(2, 1, 2)\n",
    "plt.plot(loss, label='Training Loss')\n",
    "plt.plot(val_loss, label='Validation Loss')\n",
    "plt.ylim([0, 1.0])\n",
    "plt.plot([initial_epochs-1,initial_epochs-1],\n",
    "         plt.ylim(), label='Start Fine Tuning')\n",
    "plt.legend(loc='upper right')\n",
    "plt.title('Training and Validation Loss')\n",
    "plt.xlabel('epoch')\n",
    "plt.show()"
   ]
  },
  {
   "cell_type": "code",
   "execution_count": 25,
   "id": "6633e422",
   "metadata": {},
   "outputs": [
    {
     "name": "stdout",
     "output_type": "stream",
     "text": [
      "4/4 [==============================] - 0s 2ms/step - loss: 2.2744 - accuracy: 0.9688\n",
      "Test accuracy : 0.96875\n"
     ]
    }
   ],
   "source": [
    "loss, accuracy = model.evaluate(test_dataset)\n",
    "print('Test accuracy :', accuracy)"
   ]
  },
  {
   "cell_type": "code",
   "execution_count": 26,
   "id": "fe9e6a6f",
   "metadata": {},
   "outputs": [],
   "source": [
    "#To quantize the input and output tensors, and make the converter throw an error if it encounters an \n",
    "# operation it cannot quantize, convert the model again with some additional parameters\n",
    "def representative_dataset():\n",
    "    for _ in range(100):\n",
    "        data = np.random.rand(1, IMG_SIZE[0], IMG_SIZE[1], 3)\n",
    "        yield [data.astype(np.float32)]"
   ]
  },
  {
   "cell_type": "code",
   "execution_count": 27,
   "id": "70a6e3c1",
   "metadata": {},
   "outputs": [],
   "source": [
    "# Save model \n",
    "model.save('digit_model.h5')"
   ]
  },
  {
   "cell_type": "code",
   "execution_count": 30,
   "id": "cb7f8524",
   "metadata": {},
   "outputs": [
    {
     "name": "stdout",
     "output_type": "stream",
     "text": [
      "INFO:tensorflow:Assets written to: /tmp/tmp9pegbwn4/assets\n"
     ]
    },
    {
     "name": "stderr",
     "output_type": "stream",
     "text": [
      "INFO:tensorflow:Assets written to: /tmp/tmp9pegbwn4/assets\n",
      "2022-10-10 08:31:35.154455: I tensorflow/core/grappler/devices.cc:69] Number of eligible GPUs (core count >= 8, compute capability >= 0.0): 0\n",
      "2022-10-10 08:31:35.154628: I tensorflow/core/grappler/clusters/single_machine.cc:357] Starting new session\n",
      "2022-10-10 08:31:35.155965: I tensorflow/core/grappler/optimizers/meta_optimizer.cc:1144] Optimization results for grappler item: graph_to_optimize\n",
      "  function_optimizer: function_optimizer did nothing. time = 0.007ms.\n",
      "  function_optimizer: function_optimizer did nothing. time = 0.001ms.\n",
      "\n",
      "2022-10-10 08:31:35.190897: W tensorflow/compiler/mlir/lite/python/tf_tfl_flatbuffer_helpers.cc:345] Ignored output_format.\n",
      "2022-10-10 08:31:35.190925: W tensorflow/compiler/mlir/lite/python/tf_tfl_flatbuffer_helpers.cc:348] Ignored drop_control_dependency.\n",
      "fully_quantize: 0, inference_type: 6, input_inference_type: 9, output_inference_type: 9\n"
     ]
    }
   ],
   "source": [
    "# Load saved model \n",
    "model=tf.keras.models.load_model(\"digit_model.h5\")\n",
    "\n",
    "# Apply model compression -  integer-only quantization¶\n",
    "converter = tf.lite.TFLiteConverter.from_keras_model(model)\n",
    "converter.optimizations = [tf.lite.Optimize.DEFAULT]\n",
    "converter.representative_dataset = representative_dataset\n",
    "converter.target_spec.supported_ops = [tf.lite.OpsSet.TFLITE_BUILTINS_INT8]\n",
    "converter.inference_input_type = tf.int8  # or tf.uint8\n",
    "converter.inference_output_type = tf.int8  # or tf.uint8\n",
    "tflite_quant_model = converter.convert()"
   ]
  },
  {
   "cell_type": "code",
   "execution_count": 31,
   "id": "0bef26f8",
   "metadata": {},
   "outputs": [
    {
     "data": {
      "text/plain": [
       "14552"
      ]
     },
     "execution_count": 31,
     "metadata": {},
     "output_type": "execute_result"
    }
   ],
   "source": [
    "# Save quantized model \n",
    "open(\"digit_model_quantized.tflite\", \"wb\").write(tflite_quant_model)"
   ]
  },
  {
   "cell_type": "code",
   "execution_count": null,
   "id": "4efa9a7e",
   "metadata": {},
   "outputs": [],
   "source": [
    "# Load the TFLite model and allocate tensors.\n",
    "interpreter = tf.lite.Interpreter(model_path=\"digit_model_quantized.tflite\")\n",
    "interpreter.allocate_tensors()\n",
    "\n",
    "# Get input and output tensors.\n",
    "input_details = interpreter.get_input_details()\n",
    "output_details = interpreter.get_output_details()\n",
    "\n",
    "# # Test the model on random input data.\n",
    "input_shape = input_details[0]['shape']\n",
    "input_data = np.array(np.random.random_sample(input_shape), dtype=np.int8)\n",
    "interpreter.set_tensor(input_details[0]['index'], input_data)\n",
    "\n",
    "interpreter.invoke()\n",
    "\n",
    "# The function `get_tensor()` returns a copy of the tensor data.\n",
    "# Use `tensor()` in order to get a pointer to the tensor.\n",
    "output_data = interpreter.get_tensor(output_details[0]['index'])\n",
    "print(output_data)"
   ]
  },
  {
   "cell_type": "code",
   "execution_count": null,
   "id": "8bbd56cc",
   "metadata": {},
   "outputs": [],
   "source": [
    "input_data.shape"
   ]
  },
  {
   "cell_type": "code",
   "execution_count": null,
   "id": "e3ccc706",
   "metadata": {},
   "outputs": [],
   "source": [
    "print(input_details)"
   ]
  },
  {
   "cell_type": "code",
   "execution_count": null,
   "id": "0e1a73d4",
   "metadata": {},
   "outputs": [],
   "source": [
    "print(output_details)"
   ]
  },
  {
   "cell_type": "code",
   "execution_count": null,
   "id": "2e134f35",
   "metadata": {},
   "outputs": [],
   "source": [
    "print(input_shape)"
   ]
  },
  {
   "cell_type": "code",
   "execution_count": null,
   "id": "afc7ff6d",
   "metadata": {},
   "outputs": [],
   "source": [
    "print(input_data)"
   ]
  }
 ],
 "metadata": {
  "kernelspec": {
   "display_name": "Python 3 (ipykernel)",
   "language": "python",
   "name": "python3"
  },
  "language_info": {
   "codemirror_mode": {
    "name": "ipython",
    "version": 3
   },
   "file_extension": ".py",
   "mimetype": "text/x-python",
   "name": "python",
   "nbconvert_exporter": "python",
   "pygments_lexer": "ipython3",
   "version": "3.8.10"
  }
 },
 "nbformat": 4,
 "nbformat_minor": 5
}
